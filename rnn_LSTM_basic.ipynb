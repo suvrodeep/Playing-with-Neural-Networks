{
 "cells": [
  {
   "cell_type": "code",
   "execution_count": 1,
   "metadata": {},
   "outputs": [],
   "source": [
    "import os\n",
    "import numpy as np\n",
    "import pandas as pd\n",
    "import seaborn as sns\n",
    "import tensorflow as tf\n",
    "from tensorflow.keras import backend\n",
    "from sklearn.preprocessing import MinMaxScaler\n",
    "from tensorflow.keras.preprocessing.sequence import TimeseriesGenerator\n",
    "from tensorflow.keras.callbacks import EarlyStopping\n",
    "from tensorflow.keras.models import Sequential\n",
    "from tensorflow.keras.layers import Dense, SimpleRNN, LSTM"
   ]
  },
  {
   "cell_type": "code",
   "execution_count": 2,
   "metadata": {},
   "outputs": [],
   "source": [
    "# Generate data\n",
    "def gen_data():\n",
    "    x = np.linspace(0, 50, 501)\n",
    "    y = np.sin(x)\n",
    "    df = pd.DataFrame(data=y, index=x, columns=['Sine'])\n",
    "    \n",
    "    return df"
   ]
  },
  {
   "cell_type": "code",
   "execution_count": 3,
   "metadata": {},
   "outputs": [],
   "source": [
    "def train_test_split(df, test_perct=0.1, scale=False):\n",
    "    test_point = np.round(len(df) * test_perct)\n",
    "    test_index = int(len(df) - test_point)\n",
    "    train = df.iloc[:test_index]\n",
    "    test = df.iloc[test_index:]\n",
    "    \n",
    "    if scale:\n",
    "        scaler = MinMaxScaler()\n",
    "        scaler.fit(train)\n",
    "        scaled_train = scaler.transform(train)\n",
    "        scaled_test = scaler.transform(test)\n",
    "        \n",
    "        return scaled_train, scaled_test\n",
    "    else:\n",
    "        return train, test"
   ]
  },
  {
   "cell_type": "code",
   "execution_count": 4,
   "metadata": {},
   "outputs": [],
   "source": [
    "class make_generator:\n",
    "     \n",
    "    def __init__(self, gen_name, val_split=0.1):\n",
    "        if (gen_name == 'train_val') | (gen_name == 'test'):\n",
    "            self.gen_name = gen_name\n",
    "            self.val_split = val_split\n",
    "        else:\n",
    "            print(\"Not a valid Generator name\")\n",
    "        \n",
    "    def generator(self, data, length, batch_size=1):\n",
    "        gen_name = self.gen_name\n",
    "        val_split = self.val_split\n",
    "        \n",
    "        if gen_name == 'train_val':\n",
    "            val_point = np.round(len(data) * val_split)\n",
    "            val_index = int(len(data) - val_point)\n",
    "            train_data = data[:val_index]\n",
    "            val_data = data[val_index:]\n",
    "            \n",
    "            if len(val_data) <= length:\n",
    "                print(\"Length is equal to or less than validation data length. Please reduce Length or increase validation split\")\n",
    "                return None\n",
    "            else:\n",
    "                train_generator = TimeseriesGenerator(train_data, train_data, length=length, batch_size=batch_size)\n",
    "                val_generator = TimeseriesGenerator(val_data, val_data, length=length, batch_size=batch_size)\n",
    "                return train_generator, val_generator\n",
    "        else:\n",
    "            test_generator = TimeseriesGenerator(data, data, length=length, batch_size=batch_size)\n",
    "            return test_generator"
   ]
  },
  {
   "cell_type": "code",
   "execution_count": 5,
   "metadata": {},
   "outputs": [],
   "source": [
    "# Prepare GPU\n",
    "def prep_devices():\n",
    "    phy_gpus = tf.config.list_physical_devices(device_type='GPU')\n",
    "    \n",
    "    for gpu in phy_gpus:\n",
    "        tf.config.experimental.set_memory_growth(device=gpu, enable=True)\n",
    "\n",
    "    log_gpus = tf.config.list_logical_devices(device_type='GPU')\n",
    "    phy_cpus = tf.config.list_physical_devices(device_type='CPU')\n",
    "    log_cpus = tf.config.list_logical_devices(device_type='CPU')\n",
    "\n",
    "    print(\"Physical GPUs: {}\\tLogical GPUs: {}\\nPhysical CPUs: {}\\tLogical CPUs: {}\".format(len(phy_gpus),\n",
    "                                                                                             len(log_gpus),\n",
    "                                                                                             len(phy_cpus),\n",
    "                                                                                             len(log_cpus)))"
   ]
  },
  {
   "cell_type": "code",
   "execution_count": 6,
   "metadata": {},
   "outputs": [],
   "source": [
    "# Build model\n",
    "def model_func(length, n_features, clear_session=True):\n",
    "    if clear_session:\n",
    "        backend.clear_session()\n",
    "            \n",
    "    model = Sequential()\n",
    "    \n",
    "    model.add(SimpleRNN(50, input_shape=(length, n_features)))\n",
    "    model.add(Dense(1))\n",
    "    \n",
    "    model.summary()\n",
    "    \n",
    "    return model"
   ]
  },
  {
   "cell_type": "code",
   "execution_count": 7,
   "metadata": {},
   "outputs": [
    {
     "name": "stdout",
     "output_type": "stream",
     "text": [
      "Physical GPUs: 1\tLogical GPUs: 1\n",
      "Physical CPUs: 1\tLogical CPUs: 1\n"
     ]
    }
   ],
   "source": [
    "os.environ['TF_CPP_MIN_LOG_LEVEL'] = '1'\n",
    "prep_devices()"
   ]
  },
  {
   "cell_type": "code",
   "execution_count": 9,
   "metadata": {},
   "outputs": [],
   "source": [
    "actual_data = gen_data()\n",
    "train_set, test_set = train_test_split(df=actual_data, scale=True)"
   ]
  },
  {
   "cell_type": "code",
   "execution_count": 12,
   "metadata": {},
   "outputs": [],
   "source": [
    "train_gen, val_gen = make_generator(gen_name='train_val', val_split=0.2).generator(data=train_set, length=length)\n",
    "test_gen = make_generator(gen_name='test').generator(data=test_set, length=length)"
   ]
  },
  {
   "cell_type": "code",
   "execution_count": null,
   "metadata": {},
   "outputs": [
    {
     "name": "stdout",
     "output_type": "stream",
     "text": [
      "Model: \"sequential\"\n",
      "_________________________________________________________________\n",
      "Layer (type)                 Output Shape              Param #   \n",
      "=================================================================\n",
      "simple_rnn (SimpleRNN)       (None, 50)                2600      \n",
      "_________________________________________________________________\n",
      "dense (Dense)                (None, 1)                 51        \n",
      "=================================================================\n",
      "Total params: 2,651\n",
      "Trainable params: 2,651\n",
      "Non-trainable params: 0\n",
      "_________________________________________________________________\n",
      "Epoch 1/20\n",
      "312/312 [==============================] - 7s 21ms/step - loss: 0.0076 - val_loss: 5.6931e-05\n",
      "Epoch 2/20\n",
      "312/312 [==============================] - 6s 21ms/step - loss: 7.3966e-05 - val_loss: 5.2777e-06\n",
      "Epoch 3/20\n",
      "312/312 [==============================] - 7s 21ms/step - loss: 3.8691e-04 - val_loss: 8.2447e-04\n",
      "Epoch 4/20\n",
      "181/312 [================>.............] - ETA: 2s - loss: 1.2713e-04"
     ]
    }
   ],
   "source": [
    "# Fit model\n",
    "length = 49\n",
    "n_features = 1\n",
    "\n",
    "model = model_func(length=length, n_features=n_features)\n",
    "model.compile(loss='mse', optimizer='adam')\n",
    "\n",
    "early_stop = EarlyStopping(monitor='val_loss', mode='min', patience=5, restore_best_weights=True)\n",
    "model.fit(train_gen, validation_data=val_gen, epochs=20, callbacks=[early_stop])"
   ]
  },
  {
   "cell_type": "code",
   "execution_count": null,
   "metadata": {},
   "outputs": [],
   "source": []
  }
 ],
 "metadata": {
  "kernelspec": {
   "display_name": "Python 3 (ipykernel)",
   "language": "python",
   "name": "python3"
  },
  "language_info": {
   "codemirror_mode": {
    "name": "ipython",
    "version": 3
   },
   "file_extension": ".py",
   "mimetype": "text/x-python",
   "name": "python",
   "nbconvert_exporter": "python",
   "pygments_lexer": "ipython3",
   "version": "3.8.10"
  }
 },
 "nbformat": 4,
 "nbformat_minor": 4
}
