{
 "cells": [
  {
   "cell_type": "code",
   "execution_count": 1,
   "id": "cfd60c17-7e45-47bf-8d63-cae5207feadd",
   "metadata": {},
   "outputs": [],
   "source": [
    "import os\n",
    "import tensorflow as tf\n",
    "from tensorflow.keras.datasets import fashion_mnist\n",
    "import matplotlib.pyplot as plt\n",
    "from tensorflow import keras\n",
    "from tensorflow.keras.models import Sequential\n",
    "from tensorflow.keras.layers import Dense, Conv2D, MaxPool2D, Flatten, Dropout\n",
    "from tensorflow.keras.callbacks import EarlyStopping\n",
    "from tensorflow.keras import backend\n",
    "import pandas as pd\n",
    "import numpy as np\n",
    "import seaborn as sns\n",
    "from sklearn.metrics import confusion_matrix\n",
    "from sklearn.metrics import classification_report"
   ]
  },
  {
   "cell_type": "code",
   "execution_count": 2,
   "id": "8bbc1ff1-e154-4773-b964-5db6f42ba0bd",
   "metadata": {},
   "outputs": [],
   "source": [
    "# Load data\n",
    "(x_train, y_train), (x_test, y_test) = fashion_mnist.load_data()"
   ]
  },
  {
   "cell_type": "code",
   "execution_count": 3,
   "id": "64a6d1b6-29dd-4371-b623-b3ef6656447e",
   "metadata": {
    "tags": []
   },
   "outputs": [
    {
     "data": {
      "text/plain": [
       "(28, 28)"
      ]
     },
     "execution_count": 3,
     "metadata": {},
     "output_type": "execute_result"
    }
   ],
   "source": [
    "# Check dimensions of image\n",
    "x_train[0].shape"
   ]
  },
  {
   "cell_type": "code",
   "execution_count": 4,
   "id": "b53e639c-c105-4446-8483-0a11b6725740",
   "metadata": {
    "tags": []
   },
   "outputs": [
    {
     "data": {
      "text/plain": [
       "<matplotlib.image.AxesImage at 0x7f4daffc4790>"
      ]
     },
     "execution_count": 4,
     "metadata": {},
     "output_type": "execute_result"
    },
    {
     "data": {
      "image/png": "[encoded data removed]",
      "text/plain": [
       "<Figure size 432x288 with 1 Axes>"
      ]
     },
     "metadata": {
      "needs_background": "light"
     },
     "output_type": "display_data"
    }
   ],
   "source": [
    "# View a sample image\n",
    "plt.imshow(x_train[10])"
   ]
  },
  {
   "cell_type": "code",
   "execution_count": 5,
   "id": "825b240a-79b2-4a93-a5af-ba572a7e05f0",
   "metadata": {
    "tags": []
   },
   "outputs": [],
   "source": [
    "##################################################\n",
    "# Explore training data and labels\n",
    "##################################################"
   ]
  },
  {
   "cell_type": "code",
   "execution_count": 6,
   "id": "2e555217-4097-41b6-a5b9-b2a4b192ed17",
   "metadata": {
    "scrolled": true,
    "tags": []
   },
   "outputs": [
    {
     "data": {
      "text/plain": [
       "array([[[0, 0, 0, ..., 0, 0, 0],\n",
       "        [0, 0, 0, ..., 0, 0, 0],\n",
       "        [0, 0, 0, ..., 0, 0, 0],\n",
       "        ...,\n",
       "        [0, 0, 0, ..., 0, 0, 0],\n",
       "        [0, 0, 0, ..., 0, 0, 0],\n",
       "        [0, 0, 0, ..., 0, 0, 0]],\n",
       "\n",
       "       [[0, 0, 0, ..., 0, 0, 0],\n",
       "        [0, 0, 0, ..., 0, 0, 0],\n",
       "        [0, 0, 0, ..., 0, 0, 0],\n",
       "        ...,\n",
       "        [0, 0, 0, ..., 0, 0, 0],\n",
       "        [0, 0, 0, ..., 0, 0, 0],\n",
       "        [0, 0, 0, ..., 0, 0, 0]],\n",
       "\n",
       "       [[0, 0, 0, ..., 0, 0, 0],\n",
       "        [0, 0, 0, ..., 0, 0, 0],\n",
       "        [0, 0, 0, ..., 0, 0, 0],\n",
       "        ...,\n",
       "        [0, 0, 0, ..., 0, 0, 0],\n",
       "        [0, 0, 0, ..., 0, 0, 0],\n",
       "        [0, 0, 0, ..., 0, 0, 0]],\n",
       "\n",
       "       ...,\n",
       "\n",
       "       [[0, 0, 0, ..., 0, 0, 0],\n",
       "        [0, 0, 0, ..., 0, 0, 0],\n",
       "        [0, 0, 0, ..., 0, 0, 0],\n",
       "        ...,\n",
       "        [0, 0, 0, ..., 0, 0, 0],\n",
       "        [0, 0, 0, ..., 0, 0, 0],\n",
       "        [0, 0, 0, ..., 0, 0, 0]],\n",
       "\n",
       "       [[0, 0, 0, ..., 0, 0, 0],\n",
       "        [0, 0, 0, ..., 0, 0, 0],\n",
       "        [0, 0, 0, ..., 0, 0, 0],\n",
       "        ...,\n",
       "        [0, 0, 0, ..., 0, 0, 0],\n",
       "        [0, 0, 0, ..., 0, 0, 0],\n",
       "        [0, 0, 0, ..., 0, 0, 0]],\n",
       "\n",
       "       [[0, 0, 0, ..., 0, 0, 0],\n",
       "        [0, 0, 0, ..., 0, 0, 0],\n",
       "        [0, 0, 0, ..., 0, 0, 0],\n",
       "        ...,\n",
       "        [0, 0, 0, ..., 0, 0, 0],\n",
       "        [0, 0, 0, ..., 0, 0, 0],\n",
       "        [0, 0, 0, ..., 0, 0, 0]]], dtype=uint8)"
      ]
     },
     "execution_count": 6,
     "metadata": {},
     "output_type": "execute_result"
    }
   ],
   "source": [
    "x_train"
   ]
  },
  {
   "cell_type": "code",
   "execution_count": 7,
   "id": "0e9e6bb6-db49-4174-b215-8105e7a4a771",
   "metadata": {
    "tags": []
   },
   "outputs": [
    {
     "data": {
      "text/plain": [
       "255"
      ]
     },
     "execution_count": 7,
     "metadata": {},
     "output_type": "execute_result"
    }
   ],
   "source": [
    "x_train[10].max()"
   ]
  },
  {
   "cell_type": "code",
   "execution_count": 8,
   "id": "da912ef1-d89e-4887-82ad-89a51d171c28",
   "metadata": {
    "tags": []
   },
   "outputs": [
    {
     "data": {
      "text/plain": [
       "array([9, 0, 0, ..., 3, 0, 5], dtype=uint8)"
      ]
     },
     "execution_count": 8,
     "metadata": {},
     "output_type": "execute_result"
    }
   ],
   "source": [
    "y_train"
   ]
  },
  {
   "cell_type": "code",
   "execution_count": 9,
   "id": "2ac4e050-9507-475e-9dde-c40af00a680e",
   "metadata": {},
   "outputs": [
    {
     "name": "stdout",
     "output_type": "stream",
     "text": [
      "Train data shape:(60000, 28, 28)\n",
      "Test data shape:(10000, 28, 28)\n"
     ]
    }
   ],
   "source": [
    "print(\"Train data shape:{}\".format(x_train.shape))\n",
    "print(\"Test data shape:{}\".format(x_test.shape))"
   ]
  },
  {
   "cell_type": "code",
   "execution_count": 10,
   "id": "92ec09f9-88aa-4020-a5d6-7a25c09436fa",
   "metadata": {},
   "outputs": [
    {
     "name": "stdout",
     "output_type": "stream",
     "text": [
      "Number of classes training labels:10\n",
      "Unique values in training labels:[9 0 3 2 7 5 1 6 4 8]\n"
     ]
    }
   ],
   "source": [
    "print(\"Number of classes training labels:{}\".format(len(pd.unique(y_train))))\n",
    "print(\"Unique values in training labels:{}\".format(pd.unique(y_train)))"
   ]
  },
  {
   "cell_type": "code",
   "execution_count": 11,
   "id": "34a95fde-a514-4fc7-be02-62a2b1087df8",
   "metadata": {},
   "outputs": [],
   "source": [
    "# Normalize image pixel values\n",
    "x_train = x_train / 255\n",
    "x_test = x_test / 255"
   ]
  },
  {
   "cell_type": "code",
   "execution_count": 12,
   "id": "272ba56c-c05c-44a7-8135-0cc0ef34a4f2",
   "metadata": {},
   "outputs": [],
   "source": [
    "# Prepare one-hot encoded y-values\n",
    "y_train_cat = keras.utils.to_categorical(y=y_train, num_classes=10)\n",
    "y_test_cat = keras.utils.to_categorical(y=y_test, num_classes=10)"
   ]
  },
  {
   "cell_type": "code",
   "execution_count": 13,
   "id": "6e76aad5-bf76-4f47-8c67-9ec02e566adb",
   "metadata": {},
   "outputs": [],
   "source": [
    "# Reshaping data to batch_size, width, height, color_channel\n",
    "x_train = x_train.reshape(60000, 28, 28, 1)\n",
    "x_test = x_test.reshape(10000, 28, 28, 1)"
   ]
  },
  {
   "cell_type": "code",
   "execution_count": 14,
   "id": "d9858381-a719-448b-a03e-40714438b259",
   "metadata": {},
   "outputs": [],
   "source": [
    "# Prepare GPU\n",
    "def prep_devices():\n",
    "    phy_gpus = tf.config.list_physical_devices(device_type='GPU')\n",
    "    \n",
    "    for gpu in phy_gpus:\n",
    "        tf.config.experimental.set_memory_growth(device=gpu, enable=True)\n",
    "\n",
    "    log_gpus = tf.config.list_logical_devices(device_type='GPU')\n",
    "    phy_cpus = tf.config.list_physical_devices(device_type='CPU')\n",
    "    log_cpus = tf.config.list_logical_devices(device_type='CPU')\n",
    "\n",
    "    print(\"Physical GPUs: {}\\tLogical GPUs: {}\\nPhysical CPUs: {}\\tLogical CPUs: {}\".format(len(phy_gpus),\n",
    "                                                                                             len(log_gpus),\n",
    "                                                                                             len(phy_cpus),\n",
    "                                                                                             len(log_cpus)))"
   ]
  },
  {
   "cell_type": "code",
   "execution_count": 15,
   "id": "23d65e6c-8155-4f8c-a23b-62b0087496ea",
   "metadata": {},
   "outputs": [
    {
     "name": "stdout",
     "output_type": "stream",
     "text": [
      "Physical GPUs: 1\tLogical GPUs: 1\n",
      "Physical CPUs: 1\tLogical CPUs: 1\n"
     ]
    }
   ],
   "source": [
    "os.environ['TF_CPP_MIN_LOG_LEVEL'] = '1'\n",
    "prep_devices()"
   ]
  },
  {
   "cell_type": "code",
   "execution_count": 16,
   "id": "746cc73f-60fe-41ff-a869-6503014de9f6",
   "metadata": {},
   "outputs": [],
   "source": [
    "# Build model\n",
    "def model_func(clear_session=True):\n",
    "    if clear_session:\n",
    "        backend.clear_session()\n",
    "            \n",
    "    model = Sequential()\n",
    "    \n",
    "    model.add(Conv2D(filters=32, kernel_size=(2, 2), input_shape=(28, 28, 1), activation='relu'))\n",
    "    model.add(MaxPool2D(pool_size=(2, 2)))\n",
    "    \n",
    "    model.add(Dropout(0.5))\n",
    "    \n",
    "    model.add(Conv2D(filters=32, kernel_size=(2, 2), activation='relu'))\n",
    "    model.add(MaxPool2D(pool_size=(2, 2)))\n",
    "    \n",
    "    model.add(Flatten())\n",
    "    model.add(Dense(64, activation='relu'))\n",
    "    model.add(Dropout(0.5))\n",
    "    model.add(Dense(10, activation='softmax'))\n",
    "    \n",
    "    model.summary()\n",
    "    \n",
    "    return model"
   ]
  },
  {
   "cell_type": "code",
   "execution_count": 17,
   "id": "feba245c-3e22-4d6a-bb91-af05171f9640",
   "metadata": {
    "scrolled": true,
    "tags": []
   },
   "outputs": [
    {
     "name": "stdout",
     "output_type": "stream",
     "text": [
      "Model: \"sequential\"\n",
      "_________________________________________________________________\n",
      "Layer (type)                 Output Shape              Param #   \n",
      "=================================================================\n",
      "conv2d (Conv2D)              (None, 27, 27, 32)        160       \n",
      "_________________________________________________________________\n",
      "max_pooling2d (MaxPooling2D) (None, 13, 13, 32)        0         \n",
      "_________________________________________________________________\n",
      "dropout (Dropout)            (None, 13, 13, 32)        0         \n",
      "_________________________________________________________________\n",
      "conv2d_1 (Conv2D)            (None, 12, 12, 32)        4128      \n",
      "_________________________________________________________________\n",
      "max_pooling2d_1 (MaxPooling2 (None, 6, 6, 32)          0         \n",
      "_________________________________________________________________\n",
      "flatten (Flatten)            (None, 1152)              0         \n",
      "_________________________________________________________________\n",
      "dense (Dense)                (None, 64)                73792     \n",
      "_________________________________________________________________\n",
      "dropout_1 (Dropout)          (None, 64)                0         \n",
      "_________________________________________________________________\n",
      "dense_1 (Dense)              (None, 10)                650       \n",
      "=================================================================\n",
      "Total params: 78,730\n",
      "Trainable params: 78,730\n",
      "Non-trainable params: 0\n",
      "_________________________________________________________________\n",
      "Epoch 1/100\n",
      "108/108 [==============================] - 3s 26ms/step - accuracy: 0.5824 - loss: 1.1605 - val_accuracy: 0.7645 - val_loss: 0.6258\n",
      "Epoch 2/100\n",
      "108/108 [==============================] - 3s 24ms/step - accuracy: 0.7464 - loss: 0.6966 - val_accuracy: 0.8042 - val_loss: 0.5229\n",
      "Epoch 3/100\n",
      "108/108 [==============================] - 3s 24ms/step - accuracy: 0.7752 - loss: 0.6087 - val_accuracy: 0.8238 - val_loss: 0.4628\n",
      "Epoch 4/100\n",
      "108/108 [==============================] - 3s 23ms/step - accuracy: 0.7892 - loss: 0.5682 - val_accuracy: 0.8307 - val_loss: 0.4462\n",
      "Epoch 5/100\n",
      "108/108 [==============================] - 3s 24ms/step - accuracy: 0.8009 - loss: 0.5394 - val_accuracy: 0.8475 - val_loss: 0.4213\n",
      "Epoch 6/100\n",
      "108/108 [==============================] - 3s 24ms/step - accuracy: 0.8071 - loss: 0.5225 - val_accuracy: 0.8497 - val_loss: 0.4050\n",
      "Epoch 7/100\n",
      "108/108 [==============================] - 3s 24ms/step - accuracy: 0.8156 - loss: 0.5033 - val_accuracy: 0.8523 - val_loss: 0.3886\n",
      "Epoch 8/100\n",
      "108/108 [==============================] - 3s 24ms/step - accuracy: 0.8204 - loss: 0.4865 - val_accuracy: 0.8635 - val_loss: 0.3779\n",
      "Epoch 9/100\n",
      "108/108 [==============================] - 3s 24ms/step - accuracy: 0.8248 - loss: 0.4799 - val_accuracy: 0.8633 - val_loss: 0.3692\n",
      "Epoch 10/100\n",
      "108/108 [==============================] - 3s 24ms/step - accuracy: 0.8292 - loss: 0.4692 - val_accuracy: 0.8677 - val_loss: 0.3617\n",
      "Epoch 11/100\n",
      "108/108 [==============================] - 3s 24ms/step - accuracy: 0.8325 - loss: 0.4570 - val_accuracy: 0.8710 - val_loss: 0.3543\n",
      "Epoch 12/100\n",
      "108/108 [==============================] - 3s 24ms/step - accuracy: 0.8350 - loss: 0.4529 - val_accuracy: 0.8722 - val_loss: 0.3519\n",
      "Epoch 13/100\n",
      "108/108 [==============================] - 3s 24ms/step - accuracy: 0.8383 - loss: 0.4451 - val_accuracy: 0.8762 - val_loss: 0.3437\n",
      "Epoch 14/100\n",
      "108/108 [==============================] - 3s 24ms/step - accuracy: 0.8392 - loss: 0.4383 - val_accuracy: 0.8733 - val_loss: 0.3406\n",
      "Epoch 15/100\n",
      "108/108 [==============================] - 3s 23ms/step - accuracy: 0.8431 - loss: 0.4318 - val_accuracy: 0.8780 - val_loss: 0.3339\n",
      "Epoch 16/100\n",
      "108/108 [==============================] - 3s 24ms/step - accuracy: 0.8442 - loss: 0.4294 - val_accuracy: 0.8808 - val_loss: 0.3254\n",
      "Epoch 17/100\n",
      "108/108 [==============================] - 3s 24ms/step - accuracy: 0.8451 - loss: 0.4246 - val_accuracy: 0.8835 - val_loss: 0.3286\n",
      "Epoch 18/100\n",
      "108/108 [==============================] - 3s 24ms/step - accuracy: 0.8491 - loss: 0.4171 - val_accuracy: 0.8822 - val_loss: 0.3241\n",
      "Epoch 19/100\n",
      "108/108 [==============================] - 3s 24ms/step - accuracy: 0.8497 - loss: 0.4123 - val_accuracy: 0.8828 - val_loss: 0.3195\n",
      "Epoch 20/100\n",
      "108/108 [==============================] - 3s 24ms/step - accuracy: 0.8491 - loss: 0.4145 - val_accuracy: 0.8872 - val_loss: 0.3195\n",
      "Epoch 21/100\n",
      "108/108 [==============================] - 3s 24ms/step - accuracy: 0.8558 - loss: 0.4043 - val_accuracy: 0.8843 - val_loss: 0.3159\n",
      "Epoch 22/100\n",
      "108/108 [==============================] - 3s 24ms/step - accuracy: 0.8535 - loss: 0.4017 - val_accuracy: 0.8832 - val_loss: 0.3109\n",
      "Epoch 23/100\n",
      "108/108 [==============================] - 3s 24ms/step - accuracy: 0.8539 - loss: 0.3999 - val_accuracy: 0.8885 - val_loss: 0.3075\n",
      "Epoch 24/100\n",
      "108/108 [==============================] - 3s 24ms/step - accuracy: 0.8576 - loss: 0.3949 - val_accuracy: 0.8897 - val_loss: 0.2993\n",
      "Epoch 25/100\n",
      "108/108 [==============================] - 3s 24ms/step - accuracy: 0.8571 - loss: 0.3934 - val_accuracy: 0.8897 - val_loss: 0.2978\n",
      "Epoch 26/100\n",
      "108/108 [==============================] - 3s 24ms/step - accuracy: 0.8584 - loss: 0.3886 - val_accuracy: 0.8890 - val_loss: 0.3015\n",
      "Epoch 27/100\n",
      "108/108 [==============================] - 3s 25ms/step - accuracy: 0.8638 - loss: 0.3831 - val_accuracy: 0.8900 - val_loss: 0.2994\n",
      "Epoch 28/100\n",
      "108/108 [==============================] - 3s 24ms/step - accuracy: 0.8632 - loss: 0.3782 - val_accuracy: 0.8933 - val_loss: 0.2938\n",
      "Epoch 29/100\n",
      "108/108 [==============================] - 3s 24ms/step - accuracy: 0.8619 - loss: 0.3772 - val_accuracy: 0.8902 - val_loss: 0.2930\n",
      "Epoch 30/100\n",
      "108/108 [==============================] - 3s 25ms/step - accuracy: 0.8628 - loss: 0.3751 - val_accuracy: 0.8955 - val_loss: 0.2883\n",
      "Epoch 31/100\n",
      "108/108 [==============================] - 3s 25ms/step - accuracy: 0.8627 - loss: 0.3728 - val_accuracy: 0.8970 - val_loss: 0.2837\n",
      "Epoch 32/100\n",
      "108/108 [==============================] - 3s 24ms/step - accuracy: 0.8661 - loss: 0.3685 - val_accuracy: 0.8915 - val_loss: 0.2890\n",
      "Epoch 33/100\n",
      "108/108 [==============================] - 3s 25ms/step - accuracy: 0.8660 - loss: 0.3711 - val_accuracy: 0.8952 - val_loss: 0.2864\n",
      "Epoch 34/100\n",
      "108/108 [==============================] - 3s 25ms/step - accuracy: 0.8681 - loss: 0.3640 - val_accuracy: 0.8913 - val_loss: 0.2896\n",
      "Epoch 35/100\n",
      "108/108 [==============================] - 3s 24ms/step - accuracy: 0.8668 - loss: 0.3647 - val_accuracy: 0.8958 - val_loss: 0.2799\n",
      "Epoch 36/100\n",
      "108/108 [==============================] - 3s 24ms/step - accuracy: 0.8688 - loss: 0.3591 - val_accuracy: 0.8982 - val_loss: 0.2806\n",
      "Epoch 37/100\n",
      "108/108 [==============================] - 3s 25ms/step - accuracy: 0.8694 - loss: 0.3585 - val_accuracy: 0.8938 - val_loss: 0.2851\n",
      "Epoch 38/100\n",
      "108/108 [==============================] - 3s 25ms/step - accuracy: 0.8700 - loss: 0.3546 - val_accuracy: 0.9008 - val_loss: 0.2756\n",
      "Epoch 39/100\n",
      "108/108 [==============================] - 3s 24ms/step - accuracy: 0.8714 - loss: 0.3556 - val_accuracy: 0.8992 - val_loss: 0.2750\n",
      "Epoch 40/100\n",
      "108/108 [==============================] - 3s 24ms/step - accuracy: 0.8739 - loss: 0.3505 - val_accuracy: 0.8983 - val_loss: 0.2799\n",
      "Epoch 41/100\n",
      "108/108 [==============================] - 3s 25ms/step - accuracy: 0.8731 - loss: 0.3489 - val_accuracy: 0.9007 - val_loss: 0.2725\n",
      "Epoch 42/100\n",
      "108/108 [==============================] - 3s 24ms/step - accuracy: 0.8738 - loss: 0.3465 - val_accuracy: 0.8990 - val_loss: 0.2753\n",
      "Epoch 43/100\n",
      "108/108 [==============================] - 3s 24ms/step - accuracy: 0.8772 - loss: 0.3456 - val_accuracy: 0.9053 - val_loss: 0.2670\n",
      "Epoch 44/100\n",
      "108/108 [==============================] - 3s 24ms/step - accuracy: 0.8779 - loss: 0.3393 - val_accuracy: 0.9013 - val_loss: 0.2661\n",
      "Epoch 45/100\n",
      "108/108 [==============================] - 3s 24ms/step - accuracy: 0.8751 - loss: 0.3411 - val_accuracy: 0.9040 - val_loss: 0.2619\n",
      "Epoch 46/100\n",
      "108/108 [==============================] - 3s 24ms/step - accuracy: 0.8782 - loss: 0.3366 - val_accuracy: 0.9048 - val_loss: 0.2622\n",
      "Epoch 47/100\n",
      "108/108 [==============================] - 3s 24ms/step - accuracy: 0.8774 - loss: 0.3355 - val_accuracy: 0.9037 - val_loss: 0.2639\n",
      "Epoch 48/100\n",
      "108/108 [==============================] - 3s 25ms/step - accuracy: 0.8796 - loss: 0.3290 - val_accuracy: 0.9052 - val_loss: 0.2624\n",
      "Epoch 49/100\n",
      "108/108 [==============================] - 3s 24ms/step - accuracy: 0.8801 - loss: 0.3301 - val_accuracy: 0.9052 - val_loss: 0.2619\n",
      "Epoch 50/100\n",
      "108/108 [==============================] - 3s 24ms/step - accuracy: 0.8799 - loss: 0.3280 - val_accuracy: 0.9072 - val_loss: 0.2564\n",
      "Epoch 51/100\n",
      "108/108 [==============================] - 3s 24ms/step - accuracy: 0.8805 - loss: 0.3315 - val_accuracy: 0.9052 - val_loss: 0.2595\n",
      "Epoch 52/100\n",
      "108/108 [==============================] - 3s 24ms/step - accuracy: 0.8809 - loss: 0.3267 - val_accuracy: 0.9068 - val_loss: 0.2579\n",
      "Epoch 53/100\n",
      "108/108 [==============================] - 3s 24ms/step - accuracy: 0.8806 - loss: 0.3265 - val_accuracy: 0.9077 - val_loss: 0.2547\n",
      "Epoch 54/100\n",
      "108/108 [==============================] - 3s 25ms/step - accuracy: 0.8818 - loss: 0.3250 - val_accuracy: 0.9093 - val_loss: 0.2512\n",
      "Epoch 55/100\n",
      "108/108 [==============================] - 3s 24ms/step - accuracy: 0.8849 - loss: 0.3179 - val_accuracy: 0.9070 - val_loss: 0.2519\n",
      "Epoch 56/100\n",
      "108/108 [==============================] - 3s 24ms/step - accuracy: 0.8840 - loss: 0.3172 - val_accuracy: 0.9090 - val_loss: 0.2505\n",
      "Epoch 57/100\n",
      "108/108 [==============================] - 3s 24ms/step - accuracy: 0.8862 - loss: 0.3174 - val_accuracy: 0.9087 - val_loss: 0.2511\n",
      "Epoch 58/100\n",
      "108/108 [==============================] - 3s 24ms/step - accuracy: 0.8839 - loss: 0.3159 - val_accuracy: 0.9068 - val_loss: 0.2536\n",
      "Epoch 59/100\n",
      "108/108 [==============================] - 3s 23ms/step - accuracy: 0.8864 - loss: 0.3132 - val_accuracy: 0.9098 - val_loss: 0.2523\n",
      "Epoch 60/100\n",
      "108/108 [==============================] - 3s 24ms/step - accuracy: 0.8861 - loss: 0.3132 - val_accuracy: 0.9100 - val_loss: 0.2462\n",
      "Epoch 61/100\n",
      "108/108 [==============================] - 3s 24ms/step - accuracy: 0.8878 - loss: 0.3087 - val_accuracy: 0.9100 - val_loss: 0.2465\n",
      "Epoch 62/100\n",
      "108/108 [==============================] - 3s 24ms/step - accuracy: 0.8865 - loss: 0.3122 - val_accuracy: 0.9107 - val_loss: 0.2457\n",
      "Epoch 63/100\n",
      "108/108 [==============================] - 3s 25ms/step - accuracy: 0.8873 - loss: 0.3069 - val_accuracy: 0.9088 - val_loss: 0.2521\n",
      "Epoch 64/100\n",
      "108/108 [==============================] - 3s 24ms/step - accuracy: 0.8885 - loss: 0.3057 - val_accuracy: 0.9105 - val_loss: 0.2405\n",
      "Epoch 65/100\n",
      "108/108 [==============================] - 3s 24ms/step - accuracy: 0.8878 - loss: 0.3065 - val_accuracy: 0.9128 - val_loss: 0.2434\n",
      "Epoch 66/100\n",
      "108/108 [==============================] - 3s 24ms/step - accuracy: 0.8874 - loss: 0.3076 - val_accuracy: 0.9113 - val_loss: 0.2440\n",
      "Epoch 67/100\n",
      "108/108 [==============================] - 3s 23ms/step - accuracy: 0.8896 - loss: 0.3013 - val_accuracy: 0.9110 - val_loss: 0.2419\n",
      "Epoch 68/100\n",
      "108/108 [==============================] - 3s 24ms/step - accuracy: 0.8881 - loss: 0.3001 - val_accuracy: 0.9097 - val_loss: 0.2431\n",
      "Epoch 69/100\n",
      "108/108 [==============================] - 3s 24ms/step - accuracy: 0.8887 - loss: 0.3014 - val_accuracy: 0.9077 - val_loss: 0.2447\n"
     ]
    },
    {
     "data": {
      "text/plain": [
       "<tensorflow.python.keras.callbacks.History at 0x7f4d444e7d50>"
      ]
     },
     "execution_count": 17,
     "metadata": {},
     "output_type": "execute_result"
    }
   ],
   "source": [
    "# Fit model\n",
    "model = model_func()\n",
    "model.compile(loss='categorical_crossentropy', optimizer='adam', metrics=['accuracy'])\n",
    "\n",
    "early_stop = EarlyStopping(monitor='val_loss', mode='min', patience=5, restore_best_weights=True)\n",
    "model.fit(x=x_train, y=y_train_cat, epochs=100, validation_split=0.1, batch_size=500, callbacks=[early_stop])"
   ]
  },
  {
   "cell_type": "code",
   "execution_count": 18,
   "id": "2294ef4f-5c96-4c1f-ab56-85e69bd8d482",
   "metadata": {
    "scrolled": true,
    "tags": []
   },
   "outputs": [
    {
     "data": {
      "text/html": [
       "<div>\n",
       "<style scoped>\n",
       "    .dataframe tbody tr th:only-of-type {\n",
       "        vertical-align: middle;\n",
       "    }\n",
       "\n",
       "    .dataframe tbody tr th {\n",
       "        vertical-align: top;\n",
       "    }\n",
       "\n",
       "    .dataframe thead th {\n",
       "        text-align: right;\n",
       "    }\n",
       "</style>\n",
       "<table border=\"1\" class=\"dataframe\">\n",
       "  <thead>\n",
       "    <tr style=\"text-align: right;\">\n",
       "      <th></th>\n",
       "      <th>loss</th>\n",
       "      <th>accuracy</th>\n",
       "      <th>val_loss</th>\n",
       "      <th>val_accuracy</th>\n",
       "    </tr>\n",
       "  </thead>\n",
       "  <tbody>\n",
       "    <tr>\n",
       "      <th>0</th>\n",
       "      <td>1.160522</td>\n",
       "      <td>0.582389</td>\n",
       "      <td>0.625793</td>\n",
       "      <td>0.764500</td>\n",
       "    </tr>\n",
       "    <tr>\n",
       "      <th>1</th>\n",
       "      <td>0.696597</td>\n",
       "      <td>0.746370</td>\n",
       "      <td>0.522888</td>\n",
       "      <td>0.804167</td>\n",
       "    </tr>\n",
       "    <tr>\n",
       "      <th>2</th>\n",
       "      <td>0.608655</td>\n",
       "      <td>0.775204</td>\n",
       "      <td>0.462824</td>\n",
       "      <td>0.823833</td>\n",
       "    </tr>\n",
       "    <tr>\n",
       "      <th>3</th>\n",
       "      <td>0.568170</td>\n",
       "      <td>0.789222</td>\n",
       "      <td>0.446207</td>\n",
       "      <td>0.830667</td>\n",
       "    </tr>\n",
       "    <tr>\n",
       "      <th>4</th>\n",
       "      <td>0.539439</td>\n",
       "      <td>0.800944</td>\n",
       "      <td>0.421344</td>\n",
       "      <td>0.847500</td>\n",
       "    </tr>\n",
       "    <tr>\n",
       "      <th>...</th>\n",
       "      <td>...</td>\n",
       "      <td>...</td>\n",
       "      <td>...</td>\n",
       "      <td>...</td>\n",
       "    </tr>\n",
       "    <tr>\n",
       "      <th>64</th>\n",
       "      <td>0.306525</td>\n",
       "      <td>0.887796</td>\n",
       "      <td>0.243443</td>\n",
       "      <td>0.912833</td>\n",
       "    </tr>\n",
       "    <tr>\n",
       "      <th>65</th>\n",
       "      <td>0.307607</td>\n",
       "      <td>0.887407</td>\n",
       "      <td>0.243951</td>\n",
       "      <td>0.911333</td>\n",
       "    </tr>\n",
       "    <tr>\n",
       "      <th>66</th>\n",
       "      <td>0.301284</td>\n",
       "      <td>0.889593</td>\n",
       "      <td>0.241879</td>\n",
       "      <td>0.911000</td>\n",
       "    </tr>\n",
       "    <tr>\n",
       "      <th>67</th>\n",
       "      <td>0.300128</td>\n",
       "      <td>0.888111</td>\n",
       "      <td>0.243120</td>\n",
       "      <td>0.909667</td>\n",
       "    </tr>\n",
       "    <tr>\n",
       "      <th>68</th>\n",
       "      <td>0.301377</td>\n",
       "      <td>0.888704</td>\n",
       "      <td>0.244688</td>\n",
       "      <td>0.907667</td>\n",
       "    </tr>\n",
       "  </tbody>\n",
       "</table>\n",
       "<p>69 rows × 4 columns</p>\n",
       "</div>"
      ],
      "text/plain": [
       "        loss  accuracy  val_loss  val_accuracy\n",
       "0   1.160522  0.582389  0.625793      0.764500\n",
       "1   0.696597  0.746370  0.522888      0.804167\n",
       "2   0.608655  0.775204  0.462824      0.823833\n",
       "3   0.568170  0.789222  0.446207      0.830667\n",
       "4   0.539439  0.800944  0.421344      0.847500\n",
       "..       ...       ...       ...           ...\n",
       "64  0.306525  0.887796  0.243443      0.912833\n",
       "65  0.307607  0.887407  0.243951      0.911333\n",
       "66  0.301284  0.889593  0.241879      0.911000\n",
       "67  0.300128  0.888111  0.243120      0.909667\n",
       "68  0.301377  0.888704  0.244688      0.907667\n",
       "\n",
       "[69 rows x 4 columns]"
      ]
     },
     "execution_count": 18,
     "metadata": {},
     "output_type": "execute_result"
    }
   ],
   "source": [
    "# Model evaluation\n",
    "metrics = pd.DataFrame(model.history.history)\n",
    "metrics"
   ]
  },
  {
   "cell_type": "code",
   "execution_count": 19,
   "id": "b6d38773-8a41-417b-b21d-8bd860e6fb9c",
   "metadata": {},
   "outputs": [
    {
     "data": {
      "text/plain": [
       "<AxesSubplot:>"
      ]
     },
     "execution_count": 19,
     "metadata": {},
     "output_type": "execute_result"
    },
    {
     "data": {
      "image/png": "[encoded data removed]",
      "text/plain": [
       "<Figure size 432x288 with 1 Axes>"
      ]
     },
     "metadata": {
      "needs_background": "light"
     },
     "output_type": "display_data"
    }
   ],
   "source": [
    "# Evaluate graphically\n",
    "metrics = pd.DataFrame(model.history.history)\n",
    "sns.lineplot(data=metrics[['accuracy', 'val_accuracy']])"
   ]
  },
  {
   "cell_type": "code",
   "execution_count": 20,
   "id": "a8ba4f8b-4151-484a-9129-32cb47681517",
   "metadata": {},
   "outputs": [
    {
     "name": "stdout",
     "output_type": "stream",
     "text": [
      "              precision    recall  f1-score   support\n",
      "\n",
      "           0       0.84      0.87      0.86      1000\n",
      "           1       0.99      0.97      0.98      1000\n",
      "           2       0.86      0.88      0.87      1000\n",
      "           3       0.91      0.91      0.91      1000\n",
      "           4       0.85      0.85      0.85      1000\n",
      "           5       0.99      0.98      0.98      1000\n",
      "           6       0.73      0.69      0.71      1000\n",
      "           7       0.95      0.97      0.96      1000\n",
      "           8       0.98      0.98      0.98      1000\n",
      "           9       0.97      0.96      0.97      1000\n",
      "\n",
      "    accuracy                           0.91     10000\n",
      "   macro avg       0.91      0.91      0.91     10000\n",
      "weighted avg       0.91      0.91      0.91     10000\n",
      "\n",
      "\n",
      "\n",
      "[[873   1  17  20   4   1  80   0   4   0]\n",
      " [  0 973   0  15   3   1   6   0   2   0]\n",
      " [ 18   1 879   6  43   0  53   0   0   0]\n",
      " [ 18   7   8 908  25   0  33   0   1   0]\n",
      " [  0   1  45  26 853   0  74   0   1   0]\n",
      " [  0   0   0   0   0 982   0  11   1   6]\n",
      " [131   1  76  22  71   0 688   0  11   0]\n",
      " [  0   0   0   0   0   6   0 971   1  22]\n",
      " [  2   2   1   2   3   1   5   5 979   0]\n",
      " [  0   0   0   0   0   4   1  30   0 965]]\n"
     ]
    }
   ],
   "source": [
    "# Compute predicted classes and model performance metrics\n",
    "y_pred = np.argmax(model.predict(x_test), axis=-1)\n",
    "\n",
    "print(classification_report(y_true=y_test, y_pred=y_pred))\n",
    "print(\"\\n\")\n",
    "print(confusion_matrix(y_true=y_test, y_pred=y_pred))"
   ]
  },
  {
   "cell_type": "code",
   "execution_count": null,
   "id": "34f6b774-99f9-4a20-bd42-9343b5754249",
   "metadata": {},
   "outputs": [],
   "source": []
  }
 ],
 "metadata": {
  "kernelspec": {
   "display_name": "Python 3 (ipykernel)",
   "language": "python",
   "name": "python3"
  },
  "language_info": {
   "codemirror_mode": {
    "name": "ipython",
    "version": 3
   },
   "file_extension": ".py",
   "mimetype": "text/x-python",
   "name": "python",
   "nbconvert_exporter": "python",
   "pygments_lexer": "ipython3",
   "version": "3.7.4"
  }
 },
 "nbformat": 4,
 "nbformat_minor": 5
}
