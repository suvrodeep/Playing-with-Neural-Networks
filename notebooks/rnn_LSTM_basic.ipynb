{
 "cells": [
  {
   "cell_type": "code",
   "execution_count": 1,
   "metadata": {},
   "outputs": [],
   "source": [
    "import os\n",
    "import numpy as np\n",
    "import pandas as pd\n",
    "import seaborn as sns\n",
    "import tensorflow as tf\n",
    "from tensorflow.keras import backend\n",
    "from sklearn.preprocessing import MinMaxScaler\n",
    "from tensorflow.keras.preprocessing.sequence import TimeseriesGenerator\n",
    "from tensorflow.keras.callbacks import EarlyStopping\n",
    "from tensorflow.keras.models import Sequential\n",
    "from tensorflow.keras.layers import Dense, SimpleRNN, LSTM"
   ]
  },
  {
   "cell_type": "code",
   "execution_count": 2,
   "metadata": {},
   "outputs": [],
   "source": [
    "# Generate data\n",
    "def gen_data():\n",
    "    x = np.linspace(0, 50, 501)\n",
    "    y = np.sin(x)\n",
    "    df = pd.DataFrame(data=y, index=x, columns=['Sine'])\n",
    "    \n",
    "    return df"
   ]
  },
  {
   "cell_type": "code",
   "execution_count": 3,
   "metadata": {},
   "outputs": [],
   "source": [
    "def train_test_split(df, test_perct=0.1, scale=False):\n",
    "    test_point = np.round(len(df) * test_perct)\n",
    "    test_index = int(len(df) - test_point)\n",
    "    train = df.iloc[:test_index]\n",
    "    test = df.iloc[test_index:]\n",
    "    \n",
    "    if scale:\n",
    "        scaler = MinMaxScaler()\n",
    "        scaler.fit(train)\n",
    "        scaled_train = scaler.transform(train)\n",
    "        scaled_test = scaler.transform(test)\n",
    "        \n",
    "        return scaled_train, scaled_test, scaler\n",
    "    else:\n",
    "        return train, test"
   ]
  },
  {
   "cell_type": "code",
   "execution_count": 4,
   "metadata": {},
   "outputs": [],
   "source": [
    "class make_generator:\n",
    "     \n",
    "    def __init__(self, gen_name, val_split=0.1):\n",
    "        if (gen_name == 'train_val') | (gen_name == 'test'):\n",
    "            self.gen_name = gen_name\n",
    "            self.val_split = val_split\n",
    "        else:\n",
    "            print(\"Not a valid Generator class name\")\n",
    "        \n",
    "    def generator(self, data, length, batch_size=1):\n",
    "        gen_name = self.gen_name\n",
    "        val_split = self.val_split\n",
    "        \n",
    "        if gen_name == 'train_val':\n",
    "            val_point = np.round(len(data) * val_split)\n",
    "            val_index = int(len(data) - val_point)\n",
    "            train_data = data[:val_index]\n",
    "            val_data = data[val_index:]\n",
    "            \n",
    "            if len(val_data) <= length:\n",
    "                print(\"Length is equal to or less than validation data length. Please reduce Length or increase validation split\")\n",
    "            else:\n",
    "                train_generator = TimeseriesGenerator(train_data, train_data, length=length, batch_size=batch_size)\n",
    "                val_generator = TimeseriesGenerator(val_data, val_data, length=length, batch_size=batch_size)\n",
    "                return train_generator, val_generator\n",
    "        else:\n",
    "            test_generator = TimeseriesGenerator(data, data, length=length, batch_size=batch_size)\n",
    "            return test_generator"
   ]
  },
  {
   "cell_type": "code",
   "execution_count": 5,
   "metadata": {},
   "outputs": [],
   "source": [
    "# Prepare GPU\n",
    "def prep_devices():\n",
    "    phy_gpus = tf.config.list_physical_devices(device_type='GPU')\n",
    "    \n",
    "    for gpu in phy_gpus:\n",
    "        tf.config.experimental.set_memory_growth(device=gpu, enable=True)\n",
    "\n",
    "    log_gpus = tf.config.list_logical_devices(device_type='GPU')\n",
    "    phy_cpus = tf.config.list_physical_devices(device_type='CPU')\n",
    "    log_cpus = tf.config.list_logical_devices(device_type='CPU')\n",
    "\n",
    "    print(\"Physical GPUs: {}\\tLogical GPUs: {}\\nPhysical CPUs: {}\\tLogical CPUs: {}\".format(len(phy_gpus),\n",
    "                                                                                             len(log_gpus),\n",
    "                                                                                             len(phy_cpus),\n",
    "                                                                                             len(log_cpus)))"
   ]
  },
  {
   "cell_type": "code",
   "execution_count": 6,
   "metadata": {},
   "outputs": [],
   "source": [
    "# Build model\n",
    "def model_func(length, n_features, clear_session=True):\n",
    "    if clear_session:\n",
    "        backend.clear_session()\n",
    "            \n",
    "    model = Sequential()\n",
    "    \n",
    "    model.add(SimpleRNN(50, input_shape=(length, n_features)))\n",
    "    model.add(Dense(1))\n",
    "    \n",
    "    model.summary()\n",
    "    \n",
    "    return model"
   ]
  },
  {
   "cell_type": "code",
   "execution_count": 7,
   "metadata": {},
   "outputs": [
    {
     "name": "stdout",
     "output_type": "stream",
     "text": [
      "Physical GPUs: 1\tLogical GPUs: 1\n",
      "Physical CPUs: 1\tLogical CPUs: 1\n"
     ]
    }
   ],
   "source": [
    "os.environ['TF_CPP_MIN_LOG_LEVEL'] = '1'\n",
    "prep_devices()"
   ]
  },
  {
   "cell_type": "code",
   "execution_count": 17,
   "metadata": {},
   "outputs": [],
   "source": [
    "actual_data = gen_data()\n",
    "train_set, test_set, scaler = train_test_split(df=actual_data, scale=True)"
   ]
  },
  {
   "cell_type": "code",
   "execution_count": 18,
   "metadata": {},
   "outputs": [],
   "source": [
    "length = 45\n",
    "n_features = 1\n",
    "\n",
    "train_gen, val_gen = make_generator(gen_name='train_val', val_split=0.15).generator(data=train_set, length=length)\n",
    "test_gen = make_generator(gen_name='test').generator(data=test_set, length=length)"
   ]
  },
  {
   "cell_type": "code",
   "execution_count": 19,
   "metadata": {
    "scrolled": true,
    "tags": []
   },
   "outputs": [
    {
     "name": "stdout",
     "output_type": "stream",
     "text": [
      "Model: \"sequential\"\n",
      "_________________________________________________________________\n",
      "Layer (type)                 Output Shape              Param #   \n",
      "=================================================================\n",
      "simple_rnn (SimpleRNN)       (None, 50)                2600      \n",
      "_________________________________________________________________\n",
      "dense (Dense)                (None, 1)                 51        \n",
      "=================================================================\n",
      "Total params: 2,651\n",
      "Trainable params: 2,651\n",
      "Non-trainable params: 0\n",
      "_________________________________________________________________\n",
      "Epoch 1/20\n",
      "338/338 [==============================] - 7s 20ms/step - loss: 0.0040 - val_loss: 4.5652e-05\n",
      "Epoch 2/20\n",
      "338/338 [==============================] - 7s 19ms/step - loss: 1.1382e-04 - val_loss: 2.8789e-04\n",
      "Epoch 3/20\n",
      "338/338 [==============================] - 7s 19ms/step - loss: 5.8679e-05 - val_loss: 4.1038e-07\n",
      "Epoch 4/20\n",
      "338/338 [==============================] - 7s 20ms/step - loss: 2.7649e-05 - val_loss: 1.8191e-05\n",
      "Epoch 5/20\n",
      "338/338 [==============================] - 7s 19ms/step - loss: 2.4070e-04 - val_loss: 2.0016e-06\n",
      "Epoch 6/20\n",
      "338/338 [==============================] - 7s 19ms/step - loss: 2.0740e-05 - val_loss: 1.1255e-04\n",
      "Epoch 7/20\n",
      "338/338 [==============================] - 6s 19ms/step - loss: 6.2236e-05 - val_loss: 8.5822e-05\n",
      "Epoch 8/20\n",
      "338/338 [==============================] - 7s 20ms/step - loss: 3.1530e-04 - val_loss: 4.6107e-05\n"
     ]
    },
    {
     "data": {
      "text/plain": [
       "<tensorflow.python.keras.callbacks.History at 0x7fc97c11df50>"
      ]
     },
     "execution_count": 19,
     "metadata": {},
     "output_type": "execute_result"
    }
   ],
   "source": [
    "# Fit model\n",
    "model = model_func(length=length, n_features=n_features)\n",
    "model.compile(loss='mse', optimizer='adam')\n",
    "\n",
    "early_stop = EarlyStopping(monitor='val_loss', mode='min', patience=5, restore_best_weights=True)\n",
    "model.fit(train_gen, validation_data=val_gen, epochs=20, callbacks=[early_stop])"
   ]
  },
  {
   "cell_type": "code",
   "execution_count": 20,
   "metadata": {},
   "outputs": [
    {
     "data": {
      "text/plain": [
       "<AxesSubplot:>"
      ]
     },
     "execution_count": 20,
     "metadata": {},
     "output_type": "execute_result"
    },
    {
     "data": {
      "image/png": "[encoded data removed]",
      "text/plain": [
       "<Figure size 432x288 with 1 Axes>"
      ]
     },
     "metadata": {
      "needs_background": "light"
     },
     "output_type": "display_data"
    }
   ],
   "source": [
    "losses = pd.DataFrame(model.history.history)\n",
    "sns.lineplot(data=losses)"
   ]
  },
  {
   "cell_type": "code",
   "execution_count": 21,
   "metadata": {},
   "outputs": [],
   "source": [
    "# Create moving window of evaluation batches\n",
    "test_predictions = []\n",
    "first_eval_batch = train_set[-length:]\n",
    "current_batch = first_eval_batch.reshape(1, length, n_features)\n",
    "\n",
    "for index in range(len(test_set)):\n",
    "    current_pred = model.predict(current_batch)[0]\n",
    "    test_predictions.append(current_pred)\n",
    "    current_batch = np.append(current_batch[:, 1:, :], [[current_pred]], axis=1)"
   ]
  },
  {
   "cell_type": "code",
   "execution_count": 22,
   "metadata": {},
   "outputs": [],
   "source": [
    "true = pd.DataFrame(data=test_set.flatten())\n",
    "pred = pd.DataFrame(data=scaler.inverse_transform(test_predictions).flatten())"
   ]
  },
  {
   "cell_type": "code",
   "execution_count": 23,
   "metadata": {},
   "outputs": [],
   "source": [
    "result_df = pd.concat([true, pred], axis=1)"
   ]
  },
  {
   "cell_type": "code",
   "execution_count": 24,
   "metadata": {},
   "outputs": [],
   "source": [
    "result_df.columns = ['True', 'Pred']"
   ]
  },
  {
   "cell_type": "code",
   "execution_count": 16,
   "metadata": {},
   "outputs": [
    {
     "data": {
      "text/plain": [
       "<AxesSubplot:>"
      ]
     },
     "execution_count": 16,
     "metadata": {},
     "output_type": "execute_result"
    },
    {
     "data": {
      "image/png": "[encoded data removed]",
      "text/plain": [
       "<Figure size 432x288 with 1 Axes>"
      ]
     },
     "metadata": {
      "needs_background": "light"
     },
     "output_type": "display_data"
    }
   ],
   "source": [
    "# With 40 train and 0.15 as validation\n",
    "sns.lineplot(data=result_df)"
   ]
  },
  {
   "cell_type": "code",
   "execution_count": 25,
   "metadata": {},
   "outputs": [
    {
     "data": {
      "text/plain": [
       "<AxesSubplot:>"
      ]
     },
     "execution_count": 25,
     "metadata": {},
     "output_type": "execute_result"
    },
    {
     "data": {
      "image/png": "[encoded data removed]",
      "text/plain": [
       "<Figure size 432x288 with 1 Axes>"
      ]
     },
     "metadata": {
      "needs_background": "light"
     },
     "output_type": "display_data"
    }
   ],
   "source": [
    "# With 45 train and 0.15 as validation\n",
    "sns.lineplot(data=result_df)"
   ]
  },
  {
   "cell_type": "code",
   "execution_count": null,
   "metadata": {},
   "outputs": [],
   "source": []
  }
 ],
 "metadata": {
  "kernelspec": {
   "display_name": "Python 3 (ipykernel)",
   "language": "python",
   "name": "python3"
  },
  "language_info": {
   "codemirror_mode": {
    "name": "ipython",
    "version": 3
   },
   "file_extension": ".py",
   "mimetype": "text/x-python",
   "name": "python",
   "nbconvert_exporter": "python",
   "pygments_lexer": "ipython3",
   "version": "3.7.4"
  }
 },
 "nbformat": 4,
 "nbformat_minor": 4
}
