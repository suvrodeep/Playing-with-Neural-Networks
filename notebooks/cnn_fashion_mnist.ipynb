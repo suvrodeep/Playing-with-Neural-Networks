{
 "cells": [
  {
   "cell_type": "code",
   "execution_count": 1,
   "id": "cfd60c17-7e45-47bf-8d63-cae5207feadd",
   "metadata": {},
   "outputs": [],
   "source": [
    "import os\n",
    "import tensorflow as tf\n",
    "from tensorflow.keras.datasets import fashion_mnist\n",
    "import matplotlib.pyplot as plt\n",
    "from tensorflow import keras\n",
    "from tensorflow.keras.models import Sequential\n",
    "from tensorflow.keras.layers import Dense, Conv2D, MaxPool2D, Flatten, Dropout\n",
    "from tensorflow.keras.callbacks import EarlyStopping\n",
    "from tensorflow.keras import backend\n",
    "import pandas as pd\n",
    "import numpy as np\n",
    "import seaborn as sns\n",
    "from sklearn.metrics import confusion_matrix\n",
    "from sklearn.metrics import classification_report"
   ]
  },
  {
   "cell_type": "code",
   "execution_count": 2,
   "id": "8bbc1ff1-e154-4773-b964-5db6f42ba0bd",
   "metadata": {},
   "outputs": [],
   "source": [
    "# Load data\n",
    "(x_train, y_train), (x_test, y_test) = fashion_mnist.load_data()"
   ]
  },
  {
   "cell_type": "code",
   "execution_count": 3,
   "id": "64a6d1b6-29dd-4371-b623-b3ef6656447e",
   "metadata": {
    "tags": []
   },
   "outputs": [
    {
     "data": {
      "text/plain": [
       "(28, 28)"
      ]
     },
     "execution_count": 3,
     "metadata": {},
     "output_type": "execute_result"
    }
   ],
   "source": [
    "# Check dimensions of image\n",
    "x_train[0].shape"
   ]
  },
  {
   "cell_type": "code",
   "execution_count": 4,
   "id": "b53e639c-c105-4446-8483-0a11b6725740",
   "metadata": {
    "tags": []
   },
   "outputs": [
    {
     "data": {
      "text/plain": [
       "<matplotlib.image.AxesImage at 0x29b6b6210c8>"
      ]
     },
     "execution_count": 4,
     "metadata": {},
     "output_type": "execute_result"
    },
    {
     "data": {
      "image/png": "[encoded data removed]",
      "text/plain": [
       "<Figure size 432x288 with 1 Axes>"
      ]
     },
     "metadata": {
      "needs_background": "light"
     },
     "output_type": "display_data"
    }
   ],
   "source": [
    "# View a sample image\n",
    "plt.imshow(x_train[10])"
   ]
  },
  {
   "cell_type": "code",
   "execution_count": 5,
   "id": "825b240a-79b2-4a93-a5af-ba572a7e05f0",
   "metadata": {
    "tags": []
   },
   "outputs": [],
   "source": [
    "##################################################\n",
    "# Explore training data and labels\n",
    "##################################################"
   ]
  },
  {
   "cell_type": "code",
   "execution_count": 6,
   "id": "2e555217-4097-41b6-a5b9-b2a4b192ed17",
   "metadata": {
    "scrolled": true,
    "tags": []
   },
   "outputs": [
    {
     "data": {
      "text/plain": [
       "array([[[0, 0, 0, ..., 0, 0, 0],\n",
       "        [0, 0, 0, ..., 0, 0, 0],\n",
       "        [0, 0, 0, ..., 0, 0, 0],\n",
       "        ...,\n",
       "        [0, 0, 0, ..., 0, 0, 0],\n",
       "        [0, 0, 0, ..., 0, 0, 0],\n",
       "        [0, 0, 0, ..., 0, 0, 0]],\n",
       "\n",
       "       [[0, 0, 0, ..., 0, 0, 0],\n",
       "        [0, 0, 0, ..., 0, 0, 0],\n",
       "        [0, 0, 0, ..., 0, 0, 0],\n",
       "        ...,\n",
       "        [0, 0, 0, ..., 0, 0, 0],\n",
       "        [0, 0, 0, ..., 0, 0, 0],\n",
       "        [0, 0, 0, ..., 0, 0, 0]],\n",
       "\n",
       "       [[0, 0, 0, ..., 0, 0, 0],\n",
       "        [0, 0, 0, ..., 0, 0, 0],\n",
       "        [0, 0, 0, ..., 0, 0, 0],\n",
       "        ...,\n",
       "        [0, 0, 0, ..., 0, 0, 0],\n",
       "        [0, 0, 0, ..., 0, 0, 0],\n",
       "        [0, 0, 0, ..., 0, 0, 0]],\n",
       "\n",
       "       ...,\n",
       "\n",
       "       [[0, 0, 0, ..., 0, 0, 0],\n",
       "        [0, 0, 0, ..., 0, 0, 0],\n",
       "        [0, 0, 0, ..., 0, 0, 0],\n",
       "        ...,\n",
       "        [0, 0, 0, ..., 0, 0, 0],\n",
       "        [0, 0, 0, ..., 0, 0, 0],\n",
       "        [0, 0, 0, ..., 0, 0, 0]],\n",
       "\n",
       "       [[0, 0, 0, ..., 0, 0, 0],\n",
       "        [0, 0, 0, ..., 0, 0, 0],\n",
       "        [0, 0, 0, ..., 0, 0, 0],\n",
       "        ...,\n",
       "        [0, 0, 0, ..., 0, 0, 0],\n",
       "        [0, 0, 0, ..., 0, 0, 0],\n",
       "        [0, 0, 0, ..., 0, 0, 0]],\n",
       "\n",
       "       [[0, 0, 0, ..., 0, 0, 0],\n",
       "        [0, 0, 0, ..., 0, 0, 0],\n",
       "        [0, 0, 0, ..., 0, 0, 0],\n",
       "        ...,\n",
       "        [0, 0, 0, ..., 0, 0, 0],\n",
       "        [0, 0, 0, ..., 0, 0, 0],\n",
       "        [0, 0, 0, ..., 0, 0, 0]]], dtype=uint8)"
      ]
     },
     "execution_count": 6,
     "metadata": {},
     "output_type": "execute_result"
    }
   ],
   "source": [
    "x_train"
   ]
  },
  {
   "cell_type": "code",
   "execution_count": 7,
   "id": "0e9e6bb6-db49-4174-b215-8105e7a4a771",
   "metadata": {
    "tags": []
   },
   "outputs": [
    {
     "data": {
      "text/plain": [
       "255"
      ]
     },
     "execution_count": 7,
     "metadata": {},
     "output_type": "execute_result"
    }
   ],
   "source": [
    "x_train[10].max()"
   ]
  },
  {
   "cell_type": "code",
   "execution_count": 8,
   "id": "da912ef1-d89e-4887-82ad-89a51d171c28",
   "metadata": {
    "tags": []
   },
   "outputs": [
    {
     "data": {
      "text/plain": [
       "array([9, 0, 0, ..., 3, 0, 5], dtype=uint8)"
      ]
     },
     "execution_count": 8,
     "metadata": {},
     "output_type": "execute_result"
    }
   ],
   "source": [
    "y_train"
   ]
  },
  {
   "cell_type": "code",
   "execution_count": 9,
   "id": "2ac4e050-9507-475e-9dde-c40af00a680e",
   "metadata": {},
   "outputs": [
    {
     "name": "stdout",
     "output_type": "stream",
     "text": [
      "Train data shape:(60000, 28, 28)\n",
      "Test data shape:(10000, 28, 28)\n"
     ]
    }
   ],
   "source": [
    "print(\"Train data shape:{}\".format(x_train.shape))\n",
    "print(\"Test data shape:{}\".format(x_test.shape))"
   ]
  },
  {
   "cell_type": "code",
   "execution_count": 10,
   "id": "92ec09f9-88aa-4020-a5d6-7a25c09436fa",
   "metadata": {},
   "outputs": [
    {
     "name": "stdout",
     "output_type": "stream",
     "text": [
      "Number of classes training labels:10\n",
      "Unique values in training labels:[9 0 3 2 7 5 1 6 4 8]\n"
     ]
    }
   ],
   "source": [
    "print(\"Number of classes training labels:{}\".format(len(pd.unique(y_train))))\n",
    "print(\"Unique values in training labels:{}\".format(pd.unique(y_train)))"
   ]
  },
  {
   "cell_type": "code",
   "execution_count": 11,
   "id": "34a95fde-a514-4fc7-be02-62a2b1087df8",
   "metadata": {},
   "outputs": [],
   "source": [
    "# Normalize image pixel values\n",
    "x_train = x_train / 255\n",
    "x_test = x_test / 255"
   ]
  },
  {
   "cell_type": "code",
   "execution_count": 12,
   "id": "272ba56c-c05c-44a7-8135-0cc0ef34a4f2",
   "metadata": {},
   "outputs": [],
   "source": [
    "# Prepare one-hot encoded y-values\n",
    "y_train_cat = keras.utils.to_categorical(y=y_train, num_classes=10)\n",
    "y_test_cat = keras.utils.to_categorical(y=y_test, num_classes=10)"
   ]
  },
  {
   "cell_type": "code",
   "execution_count": 13,
   "id": "6e76aad5-bf76-4f47-8c67-9ec02e566adb",
   "metadata": {},
   "outputs": [],
   "source": [
    "# Reshaping data to batch_size, width, height, color_channel\n",
    "x_train = x_train.reshape(60000, 28, 28, 1)\n",
    "x_test = x_test.reshape(10000, 28, 28, 1)"
   ]
  },
  {
   "cell_type": "code",
   "execution_count": 14,
   "id": "d9858381-a719-448b-a03e-40714438b259",
   "metadata": {},
   "outputs": [],
   "source": [
    "# Prepare GPU\n",
    "def prep_devices():\n",
    "    phy_gpus = tf.config.list_physical_devices(device_type='GPU')\n",
    "    \n",
    "    for gpu in phy_gpus:\n",
    "        tf.config.experimental.set_memory_growth(device=gpu, enable=True)\n",
    "\n",
    "    log_gpus = tf.config.list_logical_devices(device_type='GPU')\n",
    "    phy_cpus = tf.config.list_physical_devices(device_type='CPU')\n",
    "    log_cpus = tf.config.list_logical_devices(device_type='CPU')\n",
    "\n",
    "    print(\"Physical GPUs: {}\\tLogical GPUs: {}\\nPhysical CPUs: {}\\tLogical CPUs: {}\".format(len(phy_gpus),\n",
    "                                                                                             len(log_gpus),\n",
    "                                                                                             len(phy_cpus),\n",
    "                                                                                             len(log_cpus)))"
   ]
  },
  {
   "cell_type": "code",
   "execution_count": 15,
   "id": "23d65e6c-8155-4f8c-a23b-62b0087496ea",
   "metadata": {},
   "outputs": [
    {
     "name": "stdout",
     "output_type": "stream",
     "text": [
      "Physical GPUs: 0\tLogical GPUs: 0\n",
      "Physical CPUs: 1\tLogical CPUs: 1\n"
     ]
    }
   ],
   "source": [
    "os.environ['TF_CPP_MIN_LOG_LEVEL'] = '1'\n",
    "prep_devices()"
   ]
  },
  {
   "cell_type": "code",
   "execution_count": 16,
   "id": "746cc73f-60fe-41ff-a869-6503014de9f6",
   "metadata": {},
   "outputs": [],
   "source": [
    "# Build model\n",
    "def model_func(clear_session=True):\n",
    "    if clear_session:\n",
    "        backend.clear_session()\n",
    "            \n",
    "    model = Sequential()\n",
    "    \n",
    "    model.add(Conv2D(filters=32, kernel_size=(3, 3), input_shape=(28, 28, 1), activation='relu'))\n",
    "    model.add(MaxPool2D(pool_size=(2, 2)))\n",
    "    \n",
    "    model.add(Dropout(0.5))\n",
    "    \n",
    "    model.add(Conv2D(filters=32, kernel_size=(3, 3), activation='relu'))\n",
    "    model.add(MaxPool2D(pool_size=(2, 2)))\n",
    "    \n",
    "    model.add(Flatten())\n",
    "    model.add(Dense(64, activation='relu'))\n",
    "    model.add(Dropout(0.5))\n",
    "    model.add(Dense(10, activation='softmax'))\n",
    "    \n",
    "    model.summary()\n",
    "    \n",
    "    return model"
   ]
  },
  {
   "cell_type": "code",
   "execution_count": 17,
   "id": "feba245c-3e22-4d6a-bb91-af05171f9640",
   "metadata": {
    "scrolled": true,
    "tags": []
   },
   "outputs": [
    {
     "name": "stdout",
     "output_type": "stream",
     "text": [
      "Model: \"sequential\"\n",
      "_________________________________________________________________\n",
      " Layer (type)                Output Shape              Param #   \n",
      "=================================================================\n",
      " conv2d (Conv2D)             (None, 26, 26, 32)        320       \n",
      "                                                                 \n",
      " max_pooling2d (MaxPooling2D  (None, 13, 13, 32)       0         \n",
      " )                                                               \n",
      "                                                                 \n",
      " dropout (Dropout)           (None, 13, 13, 32)        0         \n",
      "                                                                 \n",
      " conv2d_1 (Conv2D)           (None, 11, 11, 32)        9248      \n",
      "                                                                 \n",
      " max_pooling2d_1 (MaxPooling  (None, 5, 5, 32)         0         \n",
      " 2D)                                                             \n",
      "                                                                 \n",
      " flatten (Flatten)           (None, 800)               0         \n",
      "                                                                 \n",
      " dense (Dense)               (None, 64)                51264     \n",
      "                                                                 \n",
      " dropout_1 (Dropout)         (None, 64)                0         \n",
      "                                                                 \n",
      " dense_1 (Dense)             (None, 10)                650       \n",
      "                                                                 \n",
      "=================================================================\n",
      "Total params: 61,482\n",
      "Trainable params: 61,482\n",
      "Non-trainable params: 0\n",
      "_________________________________________________________________\n",
      "Epoch 1/100\n",
      "108/108 [==============================] - 11s 100ms/step - loss: 1.2436 - accuracy: 0.5445 - val_loss: 0.6893 - val_accuracy: 0.7555\n",
      "Epoch 2/100\n",
      "108/108 [==============================] - 11s 98ms/step - loss: 0.7578 - accuracy: 0.7231 - val_loss: 0.5421 - val_accuracy: 0.7938\n",
      "Epoch 3/100\n",
      "108/108 [==============================] - 11s 103ms/step - loss: 0.6600 - accuracy: 0.7586 - val_loss: 0.4976 - val_accuracy: 0.8110\n",
      "Epoch 4/100\n",
      "108/108 [==============================] - 11s 99ms/step - loss: 0.6091 - accuracy: 0.7762 - val_loss: 0.4620 - val_accuracy: 0.8263\n",
      "Epoch 5/100\n",
      "108/108 [==============================] - 11s 98ms/step - loss: 0.5705 - accuracy: 0.7892 - val_loss: 0.4442 - val_accuracy: 0.8370\n",
      "Epoch 6/100\n",
      "108/108 [==============================] - 11s 98ms/step - loss: 0.5466 - accuracy: 0.7994 - val_loss: 0.4230 - val_accuracy: 0.8392\n",
      "Epoch 7/100\n",
      "108/108 [==============================] - 11s 100ms/step - loss: 0.5264 - accuracy: 0.8063 - val_loss: 0.4097 - val_accuracy: 0.8525\n",
      "Epoch 8/100\n",
      "108/108 [==============================] - 11s 106ms/step - loss: 0.5111 - accuracy: 0.8148 - val_loss: 0.3915 - val_accuracy: 0.8520\n",
      "Epoch 9/100\n",
      "108/108 [==============================] - 13s 117ms/step - loss: 0.4924 - accuracy: 0.8196 - val_loss: 0.3803 - val_accuracy: 0.8598\n",
      "Epoch 10/100\n",
      "108/108 [==============================] - 12s 110ms/step - loss: 0.4800 - accuracy: 0.8269 - val_loss: 0.3662 - val_accuracy: 0.8623\n",
      "Epoch 11/100\n",
      "108/108 [==============================] - 12s 109ms/step - loss: 0.4653 - accuracy: 0.8312 - val_loss: 0.3576 - val_accuracy: 0.8667\n",
      "Epoch 12/100\n",
      "108/108 [==============================] - 12s 110ms/step - loss: 0.4548 - accuracy: 0.8358 - val_loss: 0.3499 - val_accuracy: 0.8700\n",
      "Epoch 13/100\n",
      "108/108 [==============================] - 13s 121ms/step - loss: 0.4461 - accuracy: 0.8389 - val_loss: 0.3387 - val_accuracy: 0.8730\n",
      "Epoch 14/100\n",
      "108/108 [==============================] - 12s 115ms/step - loss: 0.4398 - accuracy: 0.8410 - val_loss: 0.3347 - val_accuracy: 0.8770\n",
      "Epoch 15/100\n",
      "108/108 [==============================] - 13s 120ms/step - loss: 0.4301 - accuracy: 0.8445 - val_loss: 0.3299 - val_accuracy: 0.8765\n",
      "Epoch 16/100\n",
      "108/108 [==============================] - 12s 114ms/step - loss: 0.4249 - accuracy: 0.8455 - val_loss: 0.3193 - val_accuracy: 0.8797\n",
      "Epoch 17/100\n",
      "108/108 [==============================] - 12s 112ms/step - loss: 0.4182 - accuracy: 0.8483 - val_loss: 0.3181 - val_accuracy: 0.8765\n",
      "Epoch 18/100\n",
      "108/108 [==============================] - 11s 101ms/step - loss: 0.4096 - accuracy: 0.8518 - val_loss: 0.3109 - val_accuracy: 0.8815\n",
      "Epoch 19/100\n",
      "108/108 [==============================] - 11s 99ms/step - loss: 0.4052 - accuracy: 0.8535 - val_loss: 0.3153 - val_accuracy: 0.8838\n",
      "Epoch 20/100\n",
      "108/108 [==============================] - 11s 102ms/step - loss: 0.4031 - accuracy: 0.8537 - val_loss: 0.3048 - val_accuracy: 0.8838\n",
      "Epoch 21/100\n",
      "108/108 [==============================] - 11s 101ms/step - loss: 0.3995 - accuracy: 0.8571 - val_loss: 0.2941 - val_accuracy: 0.8902\n",
      "Epoch 22/100\n",
      "108/108 [==============================] - 11s 102ms/step - loss: 0.3886 - accuracy: 0.8601 - val_loss: 0.2922 - val_accuracy: 0.8902\n",
      "Epoch 23/100\n",
      "108/108 [==============================] - 11s 100ms/step - loss: 0.3863 - accuracy: 0.8607 - val_loss: 0.2972 - val_accuracy: 0.8888\n",
      "Epoch 24/100\n",
      "108/108 [==============================] - 11s 101ms/step - loss: 0.3808 - accuracy: 0.8614 - val_loss: 0.2879 - val_accuracy: 0.8910\n",
      "Epoch 25/100\n",
      "108/108 [==============================] - 11s 101ms/step - loss: 0.3755 - accuracy: 0.8637 - val_loss: 0.2886 - val_accuracy: 0.8890\n",
      "Epoch 26/100\n",
      "108/108 [==============================] - 11s 101ms/step - loss: 0.3742 - accuracy: 0.8646 - val_loss: 0.2882 - val_accuracy: 0.8917\n",
      "Epoch 27/100\n",
      "108/108 [==============================] - 11s 100ms/step - loss: 0.3716 - accuracy: 0.8659 - val_loss: 0.2844 - val_accuracy: 0.8940\n",
      "Epoch 28/100\n",
      "108/108 [==============================] - 11s 100ms/step - loss: 0.3675 - accuracy: 0.8680 - val_loss: 0.2833 - val_accuracy: 0.8923\n",
      "Epoch 29/100\n",
      "108/108 [==============================] - 11s 102ms/step - loss: 0.3621 - accuracy: 0.8695 - val_loss: 0.2777 - val_accuracy: 0.8970\n",
      "Epoch 30/100\n",
      "108/108 [==============================] - 11s 101ms/step - loss: 0.3602 - accuracy: 0.8700 - val_loss: 0.2733 - val_accuracy: 0.8993\n",
      "Epoch 31/100\n",
      "108/108 [==============================] - 11s 100ms/step - loss: 0.3576 - accuracy: 0.8716 - val_loss: 0.2725 - val_accuracy: 0.8993\n",
      "Epoch 32/100\n",
      "108/108 [==============================] - 11s 99ms/step - loss: 0.3539 - accuracy: 0.8715 - val_loss: 0.2738 - val_accuracy: 0.8973\n",
      "Epoch 33/100\n",
      "108/108 [==============================] - 11s 99ms/step - loss: 0.3490 - accuracy: 0.8741 - val_loss: 0.2718 - val_accuracy: 0.8990\n",
      "Epoch 34/100\n",
      "108/108 [==============================] - 11s 101ms/step - loss: 0.3504 - accuracy: 0.8729 - val_loss: 0.2664 - val_accuracy: 0.9005\n",
      "Epoch 35/100\n",
      "108/108 [==============================] - 11s 100ms/step - loss: 0.3479 - accuracy: 0.8747 - val_loss: 0.2681 - val_accuracy: 0.8978\n",
      "Epoch 36/100\n",
      "108/108 [==============================] - 11s 103ms/step - loss: 0.3407 - accuracy: 0.8754 - val_loss: 0.2658 - val_accuracy: 0.9032\n",
      "Epoch 37/100\n",
      "108/108 [==============================] - 12s 107ms/step - loss: 0.3412 - accuracy: 0.8746 - val_loss: 0.2645 - val_accuracy: 0.9013\n",
      "Epoch 38/100\n",
      "108/108 [==============================] - 12s 108ms/step - loss: 0.3400 - accuracy: 0.8754 - val_loss: 0.2624 - val_accuracy: 0.9007\n",
      "Epoch 39/100\n",
      "108/108 [==============================] - 11s 104ms/step - loss: 0.3357 - accuracy: 0.8777 - val_loss: 0.2704 - val_accuracy: 0.8988\n",
      "Epoch 40/100\n",
      "108/108 [==============================] - 11s 101ms/step - loss: 0.3333 - accuracy: 0.8783 - val_loss: 0.2606 - val_accuracy: 0.9028\n",
      "Epoch 41/100\n",
      "108/108 [==============================] - 11s 101ms/step - loss: 0.3321 - accuracy: 0.8797 - val_loss: 0.2614 - val_accuracy: 0.9057\n",
      "Epoch 42/100\n",
      "108/108 [==============================] - 11s 101ms/step - loss: 0.3306 - accuracy: 0.8790 - val_loss: 0.2598 - val_accuracy: 0.9068\n",
      "Epoch 43/100\n",
      "108/108 [==============================] - 11s 102ms/step - loss: 0.3301 - accuracy: 0.8792 - val_loss: 0.2603 - val_accuracy: 0.9037\n",
      "Epoch 44/100\n",
      "108/108 [==============================] - 12s 115ms/step - loss: 0.3293 - accuracy: 0.8808 - val_loss: 0.2605 - val_accuracy: 0.9058\n",
      "Epoch 45/100\n",
      "108/108 [==============================] - 12s 115ms/step - loss: 0.3239 - accuracy: 0.8824 - val_loss: 0.2543 - val_accuracy: 0.9063\n",
      "Epoch 46/100\n",
      "108/108 [==============================] - 13s 118ms/step - loss: 0.3273 - accuracy: 0.8813 - val_loss: 0.2566 - val_accuracy: 0.9025\n",
      "Epoch 47/100\n",
      "108/108 [==============================] - 13s 117ms/step - loss: 0.3222 - accuracy: 0.8840 - val_loss: 0.2545 - val_accuracy: 0.9067\n",
      "Epoch 48/100\n",
      "108/108 [==============================] - 13s 124ms/step - loss: 0.3217 - accuracy: 0.8828 - val_loss: 0.2497 - val_accuracy: 0.9080\n",
      "Epoch 49/100\n",
      "108/108 [==============================] - 13s 120ms/step - loss: 0.3192 - accuracy: 0.8843 - val_loss: 0.2506 - val_accuracy: 0.9067\n",
      "Epoch 50/100\n",
      "108/108 [==============================] - 12s 113ms/step - loss: 0.3180 - accuracy: 0.8846 - val_loss: 0.2561 - val_accuracy: 0.9057\n",
      "Epoch 51/100\n",
      "108/108 [==============================] - 12s 111ms/step - loss: 0.3157 - accuracy: 0.8853 - val_loss: 0.2484 - val_accuracy: 0.9117\n",
      "Epoch 52/100\n",
      "108/108 [==============================] - 12s 112ms/step - loss: 0.3117 - accuracy: 0.8854 - val_loss: 0.2485 - val_accuracy: 0.9075\n",
      "Epoch 53/100\n",
      "108/108 [==============================] - 12s 111ms/step - loss: 0.3149 - accuracy: 0.8846 - val_loss: 0.2515 - val_accuracy: 0.9052\n",
      "Epoch 54/100\n",
      "108/108 [==============================] - 12s 115ms/step - loss: 0.3106 - accuracy: 0.8868 - val_loss: 0.2584 - val_accuracy: 0.9053\n",
      "Epoch 55/100\n",
      "108/108 [==============================] - 12s 114ms/step - loss: 0.3110 - accuracy: 0.8873 - val_loss: 0.2498 - val_accuracy: 0.9075\n",
      "Epoch 56/100\n",
      "108/108 [==============================] - 12s 115ms/step - loss: 0.3085 - accuracy: 0.8868 - val_loss: 0.2462 - val_accuracy: 0.9118\n",
      "Epoch 57/100\n",
      "108/108 [==============================] - 12s 115ms/step - loss: 0.3049 - accuracy: 0.8888 - val_loss: 0.2468 - val_accuracy: 0.9090\n",
      "Epoch 58/100\n",
      "108/108 [==============================] - 12s 110ms/step - loss: 0.3073 - accuracy: 0.8880 - val_loss: 0.2496 - val_accuracy: 0.9090\n",
      "Epoch 59/100\n",
      "108/108 [==============================] - 13s 117ms/step - loss: 0.3021 - accuracy: 0.8902 - val_loss: 0.2470 - val_accuracy: 0.9082\n",
      "Epoch 60/100\n",
      "108/108 [==============================] - 12s 115ms/step - loss: 0.3045 - accuracy: 0.8874 - val_loss: 0.2498 - val_accuracy: 0.9093\n",
      "Epoch 61/100\n",
      "108/108 [==============================] - 12s 116ms/step - loss: 0.3027 - accuracy: 0.8896 - val_loss: 0.2547 - val_accuracy: 0.9077\n"
     ]
    },
    {
     "data": {
      "text/plain": [
       "<keras.callbacks.History at 0x29b69242748>"
      ]
     },
     "execution_count": 17,
     "metadata": {},
     "output_type": "execute_result"
    }
   ],
   "source": [
    "# Fit model\n",
    "model = model_func()\n",
    "model.compile(loss='categorical_crossentropy', optimizer='adam', metrics=['accuracy'])\n",
    "\n",
    "early_stop = EarlyStopping(monitor='val_loss', mode='min', patience=5, restore_best_weights=True)\n",
    "model.fit(x=x_train, y=y_train_cat, epochs=100, validation_split=0.1, batch_size=500, callbacks=[early_stop])"
   ]
  },
  {
   "cell_type": "code",
   "execution_count": 18,
   "id": "2294ef4f-5c96-4c1f-ab56-85e69bd8d482",
   "metadata": {
    "scrolled": true,
    "tags": []
   },
   "outputs": [
    {
     "data": {
      "text/html": [
       "<div>\n",
       "<style scoped>\n",
       "    .dataframe tbody tr th:only-of-type {\n",
       "        vertical-align: middle;\n",
       "    }\n",
       "\n",
       "    .dataframe tbody tr th {\n",
       "        vertical-align: top;\n",
       "    }\n",
       "\n",
       "    .dataframe thead th {\n",
       "        text-align: right;\n",
       "    }\n",
       "</style>\n",
       "<table border=\"1\" class=\"dataframe\">\n",
       "  <thead>\n",
       "    <tr style=\"text-align: right;\">\n",
       "      <th></th>\n",
       "      <th>loss</th>\n",
       "      <th>accuracy</th>\n",
       "      <th>val_loss</th>\n",
       "      <th>val_accuracy</th>\n",
       "    </tr>\n",
       "  </thead>\n",
       "  <tbody>\n",
       "    <tr>\n",
       "      <th>0</th>\n",
       "      <td>1.243626</td>\n",
       "      <td>0.544463</td>\n",
       "      <td>0.689309</td>\n",
       "      <td>0.755500</td>\n",
       "    </tr>\n",
       "    <tr>\n",
       "      <th>1</th>\n",
       "      <td>0.757845</td>\n",
       "      <td>0.723074</td>\n",
       "      <td>0.542092</td>\n",
       "      <td>0.793833</td>\n",
       "    </tr>\n",
       "    <tr>\n",
       "      <th>2</th>\n",
       "      <td>0.660009</td>\n",
       "      <td>0.758593</td>\n",
       "      <td>0.497619</td>\n",
       "      <td>0.811000</td>\n",
       "    </tr>\n",
       "    <tr>\n",
       "      <th>3</th>\n",
       "      <td>0.609059</td>\n",
       "      <td>0.776167</td>\n",
       "      <td>0.462048</td>\n",
       "      <td>0.826333</td>\n",
       "    </tr>\n",
       "    <tr>\n",
       "      <th>4</th>\n",
       "      <td>0.570483</td>\n",
       "      <td>0.789222</td>\n",
       "      <td>0.444158</td>\n",
       "      <td>0.837000</td>\n",
       "    </tr>\n",
       "    <tr>\n",
       "      <th>...</th>\n",
       "      <td>...</td>\n",
       "      <td>...</td>\n",
       "      <td>...</td>\n",
       "      <td>...</td>\n",
       "    </tr>\n",
       "    <tr>\n",
       "      <th>56</th>\n",
       "      <td>0.304870</td>\n",
       "      <td>0.888815</td>\n",
       "      <td>0.246827</td>\n",
       "      <td>0.909000</td>\n",
       "    </tr>\n",
       "    <tr>\n",
       "      <th>57</th>\n",
       "      <td>0.307319</td>\n",
       "      <td>0.887981</td>\n",
       "      <td>0.249647</td>\n",
       "      <td>0.909000</td>\n",
       "    </tr>\n",
       "    <tr>\n",
       "      <th>58</th>\n",
       "      <td>0.302063</td>\n",
       "      <td>0.890204</td>\n",
       "      <td>0.246967</td>\n",
       "      <td>0.908167</td>\n",
       "    </tr>\n",
       "    <tr>\n",
       "      <th>59</th>\n",
       "      <td>0.304493</td>\n",
       "      <td>0.887426</td>\n",
       "      <td>0.249764</td>\n",
       "      <td>0.909333</td>\n",
       "    </tr>\n",
       "    <tr>\n",
       "      <th>60</th>\n",
       "      <td>0.302699</td>\n",
       "      <td>0.889648</td>\n",
       "      <td>0.254664</td>\n",
       "      <td>0.907667</td>\n",
       "    </tr>\n",
       "  </tbody>\n",
       "</table>\n",
       "<p>61 rows × 4 columns</p>\n",
       "</div>"
      ],
      "text/plain": [
       "        loss  accuracy  val_loss  val_accuracy\n",
       "0   1.243626  0.544463  0.689309      0.755500\n",
       "1   0.757845  0.723074  0.542092      0.793833\n",
       "2   0.660009  0.758593  0.497619      0.811000\n",
       "3   0.609059  0.776167  0.462048      0.826333\n",
       "4   0.570483  0.789222  0.444158      0.837000\n",
       "..       ...       ...       ...           ...\n",
       "56  0.304870  0.888815  0.246827      0.909000\n",
       "57  0.307319  0.887981  0.249647      0.909000\n",
       "58  0.302063  0.890204  0.246967      0.908167\n",
       "59  0.304493  0.887426  0.249764      0.909333\n",
       "60  0.302699  0.889648  0.254664      0.907667\n",
       "\n",
       "[61 rows x 4 columns]"
      ]
     },
     "execution_count": 18,
     "metadata": {},
     "output_type": "execute_result"
    }
   ],
   "source": [
    "# Model evaluation\n",
    "metrics = pd.DataFrame(model.history.history)\n",
    "metrics"
   ]
  },
  {
   "cell_type": "code",
   "execution_count": 19,
   "id": "b6d38773-8a41-417b-b21d-8bd860e6fb9c",
   "metadata": {},
   "outputs": [
    {
     "data": {
      "text/plain": [
       "<matplotlib.axes._subplots.AxesSubplot at 0x29b6b6380c8>"
      ]
     },
     "execution_count": 19,
     "metadata": {},
     "output_type": "execute_result"
    },
    {
     "data": {
      "image/png": "[encoded data removed]",
      "text/plain": [
       "<Figure size 432x288 with 1 Axes>"
      ]
     },
     "metadata": {
      "needs_background": "light"
     },
     "output_type": "display_data"
    }
   ],
   "source": [
    "# Evaluate graphically\n",
    "metrics = pd.DataFrame(model.history.history)\n",
    "sns.lineplot(data=metrics[['accuracy', 'val_accuracy']])"
   ]
  },
  {
   "cell_type": "code",
   "execution_count": 20,
   "id": "a8ba4f8b-4151-484a-9129-32cb47681517",
   "metadata": {},
   "outputs": [
    {
     "name": "stdout",
     "output_type": "stream",
     "text": [
      "313/313 [==============================] - 1s 3ms/step\n",
      "              precision    recall  f1-score   support\n",
      "\n",
      "           0       0.85      0.86      0.85      1000\n",
      "           1       0.99      0.97      0.98      1000\n",
      "           2       0.89      0.83      0.86      1000\n",
      "           3       0.90      0.92      0.91      1000\n",
      "           4       0.83      0.87      0.85      1000\n",
      "           5       0.98      0.98      0.98      1000\n",
      "           6       0.71      0.69      0.70      1000\n",
      "           7       0.94      0.97      0.96      1000\n",
      "           8       0.97      0.98      0.98      1000\n",
      "           9       0.98      0.95      0.96      1000\n",
      "\n",
      "    accuracy                           0.90     10000\n",
      "   macro avg       0.90      0.90      0.90     10000\n",
      "weighted avg       0.90      0.90      0.90     10000\n",
      "\n",
      "\n",
      "\n",
      "[[859   0  11  18   3   1  99   0   9   0]\n",
      " [  0 975   0  17   3   0   3   0   2   0]\n",
      " [ 17   1 831  10  58   0  82   0   1   0]\n",
      " [ 12   2   5 915  29   0  35   0   2   0]\n",
      " [  0   1  29  28 874   0  67   0   1   0]\n",
      " [  0   0   0   0   0 979   0  15   0   6]\n",
      " [123   1  58  29  82   0 695   0  12   0]\n",
      " [  0   0   0   0   0  11   0 971   0  18]\n",
      " [  3   1   2   3   3   2   3   5 978   0]\n",
      " [  1   0   0   0   0   4   0  41   0 954]]\n"
     ]
    }
   ],
   "source": [
    "# Compute predicted classes and model performance metrics\n",
    "y_pred = np.argmax(model.predict(x_test), axis=-1)\n",
    "\n",
    "print(classification_report(y_true=y_test, y_pred=y_pred))\n",
    "print(\"\\n\")\n",
    "print(confusion_matrix(y_true=y_test, y_pred=y_pred))"
   ]
  },
  {
   "cell_type": "code",
   "execution_count": null,
   "id": "34f6b774-99f9-4a20-bd42-9343b5754249",
   "metadata": {},
   "outputs": [],
   "source": []
  }
 ],
 "metadata": {
  "kernelspec": {
   "display_name": "Python 3 (ipykernel)",
   "language": "python",
   "name": "python3"
  },
  "language_info": {
   "codemirror_mode": {
    "name": "ipython",
    "version": 3
   },
   "file_extension": ".py",
   "mimetype": "text/x-python",
   "name": "python",
   "nbconvert_exporter": "python",
   "pygments_lexer": "ipython3",
   "version": "3.7.4"
  }
 },
 "nbformat": 4,
 "nbformat_minor": 5
}
