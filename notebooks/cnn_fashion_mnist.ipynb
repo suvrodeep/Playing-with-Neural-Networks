{
 "cells": [
  {
   "cell_type": "code",
   "execution_count": 1,
   "id": "cfd60c17-7e45-47bf-8d63-cae5207feadd",
   "metadata": {
    "tags": []
   },
   "outputs": [
    {
     "name": "stderr",
     "output_type": "stream",
     "text": [
      "2023-03-22 00:00:04.930114: I tensorflow/core/platform/cpu_feature_guard.cc:193] This TensorFlow binary is optimized with oneAPI Deep Neural Network Library (oneDNN) to use the following CPU instructions in performance-critical operations:  AVX2 FMA\n",
      "To enable them in other operations, rebuild TensorFlow with the appropriate compiler flags.\n",
      "2023-03-22 00:00:05.014920: E tensorflow/stream_executor/cuda/cuda_blas.cc:2981] Unable to register cuBLAS factory: Attempting to register factory for plugin cuBLAS when one has already been registered\n",
      "2023-03-22 00:00:05.350095: W tensorflow/stream_executor/platform/default/dso_loader.cc:64] Could not load dynamic library 'libnvinfer.so.7'; dlerror: libnvinfer.so.7: cannot open shared object file: No such file or directory; LD_LIBRARY_PATH: :/home/ghubro/anaconda3/envs/ml_dev/lib/\n",
      "2023-03-22 00:00:05.350136: W tensorflow/stream_executor/platform/default/dso_loader.cc:64] Could not load dynamic library 'libnvinfer_plugin.so.7'; dlerror: libnvinfer_plugin.so.7: cannot open shared object file: No such file or directory; LD_LIBRARY_PATH: :/home/ghubro/anaconda3/envs/ml_dev/lib/\n",
      "2023-03-22 00:00:05.350140: W tensorflow/compiler/tf2tensorrt/utils/py_utils.cc:38] TF-TRT Warning: Cannot dlopen some TensorRT libraries. If you would like to use Nvidia GPU with TensorRT, please make sure the missing libraries mentioned above are installed properly.\n"
     ]
    }
   ],
   "source": [
    "import os\n",
    "import tensorflow as tf\n",
    "from tensorflow.keras.datasets import fashion_mnist\n",
    "import matplotlib.pyplot as plt\n",
    "from tensorflow import keras\n",
    "from tensorflow.keras.models import Sequential\n",
    "from tensorflow.keras.layers import Dense, Conv2D, MaxPool2D, Flatten, Dropout\n",
    "from tensorflow.keras.callbacks import EarlyStopping\n",
    "from tensorflow.keras import backend\n",
    "import pandas as pd\n",
    "import numpy as np\n",
    "import seaborn as sns\n",
    "from sklearn.metrics import confusion_matrix\n",
    "from sklearn.metrics import classification_report"
   ]
  },
  {
   "cell_type": "code",
   "execution_count": 2,
   "id": "8bbc1ff1-e154-4773-b964-5db6f42ba0bd",
   "metadata": {
    "tags": []
   },
   "outputs": [],
   "source": [
    "# Load data\n",
    "(x_train, y_train), (x_test, y_test) = fashion_mnist.load_data()"
   ]
  },
  {
   "cell_type": "code",
   "execution_count": 3,
   "id": "64a6d1b6-29dd-4371-b623-b3ef6656447e",
   "metadata": {
    "tags": []
   },
   "outputs": [
    {
     "data": {
      "text/plain": [
       "(28, 28)"
      ]
     },
     "execution_count": 3,
     "metadata": {},
     "output_type": "execute_result"
    }
   ],
   "source": [
    "# Check dimensions of image\n",
    "x_train[0].shape"
   ]
  },
  {
   "cell_type": "code",
   "execution_count": 4,
   "id": "b53e639c-c105-4446-8483-0a11b6725740",
   "metadata": {
    "tags": []
   },
   "outputs": [
    {
     "data": {
      "text/plain": [
       "<matplotlib.image.AxesImage at 0x7fa86dcbc340>"
      ]
     },
     "execution_count": 4,
     "metadata": {},
     "output_type": "execute_result"
    },
    {
     "data": {
      "image/png": "[encoded data removed]",
      "text/plain": [
       "<Figure size 640x480 with 1 Axes>"
      ]
     },
     "metadata": {},
     "output_type": "display_data"
    }
   ],
   "source": [
    "# View a sample image\n",
    "plt.imshow(x_train[10])"
   ]
  },
  {
   "cell_type": "code",
   "execution_count": 5,
   "id": "825b240a-79b2-4a93-a5af-ba572a7e05f0",
   "metadata": {
    "tags": []
   },
   "outputs": [],
   "source": [
    "##################################################\n",
    "# Explore training data and labels\n",
    "##################################################"
   ]
  },
  {
   "cell_type": "code",
   "execution_count": 6,
   "id": "2e555217-4097-41b6-a5b9-b2a4b192ed17",
   "metadata": {
    "scrolled": true,
    "tags": []
   },
   "outputs": [
    {
     "data": {
      "text/plain": [
       "array([[[0, 0, 0, ..., 0, 0, 0],\n",
       "        [0, 0, 0, ..., 0, 0, 0],\n",
       "        [0, 0, 0, ..., 0, 0, 0],\n",
       "        ...,\n",
       "        [0, 0, 0, ..., 0, 0, 0],\n",
       "        [0, 0, 0, ..., 0, 0, 0],\n",
       "        [0, 0, 0, ..., 0, 0, 0]],\n",
       "\n",
       "       [[0, 0, 0, ..., 0, 0, 0],\n",
       "        [0, 0, 0, ..., 0, 0, 0],\n",
       "        [0, 0, 0, ..., 0, 0, 0],\n",
       "        ...,\n",
       "        [0, 0, 0, ..., 0, 0, 0],\n",
       "        [0, 0, 0, ..., 0, 0, 0],\n",
       "        [0, 0, 0, ..., 0, 0, 0]],\n",
       "\n",
       "       [[0, 0, 0, ..., 0, 0, 0],\n",
       "        [0, 0, 0, ..., 0, 0, 0],\n",
       "        [0, 0, 0, ..., 0, 0, 0],\n",
       "        ...,\n",
       "        [0, 0, 0, ..., 0, 0, 0],\n",
       "        [0, 0, 0, ..., 0, 0, 0],\n",
       "        [0, 0, 0, ..., 0, 0, 0]],\n",
       "\n",
       "       ...,\n",
       "\n",
       "       [[0, 0, 0, ..., 0, 0, 0],\n",
       "        [0, 0, 0, ..., 0, 0, 0],\n",
       "        [0, 0, 0, ..., 0, 0, 0],\n",
       "        ...,\n",
       "        [0, 0, 0, ..., 0, 0, 0],\n",
       "        [0, 0, 0, ..., 0, 0, 0],\n",
       "        [0, 0, 0, ..., 0, 0, 0]],\n",
       "\n",
       "       [[0, 0, 0, ..., 0, 0, 0],\n",
       "        [0, 0, 0, ..., 0, 0, 0],\n",
       "        [0, 0, 0, ..., 0, 0, 0],\n",
       "        ...,\n",
       "        [0, 0, 0, ..., 0, 0, 0],\n",
       "        [0, 0, 0, ..., 0, 0, 0],\n",
       "        [0, 0, 0, ..., 0, 0, 0]],\n",
       "\n",
       "       [[0, 0, 0, ..., 0, 0, 0],\n",
       "        [0, 0, 0, ..., 0, 0, 0],\n",
       "        [0, 0, 0, ..., 0, 0, 0],\n",
       "        ...,\n",
       "        [0, 0, 0, ..., 0, 0, 0],\n",
       "        [0, 0, 0, ..., 0, 0, 0],\n",
       "        [0, 0, 0, ..., 0, 0, 0]]], dtype=uint8)"
      ]
     },
     "execution_count": 6,
     "metadata": {},
     "output_type": "execute_result"
    }
   ],
   "source": [
    "x_train"
   ]
  },
  {
   "cell_type": "code",
   "execution_count": 7,
   "id": "0e9e6bb6-db49-4174-b215-8105e7a4a771",
   "metadata": {
    "tags": []
   },
   "outputs": [
    {
     "data": {
      "text/plain": [
       "255"
      ]
     },
     "execution_count": 7,
     "metadata": {},
     "output_type": "execute_result"
    }
   ],
   "source": [
    "x_train[10].max()"
   ]
  },
  {
   "cell_type": "code",
   "execution_count": 8,
   "id": "da912ef1-d89e-4887-82ad-89a51d171c28",
   "metadata": {
    "tags": []
   },
   "outputs": [
    {
     "data": {
      "text/plain": [
       "array([9, 0, 0, ..., 3, 0, 5], dtype=uint8)"
      ]
     },
     "execution_count": 8,
     "metadata": {},
     "output_type": "execute_result"
    }
   ],
   "source": [
    "y_train"
   ]
  },
  {
   "cell_type": "code",
   "execution_count": 9,
   "id": "2ac4e050-9507-475e-9dde-c40af00a680e",
   "metadata": {
    "tags": []
   },
   "outputs": [
    {
     "name": "stdout",
     "output_type": "stream",
     "text": [
      "Train data shape:(60000, 28, 28)\n",
      "Test data shape:(10000, 28, 28)\n"
     ]
    }
   ],
   "source": [
    "print(\"Train data shape:{}\".format(x_train.shape))\n",
    "print(\"Test data shape:{}\".format(x_test.shape))"
   ]
  },
  {
   "cell_type": "code",
   "execution_count": 10,
   "id": "92ec09f9-88aa-4020-a5d6-7a25c09436fa",
   "metadata": {
    "tags": []
   },
   "outputs": [
    {
     "name": "stdout",
     "output_type": "stream",
     "text": [
      "Number of classes training labels:10\n",
      "Unique values in training labels:[9 0 3 2 7 5 1 6 4 8]\n"
     ]
    }
   ],
   "source": [
    "print(\"Number of classes training labels:{}\".format(len(pd.unique(y_train))))\n",
    "print(\"Unique values in training labels:{}\".format(pd.unique(y_train)))"
   ]
  },
  {
   "cell_type": "code",
   "execution_count": 11,
   "id": "34a95fde-a514-4fc7-be02-62a2b1087df8",
   "metadata": {
    "tags": []
   },
   "outputs": [],
   "source": [
    "# Normalize image pixel values\n",
    "x_train = x_train / 255\n",
    "x_test = x_test / 255"
   ]
  },
  {
   "cell_type": "code",
   "execution_count": 12,
   "id": "272ba56c-c05c-44a7-8135-0cc0ef34a4f2",
   "metadata": {
    "tags": []
   },
   "outputs": [],
   "source": [
    "# Prepare one-hot encoded y-values\n",
    "y_train_cat = keras.utils.to_categorical(y=y_train, num_classes=10)\n",
    "y_test_cat = keras.utils.to_categorical(y=y_test, num_classes=10)"
   ]
  },
  {
   "cell_type": "code",
   "execution_count": 13,
   "id": "6e76aad5-bf76-4f47-8c67-9ec02e566adb",
   "metadata": {
    "tags": []
   },
   "outputs": [],
   "source": [
    "# Reshaping data to batch_size, width, height, color_channel\n",
    "x_train = x_train.reshape(60000, 28, 28, 1)\n",
    "x_test = x_test.reshape(10000, 28, 28, 1)"
   ]
  },
  {
   "cell_type": "code",
   "execution_count": 14,
   "id": "d9858381-a719-448b-a03e-40714438b259",
   "metadata": {
    "tags": []
   },
   "outputs": [],
   "source": [
    "# Prepare GPU\n",
    "def prep_devices():\n",
    "    phy_gpus = tf.config.list_physical_devices(device_type='GPU')\n",
    "    \n",
    "    for gpu in phy_gpus:\n",
    "        tf.config.experimental.set_memory_growth(device=gpu, enable=True)\n",
    "\n",
    "    log_gpus = tf.config.list_logical_devices(device_type='GPU')\n",
    "    phy_cpus = tf.config.list_physical_devices(device_type='CPU')\n",
    "    log_cpus = tf.config.list_logical_devices(device_type='CPU')\n",
    "\n",
    "    print(\"Physical GPUs: {}\\tLogical GPUs: {}\\nPhysical CPUs: {}\\tLogical CPUs: {}\".format(len(phy_gpus),\n",
    "                                                                                             len(log_gpus),\n",
    "                                                                                             len(phy_cpus),\n",
    "                                                                                             len(log_cpus)))"
   ]
  },
  {
   "cell_type": "code",
   "execution_count": 15,
   "id": "23d65e6c-8155-4f8c-a23b-62b0087496ea",
   "metadata": {
    "tags": []
   },
   "outputs": [
    {
     "name": "stdout",
     "output_type": "stream",
     "text": [
      "Physical GPUs: 1\tLogical GPUs: 1\n",
      "Physical CPUs: 1\tLogical CPUs: 1\n"
     ]
    },
    {
     "name": "stderr",
     "output_type": "stream",
     "text": [
      "2023-03-22 00:00:33.306276: I tensorflow/stream_executor/cuda/cuda_gpu_executor.cc:980] successful NUMA node read from SysFS had negative value (-1), but there must be at least one NUMA node, so returning NUMA node zero\n",
      "2023-03-22 00:00:33.308842: I tensorflow/stream_executor/cuda/cuda_gpu_executor.cc:980] successful NUMA node read from SysFS had negative value (-1), but there must be at least one NUMA node, so returning NUMA node zero\n",
      "2023-03-22 00:00:33.308965: I tensorflow/stream_executor/cuda/cuda_gpu_executor.cc:980] successful NUMA node read from SysFS had negative value (-1), but there must be at least one NUMA node, so returning NUMA node zero\n",
      "2023-03-22 00:00:33.309508: I tensorflow/core/platform/cpu_feature_guard.cc:193] This TensorFlow binary is optimized with oneAPI Deep Neural Network Library (oneDNN) to use the following CPU instructions in performance-critical operations:  AVX2 FMA\n",
      "To enable them in other operations, rebuild TensorFlow with the appropriate compiler flags.\n",
      "2023-03-22 00:00:33.309800: I tensorflow/stream_executor/cuda/cuda_gpu_executor.cc:980] successful NUMA node read from SysFS had negative value (-1), but there must be at least one NUMA node, so returning NUMA node zero\n",
      "2023-03-22 00:00:33.310041: I tensorflow/stream_executor/cuda/cuda_gpu_executor.cc:980] successful NUMA node read from SysFS had negative value (-1), but there must be at least one NUMA node, so returning NUMA node zero\n",
      "2023-03-22 00:00:33.310146: I tensorflow/stream_executor/cuda/cuda_gpu_executor.cc:980] successful NUMA node read from SysFS had negative value (-1), but there must be at least one NUMA node, so returning NUMA node zero\n",
      "2023-03-22 00:00:33.586633: I tensorflow/stream_executor/cuda/cuda_gpu_executor.cc:980] successful NUMA node read from SysFS had negative value (-1), but there must be at least one NUMA node, so returning NUMA node zero\n",
      "2023-03-22 00:00:33.586776: I tensorflow/stream_executor/cuda/cuda_gpu_executor.cc:980] successful NUMA node read from SysFS had negative value (-1), but there must be at least one NUMA node, so returning NUMA node zero\n",
      "2023-03-22 00:00:33.586879: I tensorflow/stream_executor/cuda/cuda_gpu_executor.cc:980] successful NUMA node read from SysFS had negative value (-1), but there must be at least one NUMA node, so returning NUMA node zero\n",
      "2023-03-22 00:00:33.586959: I tensorflow/core/common_runtime/gpu/gpu_device.cc:1616] Created device /job:localhost/replica:0/task:0/device:GPU:0 with 5724 MB memory:  -> device: 0, name: NVIDIA GeForce RTX 3060 Ti, pci bus id: 0000:07:00.0, compute capability: 8.6\n"
     ]
    }
   ],
   "source": [
    "os.environ['TF_CPP_MIN_LOG_LEVEL'] = '1'\n",
    "prep_devices()"
   ]
  },
  {
   "cell_type": "code",
   "execution_count": 16,
   "id": "746cc73f-60fe-41ff-a869-6503014de9f6",
   "metadata": {
    "tags": []
   },
   "outputs": [],
   "source": [
    "# Build model\n",
    "def model_func(clear_session=True):\n",
    "    if clear_session:\n",
    "        backend.clear_session()\n",
    "            \n",
    "    model = Sequential()\n",
    "    \n",
    "    model.add(Conv2D(filters=32, kernel_size=(2, 2), input_shape=(28, 28, 1), activation='relu'))\n",
    "    model.add(MaxPool2D(pool_size=(2, 2)))\n",
    "    \n",
    "    model.add(Dropout(0.5))\n",
    "    \n",
    "    model.add(Conv2D(filters=32, kernel_size=(2, 2), activation='relu'))\n",
    "    model.add(MaxPool2D(pool_size=(2, 2)))\n",
    "    \n",
    "    model.add(Flatten())\n",
    "    model.add(Dense(64, activation='relu'))\n",
    "    model.add(Dropout(0.5))\n",
    "    model.add(Dense(10, activation='softmax'))\n",
    "    \n",
    "    model.summary()\n",
    "    \n",
    "    return model"
   ]
  },
  {
   "cell_type": "code",
   "execution_count": 17,
   "id": "feba245c-3e22-4d6a-bb91-af05171f9640",
   "metadata": {
    "scrolled": true,
    "tags": []
   },
   "outputs": [
    {
     "name": "stdout",
     "output_type": "stream",
     "text": [
      "Model: \"sequential\"\n",
      "_________________________________________________________________\n",
      " Layer (type)                Output Shape              Param #   \n",
      "=================================================================\n",
      " conv2d (Conv2D)             (None, 27, 27, 32)        160       \n",
      "                                                                 \n",
      " max_pooling2d (MaxPooling2D  (None, 13, 13, 32)       0         \n",
      " )                                                               \n",
      "                                                                 \n",
      " dropout (Dropout)           (None, 13, 13, 32)        0         \n",
      "                                                                 \n",
      " conv2d_1 (Conv2D)           (None, 12, 12, 32)        4128      \n",
      "                                                                 \n",
      " max_pooling2d_1 (MaxPooling  (None, 6, 6, 32)         0         \n",
      " 2D)                                                             \n",
      "                                                                 \n",
      " flatten (Flatten)           (None, 1152)              0         \n",
      "                                                                 \n",
      " dense (Dense)               (None, 64)                73792     \n",
      "                                                                 \n",
      " dropout_1 (Dropout)         (None, 64)                0         \n",
      "                                                                 \n",
      " dense_1 (Dense)             (None, 10)                650       \n",
      "                                                                 \n",
      "=================================================================\n",
      "Total params: 78,730\n",
      "Trainable params: 78,730\n",
      "Non-trainable params: 0\n",
      "_________________________________________________________________\n",
      "Epoch 1/100\n"
     ]
    },
    {
     "name": "stderr",
     "output_type": "stream",
     "text": [
      "2023-03-22 00:19:46.385297: W tensorflow/core/framework/cpu_allocator_impl.cc:82] Allocation of 169344000 exceeds 10% of free system memory.\n",
      "2023-03-22 00:19:46.504214: W tensorflow/core/framework/cpu_allocator_impl.cc:82] Allocation of 169344000 exceeds 10% of free system memory.\n",
      "2023-03-22 00:19:47.260314: I tensorflow/stream_executor/cuda/cuda_dnn.cc:384] Loaded cuDNN version 8100\n",
      "2023-03-22 00:19:47.630383: I tensorflow/core/platform/default/subprocess.cc:304] Start cannot spawn child process: No such file or directory\n",
      "2023-03-22 00:19:47.630762: I tensorflow/core/platform/default/subprocess.cc:304] Start cannot spawn child process: No such file or directory\n",
      "2023-03-22 00:19:47.630772: W tensorflow/stream_executor/gpu/asm_compiler.cc:80] Couldn't get ptxas version string: INTERNAL: Couldn't invoke ptxas --version\n",
      "2023-03-22 00:19:47.631161: I tensorflow/core/platform/default/subprocess.cc:304] Start cannot spawn child process: No such file or directory\n",
      "2023-03-22 00:19:47.631193: W tensorflow/stream_executor/gpu/redzone_allocator.cc:314] INTERNAL: Failed to launch ptxas\n",
      "Relying on driver to perform ptx compilation. \n",
      "Modify $PATH to customize ptxas location.\n",
      "This message will be only logged once.\n",
      "2023-03-22 00:19:47.989471: I tensorflow/stream_executor/cuda/cuda_blas.cc:1614] TensorFloat-32 will be used for the matrix multiplication. This will only be logged once.\n"
     ]
    },
    {
     "name": "stdout",
     "output_type": "stream",
     "text": [
      "108/108 [==============================] - 2s 6ms/step - loss: 1.1596 - accuracy: 0.5683 - val_loss: 0.6425 - val_accuracy: 0.7603\n",
      "Epoch 2/100\n",
      "108/108 [==============================] - 0s 4ms/step - loss: 0.7122 - accuracy: 0.7368 - val_loss: 0.5323 - val_accuracy: 0.7922\n",
      "Epoch 3/100\n",
      "108/108 [==============================] - 0s 4ms/step - loss: 0.6256 - accuracy: 0.7697 - val_loss: 0.4947 - val_accuracy: 0.8080\n",
      "Epoch 4/100\n",
      "108/108 [==============================] - 0s 4ms/step - loss: 0.5827 - accuracy: 0.7859 - val_loss: 0.4609 - val_accuracy: 0.8235\n",
      "Epoch 5/100\n",
      "108/108 [==============================] - 0s 4ms/step - loss: 0.5547 - accuracy: 0.7974 - val_loss: 0.4273 - val_accuracy: 0.8422\n",
      "Epoch 6/100\n",
      "108/108 [==============================] - 0s 4ms/step - loss: 0.5371 - accuracy: 0.8045 - val_loss: 0.4057 - val_accuracy: 0.8483\n",
      "Epoch 7/100\n",
      "108/108 [==============================] - 0s 4ms/step - loss: 0.5149 - accuracy: 0.8134 - val_loss: 0.3989 - val_accuracy: 0.8558\n",
      "Epoch 8/100\n",
      "108/108 [==============================] - 0s 4ms/step - loss: 0.4981 - accuracy: 0.8190 - val_loss: 0.3817 - val_accuracy: 0.8560\n",
      "Epoch 9/100\n",
      "108/108 [==============================] - 0s 4ms/step - loss: 0.4852 - accuracy: 0.8254 - val_loss: 0.3701 - val_accuracy: 0.8610\n",
      "Epoch 10/100\n",
      "108/108 [==============================] - 0s 4ms/step - loss: 0.4739 - accuracy: 0.8284 - val_loss: 0.3622 - val_accuracy: 0.8677\n",
      "Epoch 11/100\n",
      "108/108 [==============================] - 0s 4ms/step - loss: 0.4592 - accuracy: 0.8332 - val_loss: 0.3614 - val_accuracy: 0.8685\n",
      "Epoch 12/100\n",
      "108/108 [==============================] - 0s 4ms/step - loss: 0.4552 - accuracy: 0.8352 - val_loss: 0.3467 - val_accuracy: 0.8727\n",
      "Epoch 13/100\n",
      "108/108 [==============================] - 0s 4ms/step - loss: 0.4494 - accuracy: 0.8389 - val_loss: 0.3476 - val_accuracy: 0.8717\n",
      "Epoch 14/100\n",
      "108/108 [==============================] - 0s 4ms/step - loss: 0.4409 - accuracy: 0.8402 - val_loss: 0.3389 - val_accuracy: 0.8763\n",
      "Epoch 15/100\n",
      "108/108 [==============================] - 0s 4ms/step - loss: 0.4358 - accuracy: 0.8426 - val_loss: 0.3323 - val_accuracy: 0.8798\n",
      "Epoch 16/100\n",
      "108/108 [==============================] - 0s 4ms/step - loss: 0.4279 - accuracy: 0.8451 - val_loss: 0.3291 - val_accuracy: 0.8778\n",
      "Epoch 17/100\n",
      "108/108 [==============================] - 0s 4ms/step - loss: 0.4234 - accuracy: 0.8469 - val_loss: 0.3226 - val_accuracy: 0.8847\n",
      "Epoch 18/100\n",
      "108/108 [==============================] - 0s 4ms/step - loss: 0.4159 - accuracy: 0.8494 - val_loss: 0.3200 - val_accuracy: 0.8825\n",
      "Epoch 19/100\n",
      "108/108 [==============================] - 0s 4ms/step - loss: 0.4101 - accuracy: 0.8505 - val_loss: 0.3182 - val_accuracy: 0.8820\n",
      "Epoch 20/100\n",
      "108/108 [==============================] - 0s 4ms/step - loss: 0.4116 - accuracy: 0.8502 - val_loss: 0.3258 - val_accuracy: 0.8802\n",
      "Epoch 21/100\n",
      "108/108 [==============================] - 0s 4ms/step - loss: 0.4065 - accuracy: 0.8535 - val_loss: 0.3098 - val_accuracy: 0.8857\n",
      "Epoch 22/100\n",
      "108/108 [==============================] - 0s 4ms/step - loss: 0.4033 - accuracy: 0.8535 - val_loss: 0.3076 - val_accuracy: 0.8882\n",
      "Epoch 23/100\n",
      "108/108 [==============================] - 0s 4ms/step - loss: 0.3976 - accuracy: 0.8559 - val_loss: 0.3065 - val_accuracy: 0.8902\n",
      "Epoch 24/100\n",
      "108/108 [==============================] - 0s 4ms/step - loss: 0.3964 - accuracy: 0.8569 - val_loss: 0.3102 - val_accuracy: 0.8845\n",
      "Epoch 25/100\n",
      "108/108 [==============================] - 0s 4ms/step - loss: 0.3894 - accuracy: 0.8591 - val_loss: 0.3008 - val_accuracy: 0.8897\n",
      "Epoch 26/100\n",
      "108/108 [==============================] - 0s 4ms/step - loss: 0.3868 - accuracy: 0.8599 - val_loss: 0.2979 - val_accuracy: 0.8910\n",
      "Epoch 27/100\n",
      "108/108 [==============================] - 0s 4ms/step - loss: 0.3797 - accuracy: 0.8622 - val_loss: 0.2942 - val_accuracy: 0.8918\n",
      "Epoch 28/100\n",
      "108/108 [==============================] - 0s 4ms/step - loss: 0.3823 - accuracy: 0.8606 - val_loss: 0.2925 - val_accuracy: 0.8918\n",
      "Epoch 29/100\n",
      "108/108 [==============================] - 0s 4ms/step - loss: 0.3737 - accuracy: 0.8640 - val_loss: 0.2958 - val_accuracy: 0.8857\n",
      "Epoch 30/100\n",
      "108/108 [==============================] - 0s 4ms/step - loss: 0.3731 - accuracy: 0.8632 - val_loss: 0.2885 - val_accuracy: 0.8937\n",
      "Epoch 31/100\n",
      "108/108 [==============================] - 0s 4ms/step - loss: 0.3735 - accuracy: 0.8620 - val_loss: 0.2815 - val_accuracy: 0.8957\n",
      "Epoch 32/100\n",
      "108/108 [==============================] - 0s 4ms/step - loss: 0.3674 - accuracy: 0.8660 - val_loss: 0.2862 - val_accuracy: 0.8938\n",
      "Epoch 33/100\n",
      "108/108 [==============================] - 0s 4ms/step - loss: 0.3665 - accuracy: 0.8656 - val_loss: 0.2842 - val_accuracy: 0.8953\n",
      "Epoch 34/100\n",
      "108/108 [==============================] - 0s 4ms/step - loss: 0.3647 - accuracy: 0.8699 - val_loss: 0.2799 - val_accuracy: 0.8977\n",
      "Epoch 35/100\n",
      "108/108 [==============================] - 0s 4ms/step - loss: 0.3650 - accuracy: 0.8671 - val_loss: 0.2783 - val_accuracy: 0.8995\n",
      "Epoch 36/100\n",
      "108/108 [==============================] - 0s 4ms/step - loss: 0.3603 - accuracy: 0.8696 - val_loss: 0.2733 - val_accuracy: 0.8998\n",
      "Epoch 37/100\n",
      "108/108 [==============================] - 0s 4ms/step - loss: 0.3573 - accuracy: 0.8689 - val_loss: 0.2728 - val_accuracy: 0.9010\n",
      "Epoch 38/100\n",
      "108/108 [==============================] - 0s 4ms/step - loss: 0.3551 - accuracy: 0.8690 - val_loss: 0.2768 - val_accuracy: 0.8973\n",
      "Epoch 39/100\n",
      "108/108 [==============================] - 0s 4ms/step - loss: 0.3555 - accuracy: 0.8701 - val_loss: 0.2692 - val_accuracy: 0.8983\n",
      "Epoch 40/100\n",
      "108/108 [==============================] - 0s 4ms/step - loss: 0.3528 - accuracy: 0.8712 - val_loss: 0.2700 - val_accuracy: 0.8997\n",
      "Epoch 41/100\n",
      "108/108 [==============================] - 0s 4ms/step - loss: 0.3474 - accuracy: 0.8717 - val_loss: 0.2750 - val_accuracy: 0.9000\n",
      "Epoch 42/100\n",
      "108/108 [==============================] - 0s 4ms/step - loss: 0.3496 - accuracy: 0.8729 - val_loss: 0.2711 - val_accuracy: 0.9002\n",
      "Epoch 43/100\n",
      "108/108 [==============================] - 0s 4ms/step - loss: 0.3456 - accuracy: 0.8736 - val_loss: 0.2702 - val_accuracy: 0.8985\n",
      "Epoch 44/100\n",
      "108/108 [==============================] - 0s 4ms/step - loss: 0.3442 - accuracy: 0.8741 - val_loss: 0.2654 - val_accuracy: 0.9015\n",
      "Epoch 45/100\n",
      "108/108 [==============================] - 0s 4ms/step - loss: 0.3422 - accuracy: 0.8756 - val_loss: 0.2625 - val_accuracy: 0.9045\n",
      "Epoch 46/100\n",
      "108/108 [==============================] - 0s 4ms/step - loss: 0.3391 - accuracy: 0.8756 - val_loss: 0.2642 - val_accuracy: 0.9013\n",
      "Epoch 47/100\n",
      "108/108 [==============================] - 0s 4ms/step - loss: 0.3418 - accuracy: 0.8767 - val_loss: 0.2611 - val_accuracy: 0.9042\n",
      "Epoch 48/100\n",
      "108/108 [==============================] - 0s 4ms/step - loss: 0.3346 - accuracy: 0.8780 - val_loss: 0.2577 - val_accuracy: 0.9045\n",
      "Epoch 49/100\n",
      "108/108 [==============================] - 0s 4ms/step - loss: 0.3328 - accuracy: 0.8780 - val_loss: 0.2605 - val_accuracy: 0.9037\n",
      "Epoch 50/100\n",
      "108/108 [==============================] - 0s 4ms/step - loss: 0.3325 - accuracy: 0.8787 - val_loss: 0.2636 - val_accuracy: 0.9023\n",
      "Epoch 51/100\n",
      "108/108 [==============================] - 0s 4ms/step - loss: 0.3321 - accuracy: 0.8787 - val_loss: 0.2571 - val_accuracy: 0.9040\n",
      "Epoch 52/100\n",
      "108/108 [==============================] - 0s 4ms/step - loss: 0.3283 - accuracy: 0.8794 - val_loss: 0.2596 - val_accuracy: 0.9033\n",
      "Epoch 53/100\n",
      "108/108 [==============================] - 0s 4ms/step - loss: 0.3258 - accuracy: 0.8795 - val_loss: 0.2589 - val_accuracy: 0.9065\n",
      "Epoch 54/100\n",
      "108/108 [==============================] - 0s 4ms/step - loss: 0.3252 - accuracy: 0.8803 - val_loss: 0.2518 - val_accuracy: 0.9057\n",
      "Epoch 55/100\n",
      "108/108 [==============================] - 0s 4ms/step - loss: 0.3228 - accuracy: 0.8824 - val_loss: 0.2544 - val_accuracy: 0.9048\n",
      "Epoch 56/100\n",
      "108/108 [==============================] - 0s 4ms/step - loss: 0.3211 - accuracy: 0.8819 - val_loss: 0.2535 - val_accuracy: 0.9053\n",
      "Epoch 57/100\n",
      "108/108 [==============================] - 0s 4ms/step - loss: 0.3200 - accuracy: 0.8818 - val_loss: 0.2524 - val_accuracy: 0.9097\n",
      "Epoch 58/100\n",
      "108/108 [==============================] - 0s 4ms/step - loss: 0.3168 - accuracy: 0.8833 - val_loss: 0.2499 - val_accuracy: 0.9063\n",
      "Epoch 59/100\n",
      "108/108 [==============================] - 0s 4ms/step - loss: 0.3190 - accuracy: 0.8832 - val_loss: 0.2529 - val_accuracy: 0.9072\n",
      "Epoch 60/100\n",
      "108/108 [==============================] - 0s 4ms/step - loss: 0.3168 - accuracy: 0.8839 - val_loss: 0.2480 - val_accuracy: 0.9092\n",
      "Epoch 61/100\n",
      "108/108 [==============================] - 0s 4ms/step - loss: 0.3154 - accuracy: 0.8854 - val_loss: 0.2491 - val_accuracy: 0.9052\n",
      "Epoch 62/100\n",
      "108/108 [==============================] - 0s 4ms/step - loss: 0.3168 - accuracy: 0.8842 - val_loss: 0.2448 - val_accuracy: 0.9077\n",
      "Epoch 63/100\n",
      "108/108 [==============================] - 0s 4ms/step - loss: 0.3167 - accuracy: 0.8838 - val_loss: 0.2465 - val_accuracy: 0.9072\n",
      "Epoch 64/100\n",
      "108/108 [==============================] - 0s 4ms/step - loss: 0.3132 - accuracy: 0.8852 - val_loss: 0.2497 - val_accuracy: 0.9080\n",
      "Epoch 65/100\n",
      "108/108 [==============================] - 0s 4ms/step - loss: 0.3124 - accuracy: 0.8856 - val_loss: 0.2542 - val_accuracy: 0.9052\n",
      "Epoch 66/100\n",
      "108/108 [==============================] - 0s 4ms/step - loss: 0.3112 - accuracy: 0.8852 - val_loss: 0.2433 - val_accuracy: 0.9092\n",
      "Epoch 67/100\n",
      "108/108 [==============================] - 0s 4ms/step - loss: 0.3083 - accuracy: 0.8864 - val_loss: 0.2556 - val_accuracy: 0.9042\n",
      "Epoch 68/100\n",
      "108/108 [==============================] - 0s 4ms/step - loss: 0.3077 - accuracy: 0.8859 - val_loss: 0.2421 - val_accuracy: 0.9085\n",
      "Epoch 69/100\n",
      "108/108 [==============================] - 0s 4ms/step - loss: 0.3079 - accuracy: 0.8857 - val_loss: 0.2402 - val_accuracy: 0.9112\n",
      "Epoch 70/100\n",
      "108/108 [==============================] - 0s 4ms/step - loss: 0.3036 - accuracy: 0.8894 - val_loss: 0.2430 - val_accuracy: 0.9100\n",
      "Epoch 71/100\n",
      "108/108 [==============================] - 0s 4ms/step - loss: 0.3048 - accuracy: 0.8878 - val_loss: 0.2399 - val_accuracy: 0.9122\n",
      "Epoch 72/100\n",
      "108/108 [==============================] - 0s 4ms/step - loss: 0.3037 - accuracy: 0.8875 - val_loss: 0.2471 - val_accuracy: 0.9085\n",
      "Epoch 73/100\n",
      "108/108 [==============================] - 0s 4ms/step - loss: 0.2991 - accuracy: 0.8897 - val_loss: 0.2379 - val_accuracy: 0.9125\n",
      "Epoch 74/100\n",
      "108/108 [==============================] - 0s 4ms/step - loss: 0.3013 - accuracy: 0.8889 - val_loss: 0.2417 - val_accuracy: 0.9102\n",
      "Epoch 75/100\n",
      "108/108 [==============================] - 0s 4ms/step - loss: 0.2981 - accuracy: 0.8912 - val_loss: 0.2416 - val_accuracy: 0.9115\n",
      "Epoch 76/100\n",
      "108/108 [==============================] - 0s 4ms/step - loss: 0.2992 - accuracy: 0.8902 - val_loss: 0.2399 - val_accuracy: 0.9112\n",
      "Epoch 77/100\n",
      "108/108 [==============================] - 0s 4ms/step - loss: 0.2946 - accuracy: 0.8888 - val_loss: 0.2389 - val_accuracy: 0.9107\n",
      "Epoch 78/100\n",
      "108/108 [==============================] - 0s 4ms/step - loss: 0.2985 - accuracy: 0.8901 - val_loss: 0.2395 - val_accuracy: 0.9120\n"
     ]
    },
    {
     "data": {
      "text/plain": [
       "<keras.callbacks.History at 0x7fa86ddcd2e0>"
      ]
     },
     "execution_count": 17,
     "metadata": {},
     "output_type": "execute_result"
    }
   ],
   "source": [
    "# Fit model\n",
    "model = model_func()\n",
    "model.compile(loss='categorical_crossentropy', optimizer='adam', metrics=['accuracy'])\n",
    "\n",
    "early_stop = EarlyStopping(monitor='val_loss', mode='min', patience=5, restore_best_weights=True)\n",
    "model.fit(x=x_train, y=y_train_cat, epochs=100, validation_split=0.1, batch_size=500, callbacks=[early_stop])"
   ]
  },
  {
   "cell_type": "code",
   "execution_count": 18,
   "id": "2294ef4f-5c96-4c1f-ab56-85e69bd8d482",
   "metadata": {
    "scrolled": true,
    "tags": []
   },
   "outputs": [
    {
     "data": {
      "text/html": [
       "<div>\n",
       "<style scoped>\n",
       "    .dataframe tbody tr th:only-of-type {\n",
       "        vertical-align: middle;\n",
       "    }\n",
       "\n",
       "    .dataframe tbody tr th {\n",
       "        vertical-align: top;\n",
       "    }\n",
       "\n",
       "    .dataframe thead th {\n",
       "        text-align: right;\n",
       "    }\n",
       "</style>\n",
       "<table border=\"1\" class=\"dataframe\">\n",
       "  <thead>\n",
       "    <tr style=\"text-align: right;\">\n",
       "      <th></th>\n",
       "      <th>loss</th>\n",
       "      <th>accuracy</th>\n",
       "      <th>val_loss</th>\n",
       "      <th>val_accuracy</th>\n",
       "    </tr>\n",
       "  </thead>\n",
       "  <tbody>\n",
       "    <tr>\n",
       "      <th>0</th>\n",
       "      <td>1.159647</td>\n",
       "      <td>0.568315</td>\n",
       "      <td>0.642488</td>\n",
       "      <td>0.760333</td>\n",
       "    </tr>\n",
       "    <tr>\n",
       "      <th>1</th>\n",
       "      <td>0.712198</td>\n",
       "      <td>0.736796</td>\n",
       "      <td>0.532308</td>\n",
       "      <td>0.792167</td>\n",
       "    </tr>\n",
       "    <tr>\n",
       "      <th>2</th>\n",
       "      <td>0.625560</td>\n",
       "      <td>0.769685</td>\n",
       "      <td>0.494651</td>\n",
       "      <td>0.808000</td>\n",
       "    </tr>\n",
       "    <tr>\n",
       "      <th>3</th>\n",
       "      <td>0.582699</td>\n",
       "      <td>0.785926</td>\n",
       "      <td>0.460894</td>\n",
       "      <td>0.823500</td>\n",
       "    </tr>\n",
       "    <tr>\n",
       "      <th>4</th>\n",
       "      <td>0.554673</td>\n",
       "      <td>0.797444</td>\n",
       "      <td>0.427337</td>\n",
       "      <td>0.842167</td>\n",
       "    </tr>\n",
       "    <tr>\n",
       "      <th>...</th>\n",
       "      <td>...</td>\n",
       "      <td>...</td>\n",
       "      <td>...</td>\n",
       "      <td>...</td>\n",
       "    </tr>\n",
       "    <tr>\n",
       "      <th>73</th>\n",
       "      <td>0.301326</td>\n",
       "      <td>0.888870</td>\n",
       "      <td>0.241672</td>\n",
       "      <td>0.910167</td>\n",
       "    </tr>\n",
       "    <tr>\n",
       "      <th>74</th>\n",
       "      <td>0.298101</td>\n",
       "      <td>0.891167</td>\n",
       "      <td>0.241585</td>\n",
       "      <td>0.911500</td>\n",
       "    </tr>\n",
       "    <tr>\n",
       "      <th>75</th>\n",
       "      <td>0.299150</td>\n",
       "      <td>0.890222</td>\n",
       "      <td>0.239927</td>\n",
       "      <td>0.911167</td>\n",
       "    </tr>\n",
       "    <tr>\n",
       "      <th>76</th>\n",
       "      <td>0.294641</td>\n",
       "      <td>0.888815</td>\n",
       "      <td>0.238892</td>\n",
       "      <td>0.910667</td>\n",
       "    </tr>\n",
       "    <tr>\n",
       "      <th>77</th>\n",
       "      <td>0.298524</td>\n",
       "      <td>0.890111</td>\n",
       "      <td>0.239546</td>\n",
       "      <td>0.912000</td>\n",
       "    </tr>\n",
       "  </tbody>\n",
       "</table>\n",
       "<p>78 rows × 4 columns</p>\n",
       "</div>"
      ],
      "text/plain": [
       "        loss  accuracy  val_loss  val_accuracy\n",
       "0   1.159647  0.568315  0.642488      0.760333\n",
       "1   0.712198  0.736796  0.532308      0.792167\n",
       "2   0.625560  0.769685  0.494651      0.808000\n",
       "3   0.582699  0.785926  0.460894      0.823500\n",
       "4   0.554673  0.797444  0.427337      0.842167\n",
       "..       ...       ...       ...           ...\n",
       "73  0.301326  0.888870  0.241672      0.910167\n",
       "74  0.298101  0.891167  0.241585      0.911500\n",
       "75  0.299150  0.890222  0.239927      0.911167\n",
       "76  0.294641  0.888815  0.238892      0.910667\n",
       "77  0.298524  0.890111  0.239546      0.912000\n",
       "\n",
       "[78 rows x 4 columns]"
      ]
     },
     "execution_count": 18,
     "metadata": {},
     "output_type": "execute_result"
    }
   ],
   "source": [
    "# Model evaluation\n",
    "metrics = pd.DataFrame(model.history.history)\n",
    "metrics"
   ]
  },
  {
   "cell_type": "code",
   "execution_count": 19,
   "id": "b6d38773-8a41-417b-b21d-8bd860e6fb9c",
   "metadata": {
    "tags": []
   },
   "outputs": [
    {
     "data": {
      "text/plain": [
       "<Axes: >"
      ]
     },
     "execution_count": 19,
     "metadata": {},
     "output_type": "execute_result"
    },
    {
     "data": {
      "image/png": "[encoded data removed]",
      "text/plain": [
       "<Figure size 640x480 with 1 Axes>"
      ]
     },
     "metadata": {},
     "output_type": "display_data"
    }
   ],
   "source": [
    "# Evaluate graphically\n",
    "metrics = pd.DataFrame(model.history.history)\n",
    "sns.lineplot(data=metrics[['accuracy', 'val_accuracy']])"
   ]
  },
  {
   "cell_type": "code",
   "execution_count": 20,
   "id": "a8ba4f8b-4151-484a-9129-32cb47681517",
   "metadata": {
    "tags": []
   },
   "outputs": [
    {
     "name": "stdout",
     "output_type": "stream",
     "text": [
      "313/313 [==============================] - 0s 665us/step\n",
      "              precision    recall  f1-score   support\n",
      "\n",
      "           0       0.84      0.86      0.85      1000\n",
      "           1       1.00      0.97      0.98      1000\n",
      "           2       0.85      0.87      0.86      1000\n",
      "           3       0.89      0.92      0.90      1000\n",
      "           4       0.84      0.86      0.85      1000\n",
      "           5       0.98      0.98      0.98      1000\n",
      "           6       0.75      0.69      0.72      1000\n",
      "           7       0.95      0.97      0.96      1000\n",
      "           8       0.98      0.98      0.98      1000\n",
      "           9       0.97      0.96      0.96      1000\n",
      "\n",
      "    accuracy                           0.91     10000\n",
      "   macro avg       0.91      0.91      0.91     10000\n",
      "weighted avg       0.91      0.91      0.91     10000\n",
      "\n",
      "\n",
      "\n",
      "[[858   0  20  23   6   0  89   0   4   0]\n",
      " [  0 973   1  20   3   0   1   0   2   0]\n",
      " [ 15   0 873  10  52   0  49   0   1   0]\n",
      " [ 15   2  10 918  25   0  28   0   2   0]\n",
      " [  1   1  44  31 858   0  65   0   0   0]\n",
      " [  0   0   0   1   0 985   0   9   0   5]\n",
      " [129   0  79  25  72   0 689   0   6   0]\n",
      " [  0   0   0   0   0   9   0 967   0  24]\n",
      " [  1   0   4   5   4   3   2   4 977   0]\n",
      " [  0   0   0   0   0   4   1  37   0 958]]\n"
     ]
    }
   ],
   "source": [
    "# Compute predicted classes and model performance metrics\n",
    "y_pred = np.argmax(model.predict(x_test), axis=-1)\n",
    "\n",
    "print(classification_report(y_true=y_test, y_pred=y_pred))\n",
    "print(\"\\n\")\n",
    "print(confusion_matrix(y_true=y_test, y_pred=y_pred))"
   ]
  },
  {
   "cell_type": "code",
   "execution_count": null,
   "id": "34f6b774-99f9-4a20-bd42-9343b5754249",
   "metadata": {},
   "outputs": [],
   "source": []
  }
 ],
 "metadata": {
  "kernelspec": {
   "display_name": "Python 3 (ipykernel)",
   "language": "python",
   "name": "python3"
  },
  "language_info": {
   "codemirror_mode": {
    "name": "ipython",
    "version": 3
   },
   "file_extension": ".py",
   "mimetype": "text/x-python",
   "name": "python",
   "nbconvert_exporter": "python",
   "pygments_lexer": "ipython3",
   "version": "3.9.16"
  }
 },
 "nbformat": 4,
 "nbformat_minor": 5
}
