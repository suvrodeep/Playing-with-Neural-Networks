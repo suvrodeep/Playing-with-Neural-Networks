{
 "cells": [
  {
   "cell_type": "code",
   "execution_count": 1,
   "id": "cfd60c17-7e45-47bf-8d63-cae5207feadd",
   "metadata": {},
   "outputs": [],
   "source": [
    "import os\n",
    "import tensorflow as tf\n",
    "from tensorflow.keras.datasets import fashion_mnist\n",
    "import matplotlib.pyplot as plt\n",
    "from tensorflow import keras\n",
    "from tensorflow.keras.models import Sequential\n",
    "from tensorflow.keras.layers import Dense, Conv2D, MaxPool2D, Flatten, Dropout\n",
    "from tensorflow.keras.callbacks import EarlyStopping\n",
    "from tensorflow.keras import backend\n",
    "import pandas as pd\n",
    "import numpy as np\n",
    "import seaborn as sns\n",
    "from sklearn.metrics import confusion_matrix\n",
    "from sklearn.metrics import classification_report"
   ]
  },
  {
   "cell_type": "code",
   "execution_count": 2,
   "id": "8bbc1ff1-e154-4773-b964-5db6f42ba0bd",
   "metadata": {},
   "outputs": [
    {
     "name": "stdout",
     "output_type": "stream",
     "text": [
      "Downloading data from https://storage.googleapis.com/tensorflow/tf-keras-datasets/train-labels-idx1-ubyte.gz\n",
      "32768/29515 [=================================] - 0s 1us/step\n",
      "Downloading data from https://storage.googleapis.com/tensorflow/tf-keras-datasets/train-images-idx3-ubyte.gz\n",
      "26427392/26421880 [==============================] - 4s 0us/step\n",
      "Downloading data from https://storage.googleapis.com/tensorflow/tf-keras-datasets/t10k-labels-idx1-ubyte.gz\n",
      "8192/5148 [===============================================] - 0s 0us/step\n",
      "Downloading data from https://storage.googleapis.com/tensorflow/tf-keras-datasets/t10k-images-idx3-ubyte.gz\n",
      "4423680/4422102 [==============================] - 1s 0us/step\n"
     ]
    }
   ],
   "source": [
    "# Load data\n",
    "(x_train, y_train), (x_test, y_test) = fashion_mnist.load_data()"
   ]
  },
  {
   "cell_type": "code",
   "execution_count": 3,
   "id": "64a6d1b6-29dd-4371-b623-b3ef6656447e",
   "metadata": {
    "collapsed": true,
    "jupyter": {
     "outputs_hidden": true,
     "source_hidden": true
    },
    "tags": []
   },
   "outputs": [
    {
     "data": {
      "text/plain": [
       "(28, 28)"
      ]
     },
     "execution_count": 3,
     "metadata": {},
     "output_type": "execute_result"
    }
   ],
   "source": [
    "# Check dimensions of image\n",
    "x_train[0].shape"
   ]
  },
  {
   "cell_type": "code",
   "execution_count": 4,
   "id": "b53e639c-c105-4446-8483-0a11b6725740",
   "metadata": {
    "collapsed": true,
    "jupyter": {
     "outputs_hidden": true,
     "source_hidden": true
    },
    "tags": []
   },
   "outputs": [
    {
     "data": {
      "text/plain": [
       "<matplotlib.image.AxesImage at 0x7f5322c25ee0>"
      ]
     },
     "execution_count": 4,
     "metadata": {},
     "output_type": "execute_result"
    },
    {
     "data": {
      "image/png": "[encoded data removed]",
      "text/plain": [
       "<Figure size 432x288 with 1 Axes>"
      ]
     },
     "metadata": {
      "needs_background": "light"
     },
     "output_type": "display_data"
    }
   ],
   "source": [
    "# View a sample image\n",
    "plt.imshow(x_train[10])"
   ]
  },
  {
   "cell_type": "code",
   "execution_count": 5,
   "id": "825b240a-79b2-4a93-a5af-ba572a7e05f0",
   "metadata": {
    "jupyter": {
     "source_hidden": true
    },
    "tags": []
   },
   "outputs": [],
   "source": [
    "##################################################\n",
    "# Explore training data and labels\n",
    "##################################################"
   ]
  },
  {
   "cell_type": "code",
   "execution_count": 6,
   "id": "2e555217-4097-41b6-a5b9-b2a4b192ed17",
   "metadata": {
    "collapsed": true,
    "jupyter": {
     "outputs_hidden": true,
     "source_hidden": true
    },
    "scrolled": true,
    "tags": []
   },
   "outputs": [
    {
     "data": {
      "text/plain": [
       "array([[[0, 0, 0, ..., 0, 0, 0],\n",
       "        [0, 0, 0, ..., 0, 0, 0],\n",
       "        [0, 0, 0, ..., 0, 0, 0],\n",
       "        ...,\n",
       "        [0, 0, 0, ..., 0, 0, 0],\n",
       "        [0, 0, 0, ..., 0, 0, 0],\n",
       "        [0, 0, 0, ..., 0, 0, 0]],\n",
       "\n",
       "       [[0, 0, 0, ..., 0, 0, 0],\n",
       "        [0, 0, 0, ..., 0, 0, 0],\n",
       "        [0, 0, 0, ..., 0, 0, 0],\n",
       "        ...,\n",
       "        [0, 0, 0, ..., 0, 0, 0],\n",
       "        [0, 0, 0, ..., 0, 0, 0],\n",
       "        [0, 0, 0, ..., 0, 0, 0]],\n",
       "\n",
       "       [[0, 0, 0, ..., 0, 0, 0],\n",
       "        [0, 0, 0, ..., 0, 0, 0],\n",
       "        [0, 0, 0, ..., 0, 0, 0],\n",
       "        ...,\n",
       "        [0, 0, 0, ..., 0, 0, 0],\n",
       "        [0, 0, 0, ..., 0, 0, 0],\n",
       "        [0, 0, 0, ..., 0, 0, 0]],\n",
       "\n",
       "       ...,\n",
       "\n",
       "       [[0, 0, 0, ..., 0, 0, 0],\n",
       "        [0, 0, 0, ..., 0, 0, 0],\n",
       "        [0, 0, 0, ..., 0, 0, 0],\n",
       "        ...,\n",
       "        [0, 0, 0, ..., 0, 0, 0],\n",
       "        [0, 0, 0, ..., 0, 0, 0],\n",
       "        [0, 0, 0, ..., 0, 0, 0]],\n",
       "\n",
       "       [[0, 0, 0, ..., 0, 0, 0],\n",
       "        [0, 0, 0, ..., 0, 0, 0],\n",
       "        [0, 0, 0, ..., 0, 0, 0],\n",
       "        ...,\n",
       "        [0, 0, 0, ..., 0, 0, 0],\n",
       "        [0, 0, 0, ..., 0, 0, 0],\n",
       "        [0, 0, 0, ..., 0, 0, 0]],\n",
       "\n",
       "       [[0, 0, 0, ..., 0, 0, 0],\n",
       "        [0, 0, 0, ..., 0, 0, 0],\n",
       "        [0, 0, 0, ..., 0, 0, 0],\n",
       "        ...,\n",
       "        [0, 0, 0, ..., 0, 0, 0],\n",
       "        [0, 0, 0, ..., 0, 0, 0],\n",
       "        [0, 0, 0, ..., 0, 0, 0]]], dtype=uint8)"
      ]
     },
     "execution_count": 6,
     "metadata": {},
     "output_type": "execute_result"
    }
   ],
   "source": [
    "x_train"
   ]
  },
  {
   "cell_type": "code",
   "execution_count": 7,
   "id": "0e9e6bb6-db49-4174-b215-8105e7a4a771",
   "metadata": {
    "collapsed": true,
    "jupyter": {
     "outputs_hidden": true,
     "source_hidden": true
    },
    "tags": []
   },
   "outputs": [
    {
     "data": {
      "text/plain": [
       "255"
      ]
     },
     "execution_count": 7,
     "metadata": {},
     "output_type": "execute_result"
    }
   ],
   "source": [
    "x_train[10].max()"
   ]
  },
  {
   "cell_type": "code",
   "execution_count": 8,
   "id": "da912ef1-d89e-4887-82ad-89a51d171c28",
   "metadata": {
    "collapsed": true,
    "jupyter": {
     "outputs_hidden": true,
     "source_hidden": true
    },
    "tags": []
   },
   "outputs": [
    {
     "data": {
      "text/plain": [
       "array([9, 0, 0, ..., 3, 0, 5], dtype=uint8)"
      ]
     },
     "execution_count": 8,
     "metadata": {},
     "output_type": "execute_result"
    }
   ],
   "source": [
    "y_train"
   ]
  },
  {
   "cell_type": "code",
   "execution_count": 3,
   "id": "2ac4e050-9507-475e-9dde-c40af00a680e",
   "metadata": {},
   "outputs": [
    {
     "name": "stdout",
     "output_type": "stream",
     "text": [
      "Train data shape:(60000, 28, 28)\n",
      "Test data shape:(10000, 28, 28)\n"
     ]
    }
   ],
   "source": [
    "print(\"Train data shape:{}\".format(x_train.shape))\n",
    "print(\"Test data shape:{}\".format(x_test.shape))"
   ]
  },
  {
   "cell_type": "code",
   "execution_count": 4,
   "id": "92ec09f9-88aa-4020-a5d6-7a25c09436fa",
   "metadata": {},
   "outputs": [
    {
     "name": "stdout",
     "output_type": "stream",
     "text": [
      "Number of classes training labels:10\n",
      "Unique values in training labels:[9 0 3 2 7 5 1 6 4 8]\n"
     ]
    }
   ],
   "source": [
    "print(\"Number of classes training labels:{}\".format(len(pd.unique(y_train))))\n",
    "print(\"Unique values in training labels:{}\".format(pd.unique(y_train)))"
   ]
  },
  {
   "cell_type": "code",
   "execution_count": 5,
   "id": "34a95fde-a514-4fc7-be02-62a2b1087df8",
   "metadata": {},
   "outputs": [],
   "source": [
    "# Normalize image pixel values\n",
    "x_train = x_train / 255\n",
    "x_test = x_test / 255"
   ]
  },
  {
   "cell_type": "code",
   "execution_count": 6,
   "id": "272ba56c-c05c-44a7-8135-0cc0ef34a4f2",
   "metadata": {},
   "outputs": [],
   "source": [
    "# Prepare one-hot encoded y-values\n",
    "y_train_cat = keras.utils.to_categorical(y=y_train, num_classes=10)\n",
    "y_test_cat = keras.utils.to_categorical(y=y_test, num_classes=10)"
   ]
  },
  {
   "cell_type": "code",
   "execution_count": 7,
   "id": "6e76aad5-bf76-4f47-8c67-9ec02e566adb",
   "metadata": {},
   "outputs": [],
   "source": [
    "# Reshaping data to batch_size, width, height, color_channel\n",
    "x_train = x_train.reshape(60000, 28, 28, 1)\n",
    "x_test = x_test.reshape(10000, 28, 28, 1)"
   ]
  },
  {
   "cell_type": "code",
   "execution_count": 8,
   "id": "d9858381-a719-448b-a03e-40714438b259",
   "metadata": {},
   "outputs": [],
   "source": [
    "# Prepare GPU\n",
    "def prep_devices():\n",
    "    phy_gpus = tf.config.list_physical_devices(device_type='GPU')\n",
    "    \n",
    "    for gpu in phy_gpus:\n",
    "        tf.config.experimental.set_memory_growth(device=gpu, enable=True)\n",
    "\n",
    "    log_gpus = tf.config.list_logical_devices(device_type='GPU')\n",
    "    phy_cpus = tf.config.list_physical_devices(device_type='CPU')\n",
    "    log_cpus = tf.config.list_logical_devices(device_type='CPU')\n",
    "\n",
    "    print(\"Physical GPUs: {}\\tLogical GPUs: {}\\nPhysical CPUs: {}\\tLogical CPUs: {}\".format(len(phy_gpus),\n",
    "                                                                                             len(log_gpus),\n",
    "                                                                                             len(phy_cpus),\n",
    "                                                                                             len(log_cpus)))"
   ]
  },
  {
   "cell_type": "code",
   "execution_count": 9,
   "id": "23d65e6c-8155-4f8c-a23b-62b0087496ea",
   "metadata": {},
   "outputs": [
    {
     "name": "stdout",
     "output_type": "stream",
     "text": [
      "Physical GPUs: 1\tLogical GPUs: 1\n",
      "Physical CPUs: 1\tLogical CPUs: 1\n"
     ]
    }
   ],
   "source": [
    "os.environ['TF_CPP_MIN_LOG_LEVEL'] = '1'\n",
    "prep_devices()"
   ]
  },
  {
   "cell_type": "code",
   "execution_count": 10,
   "id": "746cc73f-60fe-41ff-a869-6503014de9f6",
   "metadata": {},
   "outputs": [],
   "source": [
    "# Build model\n",
    "def model_func(clear_session=True):\n",
    "    if clear_session:\n",
    "        backend.clear_session()\n",
    "            \n",
    "    model = Sequential()\n",
    "    \n",
    "    model.add(Conv2D(filters=32, kernel_size=(3, 3), input_shape=(28, 28, 1), activation='relu'))\n",
    "    model.add(MaxPool2D(pool_size=(2, 2)))\n",
    "    \n",
    "    model.add(Dropout(0.5))\n",
    "    \n",
    "    model.add(Conv2D(filters=32, kernel_size=(3, 3), activation='relu'))\n",
    "    model.add(MaxPool2D(pool_size=(2, 2)))\n",
    "    \n",
    "    model.add(Flatten())\n",
    "    model.add(Dense(64, activation='relu'))\n",
    "    model.add(Dropout(0.5))\n",
    "    model.add(Dense(10, activation='softmax'))\n",
    "    \n",
    "    model.summary()\n",
    "    \n",
    "    return model"
   ]
  },
  {
   "cell_type": "code",
   "execution_count": 16,
   "id": "feba245c-3e22-4d6a-bb91-af05171f9640",
   "metadata": {
    "scrolled": true,
    "tags": []
   },
   "outputs": [
    {
     "name": "stdout",
     "output_type": "stream",
     "text": [
      "Model: \"sequential\"\n",
      "_________________________________________________________________\n",
      "Layer (type)                 Output Shape              Param #   \n",
      "=================================================================\n",
      "conv2d (Conv2D)              (None, 26, 26, 32)        320       \n",
      "_________________________________________________________________\n",
      "max_pooling2d (MaxPooling2D) (None, 13, 13, 32)        0         \n",
      "_________________________________________________________________\n",
      "dropout (Dropout)            (None, 13, 13, 32)        0         \n",
      "_________________________________________________________________\n",
      "conv2d_1 (Conv2D)            (None, 11, 11, 32)        9248      \n",
      "_________________________________________________________________\n",
      "max_pooling2d_1 (MaxPooling2 (None, 5, 5, 32)          0         \n",
      "_________________________________________________________________\n",
      "flatten (Flatten)            (None, 800)               0         \n",
      "_________________________________________________________________\n",
      "dense (Dense)                (None, 64)                51264     \n",
      "_________________________________________________________________\n",
      "dropout_1 (Dropout)          (None, 64)                0         \n",
      "_________________________________________________________________\n",
      "dense_1 (Dense)              (None, 10)                650       \n",
      "=================================================================\n",
      "Total params: 61,482\n",
      "Trainable params: 61,482\n",
      "Non-trainable params: 0\n",
      "_________________________________________________________________\n",
      "Epoch 1/100\n",
      "  1/108 [..............................] - ETA: 0s - accuracy: 0.1060 - loss: 2.3332WARNING:tensorflow:Callbacks method `on_train_batch_end` is slow compared to the batch time (batch time: 0.0021s vs `on_train_batch_end` time: 0.0085s). Check your callbacks.\n",
      "108/108 [==============================] - 1s 12ms/step - accuracy: 0.5276 - loss: 1.2968 - val_accuracy: 0.7420 - val_loss: 0.7041\n",
      "Epoch 2/100\n",
      "108/108 [==============================] - 1s 12ms/step - accuracy: 0.7071 - loss: 0.8000 - val_accuracy: 0.7855 - val_loss: 0.5722\n",
      "Epoch 3/100\n",
      "108/108 [==============================] - 1s 11ms/step - accuracy: 0.7476 - loss: 0.6825 - val_accuracy: 0.8037 - val_loss: 0.5139\n",
      "Epoch 4/100\n",
      "108/108 [==============================] - 1s 11ms/step - accuracy: 0.7640 - loss: 0.6323 - val_accuracy: 0.8137 - val_loss: 0.4964\n",
      "Epoch 5/100\n",
      "108/108 [==============================] - 1s 11ms/step - accuracy: 0.7773 - loss: 0.6020 - val_accuracy: 0.8278 - val_loss: 0.4689\n",
      "Epoch 6/100\n",
      "108/108 [==============================] - 1s 11ms/step - accuracy: 0.7855 - loss: 0.5781 - val_accuracy: 0.8392 - val_loss: 0.4443\n",
      "Epoch 7/100\n",
      "108/108 [==============================] - 1s 11ms/step - accuracy: 0.7925 - loss: 0.5553 - val_accuracy: 0.8440 - val_loss: 0.4237\n",
      "Epoch 8/100\n",
      "108/108 [==============================] - 1s 11ms/step - accuracy: 0.8021 - loss: 0.5417 - val_accuracy: 0.8473 - val_loss: 0.4159\n",
      "Epoch 9/100\n",
      "108/108 [==============================] - 1s 11ms/step - accuracy: 0.8061 - loss: 0.5253 - val_accuracy: 0.8532 - val_loss: 0.4026\n",
      "Epoch 10/100\n",
      "108/108 [==============================] - 1s 11ms/step - accuracy: 0.8137 - loss: 0.5086 - val_accuracy: 0.8565 - val_loss: 0.3932\n",
      "Epoch 11/100\n",
      "108/108 [==============================] - 1s 11ms/step - accuracy: 0.8153 - loss: 0.5021 - val_accuracy: 0.8592 - val_loss: 0.3851\n",
      "Epoch 12/100\n",
      "108/108 [==============================] - 1s 11ms/step - accuracy: 0.8202 - loss: 0.4919 - val_accuracy: 0.8657 - val_loss: 0.3672\n",
      "Epoch 13/100\n",
      "108/108 [==============================] - 1s 11ms/step - accuracy: 0.8233 - loss: 0.4798 - val_accuracy: 0.8675 - val_loss: 0.3641\n",
      "Epoch 14/100\n",
      "108/108 [==============================] - 1s 11ms/step - accuracy: 0.8309 - loss: 0.4660 - val_accuracy: 0.8690 - val_loss: 0.3557\n",
      "Epoch 15/100\n",
      "108/108 [==============================] - 1s 11ms/step - accuracy: 0.8322 - loss: 0.4622 - val_accuracy: 0.8720 - val_loss: 0.3490\n",
      "Epoch 16/100\n",
      "108/108 [==============================] - 1s 11ms/step - accuracy: 0.8327 - loss: 0.4563 - val_accuracy: 0.8742 - val_loss: 0.3441\n",
      "Epoch 17/100\n",
      "108/108 [==============================] - 1s 11ms/step - accuracy: 0.8379 - loss: 0.4455 - val_accuracy: 0.8760 - val_loss: 0.3415\n",
      "Epoch 18/100\n",
      "108/108 [==============================] - 1s 11ms/step - accuracy: 0.8404 - loss: 0.4410 - val_accuracy: 0.8753 - val_loss: 0.3405\n",
      "Epoch 19/100\n",
      "108/108 [==============================] - 1s 11ms/step - accuracy: 0.8420 - loss: 0.4334 - val_accuracy: 0.8780 - val_loss: 0.3324\n",
      "Epoch 20/100\n",
      "108/108 [==============================] - 1s 11ms/step - accuracy: 0.8436 - loss: 0.4274 - val_accuracy: 0.8813 - val_loss: 0.3248\n",
      "Epoch 21/100\n",
      "108/108 [==============================] - 1s 11ms/step - accuracy: 0.8476 - loss: 0.4205 - val_accuracy: 0.8825 - val_loss: 0.3222\n",
      "Epoch 22/100\n",
      "108/108 [==============================] - 1s 12ms/step - accuracy: 0.8500 - loss: 0.4146 - val_accuracy: 0.8808 - val_loss: 0.3244\n",
      "Epoch 23/100\n",
      "108/108 [==============================] - 1s 11ms/step - accuracy: 0.8500 - loss: 0.4055 - val_accuracy: 0.8897 - val_loss: 0.3134\n",
      "Epoch 24/100\n",
      "108/108 [==============================] - 1s 11ms/step - accuracy: 0.8524 - loss: 0.4021 - val_accuracy: 0.8855 - val_loss: 0.3101\n",
      "Epoch 25/100\n",
      "108/108 [==============================] - 1s 11ms/step - accuracy: 0.8555 - loss: 0.3981 - val_accuracy: 0.8872 - val_loss: 0.3061\n",
      "Epoch 26/100\n",
      "108/108 [==============================] - 1s 11ms/step - accuracy: 0.8560 - loss: 0.3931 - val_accuracy: 0.8900 - val_loss: 0.3060\n",
      "Epoch 27/100\n",
      "108/108 [==============================] - 1s 11ms/step - accuracy: 0.8563 - loss: 0.3887 - val_accuracy: 0.8930 - val_loss: 0.2944\n",
      "Epoch 28/100\n",
      "108/108 [==============================] - 1s 11ms/step - accuracy: 0.8600 - loss: 0.3829 - val_accuracy: 0.8932 - val_loss: 0.2969\n",
      "Epoch 29/100\n",
      "108/108 [==============================] - 1s 11ms/step - accuracy: 0.8603 - loss: 0.3838 - val_accuracy: 0.8932 - val_loss: 0.2921\n",
      "Epoch 30/100\n",
      "108/108 [==============================] - 1s 11ms/step - accuracy: 0.8635 - loss: 0.3757 - val_accuracy: 0.8962 - val_loss: 0.2916\n",
      "Epoch 31/100\n",
      "108/108 [==============================] - 1s 11ms/step - accuracy: 0.8652 - loss: 0.3733 - val_accuracy: 0.8970 - val_loss: 0.2864\n",
      "Epoch 32/100\n",
      "108/108 [==============================] - 1s 11ms/step - accuracy: 0.8663 - loss: 0.3693 - val_accuracy: 0.8963 - val_loss: 0.2834\n",
      "Epoch 33/100\n",
      "108/108 [==============================] - 1s 11ms/step - accuracy: 0.8666 - loss: 0.3654 - val_accuracy: 0.8977 - val_loss: 0.2812\n",
      "Epoch 34/100\n",
      "108/108 [==============================] - 1s 11ms/step - accuracy: 0.8691 - loss: 0.3580 - val_accuracy: 0.9000 - val_loss: 0.2808\n",
      "Epoch 35/100\n",
      "108/108 [==============================] - 1s 11ms/step - accuracy: 0.8673 - loss: 0.3621 - val_accuracy: 0.8982 - val_loss: 0.2776\n",
      "Epoch 36/100\n",
      "108/108 [==============================] - 1s 12ms/step - accuracy: 0.8715 - loss: 0.3588 - val_accuracy: 0.9000 - val_loss: 0.2762\n",
      "Epoch 37/100\n",
      "108/108 [==============================] - 1s 12ms/step - accuracy: 0.8709 - loss: 0.3558 - val_accuracy: 0.9013 - val_loss: 0.2762\n",
      "Epoch 38/100\n",
      "108/108 [==============================] - 1s 12ms/step - accuracy: 0.8708 - loss: 0.3545 - val_accuracy: 0.8990 - val_loss: 0.2765\n",
      "Epoch 39/100\n",
      "108/108 [==============================] - 1s 12ms/step - accuracy: 0.8710 - loss: 0.3516 - val_accuracy: 0.8987 - val_loss: 0.2744\n",
      "Epoch 40/100\n",
      "108/108 [==============================] - 1s 12ms/step - accuracy: 0.8736 - loss: 0.3465 - val_accuracy: 0.9015 - val_loss: 0.2660\n",
      "Epoch 41/100\n",
      "108/108 [==============================] - 1s 12ms/step - accuracy: 0.8738 - loss: 0.3450 - val_accuracy: 0.9035 - val_loss: 0.2672\n",
      "Epoch 42/100\n",
      "108/108 [==============================] - 1s 12ms/step - accuracy: 0.8758 - loss: 0.3436 - val_accuracy: 0.8980 - val_loss: 0.2712\n",
      "Epoch 43/100\n",
      "108/108 [==============================] - 1s 12ms/step - accuracy: 0.8765 - loss: 0.3424 - val_accuracy: 0.9008 - val_loss: 0.2689\n",
      "Epoch 44/100\n",
      "108/108 [==============================] - 1s 13ms/step - accuracy: 0.8777 - loss: 0.3373 - val_accuracy: 0.9037 - val_loss: 0.2632\n",
      "Epoch 45/100\n",
      "108/108 [==============================] - 1s 12ms/step - accuracy: 0.8780 - loss: 0.3364 - val_accuracy: 0.9037 - val_loss: 0.2618\n",
      "Epoch 46/100\n",
      "108/108 [==============================] - 1s 12ms/step - accuracy: 0.8780 - loss: 0.3360 - val_accuracy: 0.9040 - val_loss: 0.2594\n",
      "Epoch 47/100\n",
      "108/108 [==============================] - 1s 12ms/step - accuracy: 0.8786 - loss: 0.3327 - val_accuracy: 0.9023 - val_loss: 0.2629\n",
      "Epoch 48/100\n",
      "108/108 [==============================] - 1s 12ms/step - accuracy: 0.8792 - loss: 0.3301 - val_accuracy: 0.9017 - val_loss: 0.2666\n",
      "Epoch 49/100\n",
      "108/108 [==============================] - 1s 12ms/step - accuracy: 0.8791 - loss: 0.3331 - val_accuracy: 0.9067 - val_loss: 0.2593\n",
      "Epoch 50/100\n",
      "108/108 [==============================] - 1s 12ms/step - accuracy: 0.8797 - loss: 0.3252 - val_accuracy: 0.9047 - val_loss: 0.2642\n",
      "Epoch 51/100\n",
      "108/108 [==============================] - 1s 12ms/step - accuracy: 0.8812 - loss: 0.3209 - val_accuracy: 0.9065 - val_loss: 0.2564\n",
      "Epoch 52/100\n",
      "108/108 [==============================] - 1s 12ms/step - accuracy: 0.8826 - loss: 0.3223 - val_accuracy: 0.9082 - val_loss: 0.2551\n",
      "Epoch 53/100\n",
      "108/108 [==============================] - 1s 13ms/step - accuracy: 0.8818 - loss: 0.3212 - val_accuracy: 0.9073 - val_loss: 0.2563\n",
      "Epoch 54/100\n",
      "108/108 [==============================] - 1s 12ms/step - accuracy: 0.8808 - loss: 0.3225 - val_accuracy: 0.9065 - val_loss: 0.2585\n",
      "Epoch 55/100\n",
      "108/108 [==============================] - 1s 12ms/step - accuracy: 0.8826 - loss: 0.3182 - val_accuracy: 0.9048 - val_loss: 0.2571\n",
      "Epoch 56/100\n",
      "108/108 [==============================] - 1s 12ms/step - accuracy: 0.8836 - loss: 0.3187 - val_accuracy: 0.9058 - val_loss: 0.2532\n",
      "Epoch 57/100\n",
      "108/108 [==============================] - 1s 12ms/step - accuracy: 0.8847 - loss: 0.3166 - val_accuracy: 0.9085 - val_loss: 0.2529\n",
      "Epoch 58/100\n",
      "108/108 [==============================] - 1s 12ms/step - accuracy: 0.8824 - loss: 0.3157 - val_accuracy: 0.9070 - val_loss: 0.2553\n",
      "Epoch 59/100\n",
      "108/108 [==============================] - 1s 12ms/step - accuracy: 0.8854 - loss: 0.3150 - val_accuracy: 0.9093 - val_loss: 0.2510\n",
      "Epoch 60/100\n",
      "108/108 [==============================] - 1s 12ms/step - accuracy: 0.8850 - loss: 0.3105 - val_accuracy: 0.9082 - val_loss: 0.2547\n",
      "Epoch 61/100\n",
      "108/108 [==============================] - 1s 12ms/step - accuracy: 0.8855 - loss: 0.3132 - val_accuracy: 0.9080 - val_loss: 0.2491\n",
      "Epoch 62/100\n",
      "108/108 [==============================] - 1s 12ms/step - accuracy: 0.8863 - loss: 0.3087 - val_accuracy: 0.9063 - val_loss: 0.2527\n",
      "Epoch 63/100\n",
      "108/108 [==============================] - 1s 12ms/step - accuracy: 0.8853 - loss: 0.3092 - val_accuracy: 0.9082 - val_loss: 0.2521\n",
      "Epoch 64/100\n",
      "108/108 [==============================] - 1s 12ms/step - accuracy: 0.8861 - loss: 0.3086 - val_accuracy: 0.9108 - val_loss: 0.2484\n",
      "Epoch 65/100\n",
      "108/108 [==============================] - 1s 13ms/step - accuracy: 0.8868 - loss: 0.3070 - val_accuracy: 0.9038 - val_loss: 0.2593\n",
      "Epoch 66/100\n",
      "108/108 [==============================] - 1s 13ms/step - accuracy: 0.8889 - loss: 0.3050 - val_accuracy: 0.9112 - val_loss: 0.2517\n",
      "Epoch 67/100\n",
      "108/108 [==============================] - 1s 12ms/step - accuracy: 0.8873 - loss: 0.3031 - val_accuracy: 0.9105 - val_loss: 0.2464\n",
      "Epoch 68/100\n",
      "108/108 [==============================] - 1s 12ms/step - accuracy: 0.8880 - loss: 0.3021 - val_accuracy: 0.9125 - val_loss: 0.2462\n",
      "Epoch 69/100\n",
      "108/108 [==============================] - 1s 12ms/step - accuracy: 0.8882 - loss: 0.3036 - val_accuracy: 0.9107 - val_loss: 0.2503\n",
      "Epoch 70/100\n",
      "108/108 [==============================] - 1s 12ms/step - accuracy: 0.8899 - loss: 0.2990 - val_accuracy: 0.9132 - val_loss: 0.2464\n",
      "Epoch 71/100\n",
      "108/108 [==============================] - 1s 12ms/step - accuracy: 0.8879 - loss: 0.3031 - val_accuracy: 0.9137 - val_loss: 0.2411\n",
      "Epoch 72/100\n",
      "108/108 [==============================] - 1s 12ms/step - accuracy: 0.8915 - loss: 0.2969 - val_accuracy: 0.9123 - val_loss: 0.2439\n",
      "Epoch 73/100\n",
      "108/108 [==============================] - 1s 12ms/step - accuracy: 0.8909 - loss: 0.2964 - val_accuracy: 0.9137 - val_loss: 0.2425\n",
      "Epoch 74/100\n",
      "108/108 [==============================] - 1s 12ms/step - accuracy: 0.8889 - loss: 0.3000 - val_accuracy: 0.9088 - val_loss: 0.2478\n",
      "Epoch 75/100\n",
      "108/108 [==============================] - 1s 12ms/step - accuracy: 0.8894 - loss: 0.2989 - val_accuracy: 0.9130 - val_loss: 0.2485\n",
      "Epoch 76/100\n",
      "108/108 [==============================] - 1s 12ms/step - accuracy: 0.8904 - loss: 0.2982 - val_accuracy: 0.9097 - val_loss: 0.2495\n"
     ]
    },
    {
     "data": {
      "text/plain": [
       "<tensorflow.python.keras.callbacks.History at 0x7f562cc2e610>"
      ]
     },
     "execution_count": 16,
     "metadata": {},
     "output_type": "execute_result"
    }
   ],
   "source": [
    "# Fit model\n",
    "model = model_func()\n",
    "model.compile(loss='categorical_crossentropy', optimizer='adam', metrics=['accuracy'])\n",
    "\n",
    "early_stop = EarlyStopping(monitor='val_loss', mode='min', patience=5, restore_best_weights=True)\n",
    "model.fit(x=x_train, y=y_train_cat, epochs=100, validation_split=0.1, batch_size=500, callbacks=[early_stop])"
   ]
  },
  {
   "cell_type": "code",
   "execution_count": 17,
   "id": "2294ef4f-5c96-4c1f-ab56-85e69bd8d482",
   "metadata": {
    "scrolled": true,
    "tags": []
   },
   "outputs": [
    {
     "data": {
      "text/html": [
       "<div>\n",
       "<style scoped>\n",
       "    .dataframe tbody tr th:only-of-type {\n",
       "        vertical-align: middle;\n",
       "    }\n",
       "\n",
       "    .dataframe tbody tr th {\n",
       "        vertical-align: top;\n",
       "    }\n",
       "\n",
       "    .dataframe thead th {\n",
       "        text-align: right;\n",
       "    }\n",
       "</style>\n",
       "<table border=\"1\" class=\"dataframe\">\n",
       "  <thead>\n",
       "    <tr style=\"text-align: right;\">\n",
       "      <th></th>\n",
       "      <th>loss</th>\n",
       "      <th>accuracy</th>\n",
       "      <th>val_loss</th>\n",
       "      <th>val_accuracy</th>\n",
       "    </tr>\n",
       "  </thead>\n",
       "  <tbody>\n",
       "    <tr>\n",
       "      <th>0</th>\n",
       "      <td>1.296847</td>\n",
       "      <td>0.527556</td>\n",
       "      <td>0.704104</td>\n",
       "      <td>0.742000</td>\n",
       "    </tr>\n",
       "    <tr>\n",
       "      <th>1</th>\n",
       "      <td>0.799972</td>\n",
       "      <td>0.707130</td>\n",
       "      <td>0.572215</td>\n",
       "      <td>0.785500</td>\n",
       "    </tr>\n",
       "    <tr>\n",
       "      <th>2</th>\n",
       "      <td>0.682528</td>\n",
       "      <td>0.747593</td>\n",
       "      <td>0.513949</td>\n",
       "      <td>0.803667</td>\n",
       "    </tr>\n",
       "    <tr>\n",
       "      <th>3</th>\n",
       "      <td>0.632256</td>\n",
       "      <td>0.763981</td>\n",
       "      <td>0.496393</td>\n",
       "      <td>0.813667</td>\n",
       "    </tr>\n",
       "    <tr>\n",
       "      <th>4</th>\n",
       "      <td>0.601993</td>\n",
       "      <td>0.777333</td>\n",
       "      <td>0.468885</td>\n",
       "      <td>0.827833</td>\n",
       "    </tr>\n",
       "    <tr>\n",
       "      <th>...</th>\n",
       "      <td>...</td>\n",
       "      <td>...</td>\n",
       "      <td>...</td>\n",
       "      <td>...</td>\n",
       "    </tr>\n",
       "    <tr>\n",
       "      <th>71</th>\n",
       "      <td>0.296901</td>\n",
       "      <td>0.891463</td>\n",
       "      <td>0.243933</td>\n",
       "      <td>0.912333</td>\n",
       "    </tr>\n",
       "    <tr>\n",
       "      <th>72</th>\n",
       "      <td>0.296437</td>\n",
       "      <td>0.890944</td>\n",
       "      <td>0.242478</td>\n",
       "      <td>0.913667</td>\n",
       "    </tr>\n",
       "    <tr>\n",
       "      <th>73</th>\n",
       "      <td>0.300042</td>\n",
       "      <td>0.888852</td>\n",
       "      <td>0.247810</td>\n",
       "      <td>0.908833</td>\n",
       "    </tr>\n",
       "    <tr>\n",
       "      <th>74</th>\n",
       "      <td>0.298853</td>\n",
       "      <td>0.889389</td>\n",
       "      <td>0.248493</td>\n",
       "      <td>0.913000</td>\n",
       "    </tr>\n",
       "    <tr>\n",
       "      <th>75</th>\n",
       "      <td>0.298248</td>\n",
       "      <td>0.890370</td>\n",
       "      <td>0.249451</td>\n",
       "      <td>0.909667</td>\n",
       "    </tr>\n",
       "  </tbody>\n",
       "</table>\n",
       "<p>76 rows × 4 columns</p>\n",
       "</div>"
      ],
      "text/plain": [
       "        loss  accuracy  val_loss  val_accuracy\n",
       "0   1.296847  0.527556  0.704104      0.742000\n",
       "1   0.799972  0.707130  0.572215      0.785500\n",
       "2   0.682528  0.747593  0.513949      0.803667\n",
       "3   0.632256  0.763981  0.496393      0.813667\n",
       "4   0.601993  0.777333  0.468885      0.827833\n",
       "..       ...       ...       ...           ...\n",
       "71  0.296901  0.891463  0.243933      0.912333\n",
       "72  0.296437  0.890944  0.242478      0.913667\n",
       "73  0.300042  0.888852  0.247810      0.908833\n",
       "74  0.298853  0.889389  0.248493      0.913000\n",
       "75  0.298248  0.890370  0.249451      0.909667\n",
       "\n",
       "[76 rows x 4 columns]"
      ]
     },
     "execution_count": 17,
     "metadata": {},
     "output_type": "execute_result"
    }
   ],
   "source": [
    "# Model evaluation\n",
    "metrics = pd.DataFrame(model.history.history)\n",
    "metrics"
   ]
  },
  {
   "cell_type": "code",
   "execution_count": 13,
   "id": "b6d38773-8a41-417b-b21d-8bd860e6fb9c",
   "metadata": {},
   "outputs": [
    {
     "data": {
      "text/plain": [
       "<AxesSubplot:>"
      ]
     },
     "execution_count": 13,
     "metadata": {},
     "output_type": "execute_result"
    },
    {
     "data": {
      "image/png": "[encoded data removed]",
      "text/plain": [
       "<Figure size 432x288 with 1 Axes>"
      ]
     },
     "metadata": {
      "needs_background": "light"
     },
     "output_type": "display_data"
    }
   ],
   "source": [
    "# Evaluate graphically\n",
    "metrics = pd.DataFrame(model.history.history)\n",
    "sns.lineplot(data=metrics[['accuracy', 'val_accuracy']])"
   ]
  },
  {
   "cell_type": "code",
   "execution_count": 14,
   "id": "a8ba4f8b-4151-484a-9129-32cb47681517",
   "metadata": {},
   "outputs": [
    {
     "name": "stdout",
     "output_type": "stream",
     "text": [
      "              precision    recall  f1-score   support\n",
      "\n",
      "           0       0.85      0.86      0.86      1000\n",
      "           1       0.99      0.98      0.98      1000\n",
      "           2       0.86      0.86      0.86      1000\n",
      "           3       0.88      0.92      0.90      1000\n",
      "           4       0.83      0.88      0.86      1000\n",
      "           5       0.98      0.98      0.98      1000\n",
      "           6       0.76      0.67      0.71      1000\n",
      "           7       0.94      0.97      0.95      1000\n",
      "           8       0.98      0.98      0.98      1000\n",
      "           9       0.97      0.95      0.96      1000\n",
      "\n",
      "    accuracy                           0.91     10000\n",
      "   macro avg       0.90      0.90      0.90     10000\n",
      "weighted avg       0.90      0.91      0.90     10000\n",
      "\n",
      "\n",
      "\n",
      "[[865   1  19  27   5   1  76   0   6   0]\n",
      " [  1 976   0  17   3   0   1   0   2   0]\n",
      " [ 16   0 865  11  57   0  49   0   2   0]\n",
      " [ 13   4   9 917  24   0  31   0   2   0]\n",
      " [  0   1  33  32 882   0  50   0   2   0]\n",
      " [  0   0   0   0   0 980   0  14   0   6]\n",
      " [123   0  78  31  89   0 669   0  10   0]\n",
      " [  0   0   0   0   0  10   0 969   0  21]\n",
      " [  0   1   7   3   3   2   3   3 977   1]\n",
      " [  0   0   0   0   0   4   1  45   0 950]]\n"
     ]
    }
   ],
   "source": [
    "# Compute predicted classes and model performance metrics\n",
    "y_pred = np.argmax(model.predict(x_test), axis=-1)\n",
    "\n",
    "print(classification_report(y_true=y_test, y_pred=y_pred))\n",
    "print(\"\\n\")\n",
    "print(confusion_matrix(y_true=y_test, y_pred=y_pred))"
   ]
  },
  {
   "cell_type": "code",
   "execution_count": null,
   "id": "34f6b774-99f9-4a20-bd42-9343b5754249",
   "metadata": {},
   "outputs": [],
   "source": []
  }
 ],
 "metadata": {
  "kernelspec": {
   "display_name": "Python 3 (ipykernel)",
   "language": "python",
   "name": "python3"
  },
  "language_info": {
   "codemirror_mode": {
    "name": "ipython",
    "version": 3
   },
   "file_extension": ".py",
   "mimetype": "text/x-python",
   "name": "python",
   "nbconvert_exporter": "python",
   "pygments_lexer": "ipython3",
   "version": "3.7.4"
  }
 },
 "nbformat": 4,
 "nbformat_minor": 5
}
