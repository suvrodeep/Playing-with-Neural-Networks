{
 "cells": [
  {
   "cell_type": "code",
   "execution_count": 1,
   "id": "cfd60c17-7e45-47bf-8d63-cae5207feadd",
   "metadata": {},
   "outputs": [],
   "source": [
    "import os\n",
    "import tensorflow as tf\n",
    "from tensorflow.keras.datasets import fashion_mnist\n",
    "import matplotlib.pyplot as plt\n",
    "from tensorflow import keras\n",
    "from tensorflow.keras.models import Sequential\n",
    "from tensorflow.keras.layers import Dense, Conv2D, MaxPool2D, Flatten, Dropout\n",
    "from tensorflow.keras.callbacks import EarlyStopping\n",
    "from tensorflow.keras import backend\n",
    "import pandas as pd\n",
    "import numpy as np\n",
    "import seaborn as sns\n",
    "from sklearn.metrics import confusion_matrix\n",
    "from sklearn.metrics import classification_report"
   ]
  },
  {
   "cell_type": "code",
   "execution_count": 2,
   "id": "8bbc1ff1-e154-4773-b964-5db6f42ba0bd",
   "metadata": {},
   "outputs": [],
   "source": [
    "# Load data\n",
    "(x_train, y_train), (x_test, y_test) = fashion_mnist.load_data()"
   ]
  },
  {
   "cell_type": "code",
   "execution_count": 3,
   "id": "64a6d1b6-29dd-4371-b623-b3ef6656447e",
   "metadata": {
    "collapsed": true,
    "jupyter": {
     "outputs_hidden": true,
     "source_hidden": true
    },
    "tags": []
   },
   "outputs": [
    {
     "data": {
      "text/plain": [
       "(28, 28)"
      ]
     },
     "execution_count": 3,
     "metadata": {},
     "output_type": "execute_result"
    }
   ],
   "source": [
    "# Check dimensions of image\n",
    "x_train[0].shape"
   ]
  },
  {
   "cell_type": "code",
   "execution_count": 4,
   "id": "b53e639c-c105-4446-8483-0a11b6725740",
   "metadata": {
    "collapsed": true,
    "jupyter": {
     "outputs_hidden": true,
     "source_hidden": true
    },
    "tags": []
   },
   "outputs": [
    {
     "data": {
      "text/plain": [
       "<matplotlib.image.AxesImage at 0x7f5322c25ee0>"
      ]
     },
     "execution_count": 4,
     "metadata": {},
     "output_type": "execute_result"
    },
    {
     "data": {
      "image/png": "[encoded data removed]",
      "text/plain": [
       "<Figure size 432x288 with 1 Axes>"
      ]
     },
     "metadata": {
      "needs_background": "light"
     },
     "output_type": "display_data"
    }
   ],
   "source": [
    "# View a sample image\n",
    "plt.imshow(x_train[10])"
   ]
  },
  {
   "cell_type": "code",
   "execution_count": 5,
   "id": "825b240a-79b2-4a93-a5af-ba572a7e05f0",
   "metadata": {
    "jupyter": {
     "source_hidden": true
    },
    "tags": []
   },
   "outputs": [],
   "source": [
    "##################################################\n",
    "# Explore training data and labels\n",
    "##################################################"
   ]
  },
  {
   "cell_type": "code",
   "execution_count": 6,
   "id": "2e555217-4097-41b6-a5b9-b2a4b192ed17",
   "metadata": {
    "collapsed": true,
    "jupyter": {
     "outputs_hidden": true,
     "source_hidden": true
    },
    "scrolled": true,
    "tags": []
   },
   "outputs": [
    {
     "data": {
      "text/plain": [
       "array([[[0, 0, 0, ..., 0, 0, 0],\n",
       "        [0, 0, 0, ..., 0, 0, 0],\n",
       "        [0, 0, 0, ..., 0, 0, 0],\n",
       "        ...,\n",
       "        [0, 0, 0, ..., 0, 0, 0],\n",
       "        [0, 0, 0, ..., 0, 0, 0],\n",
       "        [0, 0, 0, ..., 0, 0, 0]],\n",
       "\n",
       "       [[0, 0, 0, ..., 0, 0, 0],\n",
       "        [0, 0, 0, ..., 0, 0, 0],\n",
       "        [0, 0, 0, ..., 0, 0, 0],\n",
       "        ...,\n",
       "        [0, 0, 0, ..., 0, 0, 0],\n",
       "        [0, 0, 0, ..., 0, 0, 0],\n",
       "        [0, 0, 0, ..., 0, 0, 0]],\n",
       "\n",
       "       [[0, 0, 0, ..., 0, 0, 0],\n",
       "        [0, 0, 0, ..., 0, 0, 0],\n",
       "        [0, 0, 0, ..., 0, 0, 0],\n",
       "        ...,\n",
       "        [0, 0, 0, ..., 0, 0, 0],\n",
       "        [0, 0, 0, ..., 0, 0, 0],\n",
       "        [0, 0, 0, ..., 0, 0, 0]],\n",
       "\n",
       "       ...,\n",
       "\n",
       "       [[0, 0, 0, ..., 0, 0, 0],\n",
       "        [0, 0, 0, ..., 0, 0, 0],\n",
       "        [0, 0, 0, ..., 0, 0, 0],\n",
       "        ...,\n",
       "        [0, 0, 0, ..., 0, 0, 0],\n",
       "        [0, 0, 0, ..., 0, 0, 0],\n",
       "        [0, 0, 0, ..., 0, 0, 0]],\n",
       "\n",
       "       [[0, 0, 0, ..., 0, 0, 0],\n",
       "        [0, 0, 0, ..., 0, 0, 0],\n",
       "        [0, 0, 0, ..., 0, 0, 0],\n",
       "        ...,\n",
       "        [0, 0, 0, ..., 0, 0, 0],\n",
       "        [0, 0, 0, ..., 0, 0, 0],\n",
       "        [0, 0, 0, ..., 0, 0, 0]],\n",
       "\n",
       "       [[0, 0, 0, ..., 0, 0, 0],\n",
       "        [0, 0, 0, ..., 0, 0, 0],\n",
       "        [0, 0, 0, ..., 0, 0, 0],\n",
       "        ...,\n",
       "        [0, 0, 0, ..., 0, 0, 0],\n",
       "        [0, 0, 0, ..., 0, 0, 0],\n",
       "        [0, 0, 0, ..., 0, 0, 0]]], dtype=uint8)"
      ]
     },
     "execution_count": 6,
     "metadata": {},
     "output_type": "execute_result"
    }
   ],
   "source": [
    "x_train"
   ]
  },
  {
   "cell_type": "code",
   "execution_count": 7,
   "id": "0e9e6bb6-db49-4174-b215-8105e7a4a771",
   "metadata": {
    "collapsed": true,
    "jupyter": {
     "outputs_hidden": true,
     "source_hidden": true
    },
    "tags": []
   },
   "outputs": [
    {
     "data": {
      "text/plain": [
       "255"
      ]
     },
     "execution_count": 7,
     "metadata": {},
     "output_type": "execute_result"
    }
   ],
   "source": [
    "x_train[10].max()"
   ]
  },
  {
   "cell_type": "code",
   "execution_count": 8,
   "id": "da912ef1-d89e-4887-82ad-89a51d171c28",
   "metadata": {
    "collapsed": true,
    "jupyter": {
     "outputs_hidden": true,
     "source_hidden": true
    },
    "tags": []
   },
   "outputs": [
    {
     "data": {
      "text/plain": [
       "array([9, 0, 0, ..., 3, 0, 5], dtype=uint8)"
      ]
     },
     "execution_count": 8,
     "metadata": {},
     "output_type": "execute_result"
    }
   ],
   "source": [
    "y_train"
   ]
  },
  {
   "cell_type": "code",
   "execution_count": 3,
   "id": "2ac4e050-9507-475e-9dde-c40af00a680e",
   "metadata": {},
   "outputs": [
    {
     "name": "stdout",
     "output_type": "stream",
     "text": [
      "Train data shape:(60000, 28, 28)\n",
      "Test data shape:(10000, 28, 28)\n"
     ]
    }
   ],
   "source": [
    "print(\"Train data shape:{}\".format(x_train.shape))\n",
    "print(\"Test data shape:{}\".format(x_test.shape))"
   ]
  },
  {
   "cell_type": "code",
   "execution_count": 4,
   "id": "92ec09f9-88aa-4020-a5d6-7a25c09436fa",
   "metadata": {},
   "outputs": [
    {
     "name": "stdout",
     "output_type": "stream",
     "text": [
      "Number of classes training labels:10\n",
      "Unique values in training labels:[9 0 3 2 7 5 1 6 4 8]\n"
     ]
    }
   ],
   "source": [
    "print(\"Number of classes training labels:{}\".format(len(pd.unique(y_train))))\n",
    "print(\"Unique values in training labels:{}\".format(pd.unique(y_train)))"
   ]
  },
  {
   "cell_type": "code",
   "execution_count": 5,
   "id": "34a95fde-a514-4fc7-be02-62a2b1087df8",
   "metadata": {},
   "outputs": [],
   "source": [
    "# Normalize image pixel values\n",
    "x_train = x_train / 255\n",
    "x_test = x_test / 255"
   ]
  },
  {
   "cell_type": "code",
   "execution_count": 6,
   "id": "272ba56c-c05c-44a7-8135-0cc0ef34a4f2",
   "metadata": {},
   "outputs": [],
   "source": [
    "# Prepare one-hot encoded y-values\n",
    "y_train_cat = keras.utils.to_categorical(y=y_train, num_classes=10)\n",
    "y_test_cat = keras.utils.to_categorical(y=y_test, num_classes=10)"
   ]
  },
  {
   "cell_type": "code",
   "execution_count": 7,
   "id": "6e76aad5-bf76-4f47-8c67-9ec02e566adb",
   "metadata": {},
   "outputs": [],
   "source": [
    "# Reshaping data to batch_size, width, height, color_channel\n",
    "x_train = x_train.reshape(60000, 28, 28, 1)\n",
    "x_test = x_test.reshape(10000, 28, 28, 1)"
   ]
  },
  {
   "cell_type": "code",
   "execution_count": 8,
   "id": "d9858381-a719-448b-a03e-40714438b259",
   "metadata": {},
   "outputs": [],
   "source": [
    "# Prepare GPU\n",
    "def prep_devices():\n",
    "    phy_gpus = tf.config.list_physical_devices(device_type='GPU')\n",
    "\n",
    "    for gpu in phy_gpus:\n",
    "        tf.config.experimental.set_memory_growth(device=gpu, enable=True)\n",
    "\n",
    "    log_gpus = tf.config.list_logical_devices(device_type='GPU')\n",
    "    phy_cpus = tf.config.list_physical_devices(device_type='CPU')\n",
    "    log_cpus = tf.config.list_logical_devices(device_type='CPU')\n",
    "\n",
    "    print(\"Physical GPUs: {}\\tLogical GPUs: {}\\nPhysical CPUs: {}\\tLogical CPUs: {}\".format(len(phy_gpus),\n",
    "                                                                                             len(log_gpus),\n",
    "                                                                                             len(phy_cpus),\n",
    "                                                                                             len(log_cpus)))"
   ]
  },
  {
   "cell_type": "code",
   "execution_count": 9,
   "id": "23d65e6c-8155-4f8c-a23b-62b0087496ea",
   "metadata": {},
   "outputs": [
    {
     "name": "stdout",
     "output_type": "stream",
     "text": [
      "Physical GPUs: 1\tLogical GPUs: 1\n",
      "Physical CPUs: 1\tLogical CPUs: 1\n"
     ]
    }
   ],
   "source": [
    "os.environ['TF_CPP_MIN_LOG_LEVEL'] = '1'\n",
    "prep_devices()"
   ]
  },
  {
   "cell_type": "code",
   "execution_count": 10,
   "id": "746cc73f-60fe-41ff-a869-6503014de9f6",
   "metadata": {},
   "outputs": [],
   "source": [
    "# Build model\n",
    "def model_func(clear_session=True):\n",
    "    if clear_session:\n",
    "        backend.clear_session()\n",
    "            \n",
    "    model = Sequential()\n",
    "    \n",
    "    model.add(Conv2D(filters=32, kernel_size=(3, 3), input_shape=(28, 28, 1), activation='relu'))\n",
    "    model.add(MaxPool2D(pool_size=(2, 2)))\n",
    "    \n",
    "    model.add(Dropout(0.5))\n",
    "    \n",
    "    model.add(Conv2D(filters=32, kernel_size=(3, 3), activation='relu'))\n",
    "    model.add(MaxPool2D(pool_size=(2, 2)))\n",
    "    \n",
    "    model.add(Flatten())\n",
    "    model.add(Dense(64, activation='relu'))\n",
    "    model.add(Dropout(0.5))\n",
    "    model.add(Dense(10, activation='softmax'))\n",
    "    \n",
    "    model.summary()\n",
    "    \n",
    "    return model"
   ]
  },
  {
   "cell_type": "code",
   "execution_count": 15,
   "id": "feba245c-3e22-4d6a-bb91-af05171f9640",
   "metadata": {
    "scrolled": true,
    "tags": []
   },
   "outputs": [
    {
     "name": "stdout",
     "output_type": "stream",
     "text": [
      "Model: \"sequential\"\n",
      "_________________________________________________________________\n",
      "Layer (type)                 Output Shape              Param #   \n",
      "=================================================================\n",
      "conv2d (Conv2D)              (None, 26, 26, 32)        320       \n",
      "_________________________________________________________________\n",
      "max_pooling2d (MaxPooling2D) (None, 13, 13, 32)        0         \n",
      "_________________________________________________________________\n",
      "dropout (Dropout)            (None, 13, 13, 32)        0         \n",
      "_________________________________________________________________\n",
      "conv2d_1 (Conv2D)            (None, 11, 11, 32)        9248      \n",
      "_________________________________________________________________\n",
      "max_pooling2d_1 (MaxPooling2 (None, 5, 5, 32)          0         \n",
      "_________________________________________________________________\n",
      "flatten (Flatten)            (None, 800)               0         \n",
      "_________________________________________________________________\n",
      "dense (Dense)                (None, 64)                51264     \n",
      "_________________________________________________________________\n",
      "dropout_1 (Dropout)          (None, 64)                0         \n",
      "_________________________________________________________________\n",
      "dense_1 (Dense)              (None, 10)                650       \n",
      "=================================================================\n",
      "Total params: 61,482\n",
      "Trainable params: 61,482\n",
      "Non-trainable params: 0\n",
      "_________________________________________________________________\n",
      "Epoch 1/50\n",
      "  1/108 [..............................] - ETA: 0s - accuracy: 0.0840 - loss: 2.3501WARNING:tensorflow:Callbacks method `on_train_batch_end` is slow compared to the batch time (batch time: 0.0031s vs `on_train_batch_end` time: 0.0080s). Check your callbacks.\n",
      "106/108 [============================>.] - ETA: 0s - accuracy: 0.5495 - loss: 1.2297WARNING:tensorflow:Callbacks method `on_test_batch_end` is slow compared to the batch time (batch time: 0.0012s vs `on_test_batch_end` time: 0.0026s). Check your callbacks.\n",
      "108/108 [==============================] - 1s 12ms/step - accuracy: 0.5517 - loss: 1.2231 - val_accuracy: 0.7487 - val_loss: 0.6700\n",
      "Epoch 2/50\n",
      "108/108 [==============================] - 1s 11ms/step - accuracy: 0.7286 - loss: 0.7403 - val_accuracy: 0.7938 - val_loss: 0.5406\n",
      "Epoch 3/50\n",
      "108/108 [==============================] - 1s 11ms/step - accuracy: 0.7617 - loss: 0.6424 - val_accuracy: 0.8152 - val_loss: 0.4894\n",
      "Epoch 4/50\n",
      "108/108 [==============================] - 1s 11ms/step - accuracy: 0.7825 - loss: 0.5896 - val_accuracy: 0.8303 - val_loss: 0.4519\n",
      "Epoch 5/50\n",
      "108/108 [==============================] - 1s 11ms/step - accuracy: 0.7964 - loss: 0.5543 - val_accuracy: 0.8428 - val_loss: 0.4257\n",
      "Epoch 6/50\n",
      "108/108 [==============================] - 1s 11ms/step - accuracy: 0.8066 - loss: 0.5300 - val_accuracy: 0.8495 - val_loss: 0.4072\n",
      "Epoch 7/50\n",
      "108/108 [==============================] - 1s 11ms/step - accuracy: 0.8159 - loss: 0.5075 - val_accuracy: 0.8560 - val_loss: 0.3923\n",
      "Epoch 8/50\n",
      "108/108 [==============================] - 1s 11ms/step - accuracy: 0.8261 - loss: 0.4853 - val_accuracy: 0.8592 - val_loss: 0.3726\n",
      "Epoch 9/50\n",
      "108/108 [==============================] - 1s 11ms/step - accuracy: 0.8281 - loss: 0.4726 - val_accuracy: 0.8640 - val_loss: 0.3643\n",
      "Epoch 10/50\n",
      "108/108 [==============================] - 1s 11ms/step - accuracy: 0.8319 - loss: 0.4636 - val_accuracy: 0.8665 - val_loss: 0.3579\n",
      "Epoch 11/50\n",
      "108/108 [==============================] - 1s 11ms/step - accuracy: 0.8359 - loss: 0.4538 - val_accuracy: 0.8695 - val_loss: 0.3486\n",
      "Epoch 12/50\n",
      "108/108 [==============================] - 1s 11ms/step - accuracy: 0.8414 - loss: 0.4433 - val_accuracy: 0.8697 - val_loss: 0.3469\n",
      "Epoch 13/50\n",
      "108/108 [==============================] - 1s 11ms/step - accuracy: 0.8422 - loss: 0.4345 - val_accuracy: 0.8742 - val_loss: 0.3335\n",
      "Epoch 14/50\n",
      "108/108 [==============================] - 1s 11ms/step - accuracy: 0.8449 - loss: 0.4287 - val_accuracy: 0.8773 - val_loss: 0.3254\n",
      "Epoch 15/50\n",
      "108/108 [==============================] - 1s 11ms/step - accuracy: 0.8483 - loss: 0.4201 - val_accuracy: 0.8805 - val_loss: 0.3207\n",
      "Epoch 16/50\n",
      "108/108 [==============================] - 1s 11ms/step - accuracy: 0.8498 - loss: 0.4183 - val_accuracy: 0.8832 - val_loss: 0.3131\n",
      "Epoch 17/50\n",
      "108/108 [==============================] - 1s 11ms/step - accuracy: 0.8513 - loss: 0.4090 - val_accuracy: 0.8805 - val_loss: 0.3185\n",
      "Epoch 18/50\n",
      "108/108 [==============================] - 1s 11ms/step - accuracy: 0.8546 - loss: 0.4026 - val_accuracy: 0.8857 - val_loss: 0.3065\n",
      "Epoch 19/50\n",
      "108/108 [==============================] - 1s 11ms/step - accuracy: 0.8555 - loss: 0.3980 - val_accuracy: 0.8885 - val_loss: 0.3069\n",
      "Epoch 20/50\n",
      "108/108 [==============================] - 1s 11ms/step - accuracy: 0.8576 - loss: 0.3909 - val_accuracy: 0.8877 - val_loss: 0.3038\n",
      "Epoch 21/50\n",
      "108/108 [==============================] - 1s 11ms/step - accuracy: 0.8586 - loss: 0.3883 - val_accuracy: 0.8912 - val_loss: 0.2972\n",
      "Epoch 22/50\n",
      "108/108 [==============================] - 1s 11ms/step - accuracy: 0.8622 - loss: 0.3819 - val_accuracy: 0.8895 - val_loss: 0.2930\n",
      "Epoch 23/50\n",
      "108/108 [==============================] - 1s 11ms/step - accuracy: 0.8637 - loss: 0.3783 - val_accuracy: 0.8937 - val_loss: 0.2905\n",
      "Epoch 24/50\n",
      "108/108 [==============================] - 1s 11ms/step - accuracy: 0.8664 - loss: 0.3726 - val_accuracy: 0.8925 - val_loss: 0.2827\n",
      "Epoch 25/50\n",
      "108/108 [==============================] - 1s 11ms/step - accuracy: 0.8669 - loss: 0.3682 - val_accuracy: 0.8933 - val_loss: 0.2855\n",
      "Epoch 26/50\n",
      "108/108 [==============================] - 1s 11ms/step - accuracy: 0.8659 - loss: 0.3697 - val_accuracy: 0.8972 - val_loss: 0.2835\n",
      "Epoch 27/50\n",
      "108/108 [==============================] - 1s 11ms/step - accuracy: 0.8693 - loss: 0.3623 - val_accuracy: 0.8955 - val_loss: 0.2821\n",
      "Epoch 28/50\n",
      "108/108 [==============================] - 1s 11ms/step - accuracy: 0.8709 - loss: 0.3581 - val_accuracy: 0.8955 - val_loss: 0.2844\n",
      "Epoch 29/50\n",
      "108/108 [==============================] - 1s 11ms/step - accuracy: 0.8723 - loss: 0.3531 - val_accuracy: 0.8987 - val_loss: 0.2746\n",
      "Epoch 30/50\n",
      "108/108 [==============================] - 1s 11ms/step - accuracy: 0.8742 - loss: 0.3496 - val_accuracy: 0.9005 - val_loss: 0.2735\n",
      "Epoch 31/50\n",
      "108/108 [==============================] - 1s 11ms/step - accuracy: 0.8737 - loss: 0.3500 - val_accuracy: 0.8977 - val_loss: 0.2743\n",
      "Epoch 32/50\n",
      "108/108 [==============================] - 1s 11ms/step - accuracy: 0.8749 - loss: 0.3459 - val_accuracy: 0.9020 - val_loss: 0.2654\n",
      "Epoch 33/50\n",
      "108/108 [==============================] - 1s 12ms/step - accuracy: 0.8762 - loss: 0.3431 - val_accuracy: 0.9043 - val_loss: 0.2659\n",
      "Epoch 34/50\n",
      "108/108 [==============================] - 1s 11ms/step - accuracy: 0.8762 - loss: 0.3396 - val_accuracy: 0.9052 - val_loss: 0.2605\n",
      "Epoch 35/50\n",
      "108/108 [==============================] - 1s 11ms/step - accuracy: 0.8779 - loss: 0.3360 - val_accuracy: 0.9067 - val_loss: 0.2578\n",
      "Epoch 36/50\n",
      "108/108 [==============================] - 1s 11ms/step - accuracy: 0.8785 - loss: 0.3356 - val_accuracy: 0.9028 - val_loss: 0.2620\n",
      "Epoch 37/50\n",
      "108/108 [==============================] - 1s 11ms/step - accuracy: 0.8803 - loss: 0.3322 - val_accuracy: 0.9040 - val_loss: 0.2566\n",
      "Epoch 38/50\n",
      "108/108 [==============================] - 1s 11ms/step - accuracy: 0.8801 - loss: 0.3293 - val_accuracy: 0.9065 - val_loss: 0.2605\n",
      "Epoch 39/50\n",
      "108/108 [==============================] - 1s 11ms/step - accuracy: 0.8835 - loss: 0.3252 - val_accuracy: 0.9020 - val_loss: 0.2569\n",
      "Epoch 40/50\n",
      "108/108 [==============================] - 1s 11ms/step - accuracy: 0.8822 - loss: 0.3261 - val_accuracy: 0.9088 - val_loss: 0.2537\n",
      "Epoch 41/50\n",
      "108/108 [==============================] - 1s 11ms/step - accuracy: 0.8826 - loss: 0.3240 - val_accuracy: 0.9090 - val_loss: 0.2553\n",
      "Epoch 42/50\n",
      "108/108 [==============================] - 1s 11ms/step - accuracy: 0.8836 - loss: 0.3178 - val_accuracy: 0.9088 - val_loss: 0.2513\n",
      "Epoch 43/50\n",
      "108/108 [==============================] - 1s 11ms/step - accuracy: 0.8844 - loss: 0.3188 - val_accuracy: 0.9097 - val_loss: 0.2510\n",
      "Epoch 44/50\n",
      "108/108 [==============================] - 1s 11ms/step - accuracy: 0.8849 - loss: 0.3162 - val_accuracy: 0.9085 - val_loss: 0.2500\n",
      "Epoch 45/50\n",
      "108/108 [==============================] - 1s 11ms/step - accuracy: 0.8855 - loss: 0.3151 - val_accuracy: 0.9097 - val_loss: 0.2454\n",
      "Epoch 46/50\n",
      "108/108 [==============================] - 1s 11ms/step - accuracy: 0.8849 - loss: 0.3128 - val_accuracy: 0.9097 - val_loss: 0.2496\n",
      "Epoch 47/50\n",
      "108/108 [==============================] - 1s 11ms/step - accuracy: 0.8847 - loss: 0.3167 - val_accuracy: 0.9088 - val_loss: 0.2493\n",
      "Epoch 48/50\n",
      "108/108 [==============================] - 1s 11ms/step - accuracy: 0.8877 - loss: 0.3097 - val_accuracy: 0.9117 - val_loss: 0.2454\n",
      "Epoch 49/50\n",
      "108/108 [==============================] - 1s 11ms/step - accuracy: 0.8880 - loss: 0.3082 - val_accuracy: 0.9123 - val_loss: 0.2476\n",
      "Epoch 50/50\n",
      "108/108 [==============================] - 1s 11ms/step - accuracy: 0.8891 - loss: 0.3080 - val_accuracy: 0.9115 - val_loss: 0.2431\n"
     ]
    },
    {
     "data": {
      "text/plain": [
       "<tensorflow.python.keras.callbacks.History at 0x7fc4680ccd00>"
      ]
     },
     "execution_count": 15,
     "metadata": {},
     "output_type": "execute_result"
    }
   ],
   "source": [
    "# Fit model\n",
    "model = model_func()\n",
    "model.compile(loss='categorical_crossentropy', optimizer='adam', metrics=['accuracy'])\n",
    "\n",
    "early_stop = EarlyStopping(monitor='val_loss', mode='min', patience=5, restore_best_weights=True)\n",
    "model.fit(x=x_train, y=y_train_cat, epochs=50, validation_split=0.1, batch_size=500, callbacks=[early_stop])"
   ]
  },
  {
   "cell_type": "code",
   "execution_count": 16,
   "id": "2294ef4f-5c96-4c1f-ab56-85e69bd8d482",
   "metadata": {
    "scrolled": true,
    "tags": []
   },
   "outputs": [
    {
     "data": {
      "text/html": [
       "<div>\n",
       "<style scoped>\n",
       "    .dataframe tbody tr th:only-of-type {\n",
       "        vertical-align: middle;\n",
       "    }\n",
       "\n",
       "    .dataframe tbody tr th {\n",
       "        vertical-align: top;\n",
       "    }\n",
       "\n",
       "    .dataframe thead th {\n",
       "        text-align: right;\n",
       "    }\n",
       "</style>\n",
       "<table border=\"1\" class=\"dataframe\">\n",
       "  <thead>\n",
       "    <tr style=\"text-align: right;\">\n",
       "      <th></th>\n",
       "      <th>loss</th>\n",
       "      <th>accuracy</th>\n",
       "      <th>val_loss</th>\n",
       "      <th>val_accuracy</th>\n",
       "    </tr>\n",
       "  </thead>\n",
       "  <tbody>\n",
       "    <tr>\n",
       "      <th>0</th>\n",
       "      <td>1.223114</td>\n",
       "      <td>0.551667</td>\n",
       "      <td>0.669974</td>\n",
       "      <td>0.748667</td>\n",
       "    </tr>\n",
       "    <tr>\n",
       "      <th>1</th>\n",
       "      <td>0.740286</td>\n",
       "      <td>0.728648</td>\n",
       "      <td>0.540561</td>\n",
       "      <td>0.793833</td>\n",
       "    </tr>\n",
       "    <tr>\n",
       "      <th>2</th>\n",
       "      <td>0.642424</td>\n",
       "      <td>0.761704</td>\n",
       "      <td>0.489355</td>\n",
       "      <td>0.815167</td>\n",
       "    </tr>\n",
       "    <tr>\n",
       "      <th>3</th>\n",
       "      <td>0.589581</td>\n",
       "      <td>0.782481</td>\n",
       "      <td>0.451896</td>\n",
       "      <td>0.830333</td>\n",
       "    </tr>\n",
       "    <tr>\n",
       "      <th>4</th>\n",
       "      <td>0.554326</td>\n",
       "      <td>0.796426</td>\n",
       "      <td>0.425706</td>\n",
       "      <td>0.842833</td>\n",
       "    </tr>\n",
       "    <tr>\n",
       "      <th>5</th>\n",
       "      <td>0.530021</td>\n",
       "      <td>0.806648</td>\n",
       "      <td>0.407183</td>\n",
       "      <td>0.849500</td>\n",
       "    </tr>\n",
       "    <tr>\n",
       "      <th>6</th>\n",
       "      <td>0.507544</td>\n",
       "      <td>0.815944</td>\n",
       "      <td>0.392258</td>\n",
       "      <td>0.856000</td>\n",
       "    </tr>\n",
       "    <tr>\n",
       "      <th>7</th>\n",
       "      <td>0.485335</td>\n",
       "      <td>0.826056</td>\n",
       "      <td>0.372555</td>\n",
       "      <td>0.859167</td>\n",
       "    </tr>\n",
       "    <tr>\n",
       "      <th>8</th>\n",
       "      <td>0.472640</td>\n",
       "      <td>0.828056</td>\n",
       "      <td>0.364288</td>\n",
       "      <td>0.864000</td>\n",
       "    </tr>\n",
       "    <tr>\n",
       "      <th>9</th>\n",
       "      <td>0.463641</td>\n",
       "      <td>0.831889</td>\n",
       "      <td>0.357879</td>\n",
       "      <td>0.866500</td>\n",
       "    </tr>\n",
       "    <tr>\n",
       "      <th>10</th>\n",
       "      <td>0.453751</td>\n",
       "      <td>0.835944</td>\n",
       "      <td>0.348562</td>\n",
       "      <td>0.869500</td>\n",
       "    </tr>\n",
       "    <tr>\n",
       "      <th>11</th>\n",
       "      <td>0.443343</td>\n",
       "      <td>0.841389</td>\n",
       "      <td>0.346863</td>\n",
       "      <td>0.869667</td>\n",
       "    </tr>\n",
       "    <tr>\n",
       "      <th>12</th>\n",
       "      <td>0.434451</td>\n",
       "      <td>0.842222</td>\n",
       "      <td>0.333504</td>\n",
       "      <td>0.874167</td>\n",
       "    </tr>\n",
       "    <tr>\n",
       "      <th>13</th>\n",
       "      <td>0.428729</td>\n",
       "      <td>0.844926</td>\n",
       "      <td>0.325426</td>\n",
       "      <td>0.877333</td>\n",
       "    </tr>\n",
       "    <tr>\n",
       "      <th>14</th>\n",
       "      <td>0.420066</td>\n",
       "      <td>0.848333</td>\n",
       "      <td>0.320726</td>\n",
       "      <td>0.880500</td>\n",
       "    </tr>\n",
       "    <tr>\n",
       "      <th>15</th>\n",
       "      <td>0.418301</td>\n",
       "      <td>0.849796</td>\n",
       "      <td>0.313057</td>\n",
       "      <td>0.883167</td>\n",
       "    </tr>\n",
       "    <tr>\n",
       "      <th>16</th>\n",
       "      <td>0.409030</td>\n",
       "      <td>0.851333</td>\n",
       "      <td>0.318492</td>\n",
       "      <td>0.880500</td>\n",
       "    </tr>\n",
       "    <tr>\n",
       "      <th>17</th>\n",
       "      <td>0.402583</td>\n",
       "      <td>0.854611</td>\n",
       "      <td>0.306515</td>\n",
       "      <td>0.885667</td>\n",
       "    </tr>\n",
       "    <tr>\n",
       "      <th>18</th>\n",
       "      <td>0.398003</td>\n",
       "      <td>0.855537</td>\n",
       "      <td>0.306861</td>\n",
       "      <td>0.888500</td>\n",
       "    </tr>\n",
       "    <tr>\n",
       "      <th>19</th>\n",
       "      <td>0.390902</td>\n",
       "      <td>0.857556</td>\n",
       "      <td>0.303804</td>\n",
       "      <td>0.887667</td>\n",
       "    </tr>\n",
       "    <tr>\n",
       "      <th>20</th>\n",
       "      <td>0.388312</td>\n",
       "      <td>0.858630</td>\n",
       "      <td>0.297154</td>\n",
       "      <td>0.891167</td>\n",
       "    </tr>\n",
       "    <tr>\n",
       "      <th>21</th>\n",
       "      <td>0.381912</td>\n",
       "      <td>0.862167</td>\n",
       "      <td>0.292955</td>\n",
       "      <td>0.889500</td>\n",
       "    </tr>\n",
       "    <tr>\n",
       "      <th>22</th>\n",
       "      <td>0.378271</td>\n",
       "      <td>0.863704</td>\n",
       "      <td>0.290541</td>\n",
       "      <td>0.893667</td>\n",
       "    </tr>\n",
       "    <tr>\n",
       "      <th>23</th>\n",
       "      <td>0.372638</td>\n",
       "      <td>0.866370</td>\n",
       "      <td>0.282729</td>\n",
       "      <td>0.892500</td>\n",
       "    </tr>\n",
       "    <tr>\n",
       "      <th>24</th>\n",
       "      <td>0.368203</td>\n",
       "      <td>0.866852</td>\n",
       "      <td>0.285509</td>\n",
       "      <td>0.893333</td>\n",
       "    </tr>\n",
       "    <tr>\n",
       "      <th>25</th>\n",
       "      <td>0.369674</td>\n",
       "      <td>0.865907</td>\n",
       "      <td>0.283512</td>\n",
       "      <td>0.897167</td>\n",
       "    </tr>\n",
       "    <tr>\n",
       "      <th>26</th>\n",
       "      <td>0.362265</td>\n",
       "      <td>0.869333</td>\n",
       "      <td>0.282142</td>\n",
       "      <td>0.895500</td>\n",
       "    </tr>\n",
       "    <tr>\n",
       "      <th>27</th>\n",
       "      <td>0.358089</td>\n",
       "      <td>0.870926</td>\n",
       "      <td>0.284384</td>\n",
       "      <td>0.895500</td>\n",
       "    </tr>\n",
       "    <tr>\n",
       "      <th>28</th>\n",
       "      <td>0.353106</td>\n",
       "      <td>0.872278</td>\n",
       "      <td>0.274617</td>\n",
       "      <td>0.898667</td>\n",
       "    </tr>\n",
       "    <tr>\n",
       "      <th>29</th>\n",
       "      <td>0.349607</td>\n",
       "      <td>0.874167</td>\n",
       "      <td>0.273515</td>\n",
       "      <td>0.900500</td>\n",
       "    </tr>\n",
       "    <tr>\n",
       "      <th>30</th>\n",
       "      <td>0.349959</td>\n",
       "      <td>0.873741</td>\n",
       "      <td>0.274333</td>\n",
       "      <td>0.897667</td>\n",
       "    </tr>\n",
       "    <tr>\n",
       "      <th>31</th>\n",
       "      <td>0.345880</td>\n",
       "      <td>0.874889</td>\n",
       "      <td>0.265411</td>\n",
       "      <td>0.902000</td>\n",
       "    </tr>\n",
       "    <tr>\n",
       "      <th>32</th>\n",
       "      <td>0.343140</td>\n",
       "      <td>0.876222</td>\n",
       "      <td>0.265932</td>\n",
       "      <td>0.904333</td>\n",
       "    </tr>\n",
       "    <tr>\n",
       "      <th>33</th>\n",
       "      <td>0.339553</td>\n",
       "      <td>0.876204</td>\n",
       "      <td>0.260545</td>\n",
       "      <td>0.905167</td>\n",
       "    </tr>\n",
       "    <tr>\n",
       "      <th>34</th>\n",
       "      <td>0.335985</td>\n",
       "      <td>0.877870</td>\n",
       "      <td>0.257810</td>\n",
       "      <td>0.906667</td>\n",
       "    </tr>\n",
       "    <tr>\n",
       "      <th>35</th>\n",
       "      <td>0.335610</td>\n",
       "      <td>0.878482</td>\n",
       "      <td>0.262004</td>\n",
       "      <td>0.902833</td>\n",
       "    </tr>\n",
       "    <tr>\n",
       "      <th>36</th>\n",
       "      <td>0.332247</td>\n",
       "      <td>0.880259</td>\n",
       "      <td>0.256551</td>\n",
       "      <td>0.904000</td>\n",
       "    </tr>\n",
       "    <tr>\n",
       "      <th>37</th>\n",
       "      <td>0.329306</td>\n",
       "      <td>0.880074</td>\n",
       "      <td>0.260473</td>\n",
       "      <td>0.906500</td>\n",
       "    </tr>\n",
       "    <tr>\n",
       "      <th>38</th>\n",
       "      <td>0.325153</td>\n",
       "      <td>0.883519</td>\n",
       "      <td>0.256902</td>\n",
       "      <td>0.902000</td>\n",
       "    </tr>\n",
       "    <tr>\n",
       "      <th>39</th>\n",
       "      <td>0.326141</td>\n",
       "      <td>0.882185</td>\n",
       "      <td>0.253727</td>\n",
       "      <td>0.908833</td>\n",
       "    </tr>\n",
       "    <tr>\n",
       "      <th>40</th>\n",
       "      <td>0.324008</td>\n",
       "      <td>0.882630</td>\n",
       "      <td>0.255290</td>\n",
       "      <td>0.909000</td>\n",
       "    </tr>\n",
       "    <tr>\n",
       "      <th>41</th>\n",
       "      <td>0.317844</td>\n",
       "      <td>0.883630</td>\n",
       "      <td>0.251253</td>\n",
       "      <td>0.908833</td>\n",
       "    </tr>\n",
       "    <tr>\n",
       "      <th>42</th>\n",
       "      <td>0.318806</td>\n",
       "      <td>0.884370</td>\n",
       "      <td>0.250976</td>\n",
       "      <td>0.909667</td>\n",
       "    </tr>\n",
       "    <tr>\n",
       "      <th>43</th>\n",
       "      <td>0.316167</td>\n",
       "      <td>0.884926</td>\n",
       "      <td>0.250039</td>\n",
       "      <td>0.908500</td>\n",
       "    </tr>\n",
       "    <tr>\n",
       "      <th>44</th>\n",
       "      <td>0.315120</td>\n",
       "      <td>0.885500</td>\n",
       "      <td>0.245410</td>\n",
       "      <td>0.909667</td>\n",
       "    </tr>\n",
       "    <tr>\n",
       "      <th>45</th>\n",
       "      <td>0.312818</td>\n",
       "      <td>0.884944</td>\n",
       "      <td>0.249553</td>\n",
       "      <td>0.909667</td>\n",
       "    </tr>\n",
       "    <tr>\n",
       "      <th>46</th>\n",
       "      <td>0.316711</td>\n",
       "      <td>0.884685</td>\n",
       "      <td>0.249283</td>\n",
       "      <td>0.908833</td>\n",
       "    </tr>\n",
       "    <tr>\n",
       "      <th>47</th>\n",
       "      <td>0.309701</td>\n",
       "      <td>0.887741</td>\n",
       "      <td>0.245425</td>\n",
       "      <td>0.911667</td>\n",
       "    </tr>\n",
       "    <tr>\n",
       "      <th>48</th>\n",
       "      <td>0.308167</td>\n",
       "      <td>0.887963</td>\n",
       "      <td>0.247624</td>\n",
       "      <td>0.912333</td>\n",
       "    </tr>\n",
       "    <tr>\n",
       "      <th>49</th>\n",
       "      <td>0.308004</td>\n",
       "      <td>0.889074</td>\n",
       "      <td>0.243121</td>\n",
       "      <td>0.911500</td>\n",
       "    </tr>\n",
       "  </tbody>\n",
       "</table>\n",
       "</div>"
      ],
      "text/plain": [
       "        loss  accuracy  val_loss  val_accuracy\n",
       "0   1.223114  0.551667  0.669974      0.748667\n",
       "1   0.740286  0.728648  0.540561      0.793833\n",
       "2   0.642424  0.761704  0.489355      0.815167\n",
       "3   0.589581  0.782481  0.451896      0.830333\n",
       "4   0.554326  0.796426  0.425706      0.842833\n",
       "5   0.530021  0.806648  0.407183      0.849500\n",
       "6   0.507544  0.815944  0.392258      0.856000\n",
       "7   0.485335  0.826056  0.372555      0.859167\n",
       "8   0.472640  0.828056  0.364288      0.864000\n",
       "9   0.463641  0.831889  0.357879      0.866500\n",
       "10  0.453751  0.835944  0.348562      0.869500\n",
       "11  0.443343  0.841389  0.346863      0.869667\n",
       "12  0.434451  0.842222  0.333504      0.874167\n",
       "13  0.428729  0.844926  0.325426      0.877333\n",
       "14  0.420066  0.848333  0.320726      0.880500\n",
       "15  0.418301  0.849796  0.313057      0.883167\n",
       "16  0.409030  0.851333  0.318492      0.880500\n",
       "17  0.402583  0.854611  0.306515      0.885667\n",
       "18  0.398003  0.855537  0.306861      0.888500\n",
       "19  0.390902  0.857556  0.303804      0.887667\n",
       "20  0.388312  0.858630  0.297154      0.891167\n",
       "21  0.381912  0.862167  0.292955      0.889500\n",
       "22  0.378271  0.863704  0.290541      0.893667\n",
       "23  0.372638  0.866370  0.282729      0.892500\n",
       "24  0.368203  0.866852  0.285509      0.893333\n",
       "25  0.369674  0.865907  0.283512      0.897167\n",
       "26  0.362265  0.869333  0.282142      0.895500\n",
       "27  0.358089  0.870926  0.284384      0.895500\n",
       "28  0.353106  0.872278  0.274617      0.898667\n",
       "29  0.349607  0.874167  0.273515      0.900500\n",
       "30  0.349959  0.873741  0.274333      0.897667\n",
       "31  0.345880  0.874889  0.265411      0.902000\n",
       "32  0.343140  0.876222  0.265932      0.904333\n",
       "33  0.339553  0.876204  0.260545      0.905167\n",
       "34  0.335985  0.877870  0.257810      0.906667\n",
       "35  0.335610  0.878482  0.262004      0.902833\n",
       "36  0.332247  0.880259  0.256551      0.904000\n",
       "37  0.329306  0.880074  0.260473      0.906500\n",
       "38  0.325153  0.883519  0.256902      0.902000\n",
       "39  0.326141  0.882185  0.253727      0.908833\n",
       "40  0.324008  0.882630  0.255290      0.909000\n",
       "41  0.317844  0.883630  0.251253      0.908833\n",
       "42  0.318806  0.884370  0.250976      0.909667\n",
       "43  0.316167  0.884926  0.250039      0.908500\n",
       "44  0.315120  0.885500  0.245410      0.909667\n",
       "45  0.312818  0.884944  0.249553      0.909667\n",
       "46  0.316711  0.884685  0.249283      0.908833\n",
       "47  0.309701  0.887741  0.245425      0.911667\n",
       "48  0.308167  0.887963  0.247624      0.912333\n",
       "49  0.308004  0.889074  0.243121      0.911500"
      ]
     },
     "execution_count": 16,
     "metadata": {},
     "output_type": "execute_result"
    }
   ],
   "source": [
    "# Model evaluation\n",
    "metrics = pd.DataFrame(model.history.history)\n",
    "metrics"
   ]
  },
  {
   "cell_type": "code",
   "execution_count": 17,
   "id": "b6d38773-8a41-417b-b21d-8bd860e6fb9c",
   "metadata": {},
   "outputs": [
    {
     "data": {
      "text/plain": [
       "<AxesSubplot:>"
      ]
     },
     "execution_count": 17,
     "metadata": {},
     "output_type": "execute_result"
    },
    {
     "data": {
      "image/png": "[encoded data removed]",
      "text/plain": [
       "<Figure size 432x288 with 1 Axes>"
      ]
     },
     "metadata": {
      "needs_background": "light"
     },
     "output_type": "display_data"
    }
   ],
   "source": [
    "# Evaluate graphically\n",
    "metrics = pd.DataFrame(model.history.history)\n",
    "sns.lineplot(data=metrics[['accuracy', 'val_accuracy']])"
   ]
  },
  {
   "cell_type": "code",
   "execution_count": 18,
   "id": "a8ba4f8b-4151-484a-9129-32cb47681517",
   "metadata": {},
   "outputs": [
    {
     "name": "stdout",
     "output_type": "stream",
     "text": [
      "              precision    recall  f1-score   support\n",
      "\n",
      "           0       0.85      0.85      0.85      1000\n",
      "           1       0.99      0.97      0.98      1000\n",
      "           2       0.86      0.86      0.86      1000\n",
      "           3       0.89      0.92      0.90      1000\n",
      "           4       0.84      0.86      0.85      1000\n",
      "           5       0.98      0.98      0.98      1000\n",
      "           6       0.72      0.68      0.70      1000\n",
      "           7       0.95      0.96      0.96      1000\n",
      "           8       0.97      0.98      0.98      1000\n",
      "           9       0.97      0.96      0.96      1000\n",
      "\n",
      "    accuracy                           0.90     10000\n",
      "   macro avg       0.90      0.90      0.90     10000\n",
      "weighted avg       0.90      0.90      0.90     10000\n",
      "\n",
      "\n",
      "\n",
      "[[848   0  18  23   3   1 100   0   7   0]\n",
      " [  0 975   0  18   3   0   2   0   2   0]\n",
      " [ 14   0 861  10  53   0  62   0   0   0]\n",
      " [ 10   3  10 915  25   0  35   0   2   0]\n",
      " [  0   1  39  32 856   0  69   0   3   0]\n",
      " [  0   0   0   0   0 983   0  12   0   5]\n",
      " [122   1  75  24  82   0 683   0  13   0]\n",
      " [  0   0   0   0   0  15   0 960   0  25]\n",
      " [  4   1   2   3   2   2   3   1 981   1]\n",
      " [  1   0   0   0   0   4   0  34   0 961]]\n"
     ]
    }
   ],
   "source": [
    "# Compute predicted classes and model performance metrics\n",
    "y_pred = np.argmax(model.predict(x_test), axis=-1)\n",
    "\n",
    "print(classification_report(y_true=y_test, y_pred=y_pred))\n",
    "print(\"\\n\")\n",
    "print(confusion_matrix(y_true=y_test, y_pred=y_pred))"
   ]
  },
  {
   "cell_type": "code",
   "execution_count": null,
   "id": "34f6b774-99f9-4a20-bd42-9343b5754249",
   "metadata": {},
   "outputs": [],
   "source": []
  }
 ],
 "metadata": {
  "kernelspec": {
   "display_name": "Python 3 (ipykernel)",
   "language": "python",
   "name": "python3"
  },
  "language_info": {
   "codemirror_mode": {
    "name": "ipython",
    "version": 3
   },
   "file_extension": ".py",
   "mimetype": "text/x-python",
   "name": "python",
   "nbconvert_exporter": "python",
   "pygments_lexer": "ipython3",
   "version": "3.8.10"
  }
 },
 "nbformat": 4,
 "nbformat_minor": 5
}
