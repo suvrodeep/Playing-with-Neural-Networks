{
 "cells": [
  {
   "cell_type": "code",
   "execution_count": 22,
   "id": "cfd60c17-7e45-47bf-8d63-cae5207feadd",
   "metadata": {},
   "outputs": [],
   "source": [
    "import os\n",
    "import tensorflow as tf\n",
    "from tensorflow.keras.datasets import fashion_mnist\n",
    "import matplotlib.pyplot as plt\n",
    "from tensorflow import keras\n",
    "from tensorflow.keras.models import Sequential\n",
    "from tensorflow.keras.layers import Dense, Conv2D, MaxPool2D, Flatten, Dropout\n",
    "from tensorflow.keras.callbacks import EarlyStopping\n",
    "from tensorflow.keras import backend\n",
    "import pandas as pd\n",
    "import numpy as np\n",
    "import seaborn as sns\n",
    "from sklearn.metrics import confusion_matrix\n",
    "from sklearn.metrics import classification_report"
   ]
  },
  {
   "cell_type": "code",
   "execution_count": 2,
   "id": "8bbc1ff1-e154-4773-b964-5db6f42ba0bd",
   "metadata": {},
   "outputs": [
    {
     "name": "stdout",
     "output_type": "stream",
     "text": [
      "Downloading data from https://storage.googleapis.com/tensorflow/tf-keras-datasets/train-labels-idx1-ubyte.gz\n",
      "32768/29515 [=================================] - 0s 1us/step\n",
      "Downloading data from https://storage.googleapis.com/tensorflow/tf-keras-datasets/train-images-idx3-ubyte.gz\n",
      "26427392/26421880 [==============================] - 4s 0us/step\n",
      "Downloading data from https://storage.googleapis.com/tensorflow/tf-keras-datasets/t10k-labels-idx1-ubyte.gz\n",
      "8192/5148 [===============================================] - 0s 0s/step\n",
      "Downloading data from https://storage.googleapis.com/tensorflow/tf-keras-datasets/t10k-images-idx3-ubyte.gz\n",
      "4423680/4422102 [==============================] - 1s 0us/step\n"
     ]
    }
   ],
   "source": [
    "# Load data\n",
    "(x_train, y_train), (x_test, y_test) = fashion_mnist.load_data()"
   ]
  },
  {
   "cell_type": "code",
   "execution_count": 3,
   "id": "64a6d1b6-29dd-4371-b623-b3ef6656447e",
   "metadata": {},
   "outputs": [
    {
     "data": {
      "text/plain": [
       "(28, 28)"
      ]
     },
     "execution_count": 3,
     "metadata": {},
     "output_type": "execute_result"
    }
   ],
   "source": [
    "# Check dimensions of image\n",
    "x_train[0].shape"
   ]
  },
  {
   "cell_type": "code",
   "execution_count": 4,
   "id": "b53e639c-c105-4446-8483-0a11b6725740",
   "metadata": {},
   "outputs": [
    {
     "data": {
      "text/plain": [
       "<matplotlib.image.AxesImage at 0x2b3dd234b48>"
      ]
     },
     "execution_count": 4,
     "metadata": {},
     "output_type": "execute_result"
    },
    {
     "data": {
      "image/png": "[encoded data removed]",
      "text/plain": [
       "<Figure size 432x288 with 1 Axes>"
      ]
     },
     "metadata": {
      "needs_background": "light"
     },
     "output_type": "display_data"
    }
   ],
   "source": [
    "# View a sample image\n",
    "plt.imshow(x_train[10])"
   ]
  },
  {
   "cell_type": "code",
   "execution_count": 5,
   "id": "825b240a-79b2-4a93-a5af-ba572a7e05f0",
   "metadata": {},
   "outputs": [],
   "source": [
    "##################################################\n",
    "# Explore training data and labels\n",
    "##################################################"
   ]
  },
  {
   "cell_type": "code",
   "execution_count": 6,
   "id": "2e555217-4097-41b6-a5b9-b2a4b192ed17",
   "metadata": {
    "scrolled": true,
    "tags": []
   },
   "outputs": [
    {
     "data": {
      "text/plain": [
       "array([[[0, 0, 0, ..., 0, 0, 0],\n",
       "        [0, 0, 0, ..., 0, 0, 0],\n",
       "        [0, 0, 0, ..., 0, 0, 0],\n",
       "        ...,\n",
       "        [0, 0, 0, ..., 0, 0, 0],\n",
       "        [0, 0, 0, ..., 0, 0, 0],\n",
       "        [0, 0, 0, ..., 0, 0, 0]],\n",
       "\n",
       "       [[0, 0, 0, ..., 0, 0, 0],\n",
       "        [0, 0, 0, ..., 0, 0, 0],\n",
       "        [0, 0, 0, ..., 0, 0, 0],\n",
       "        ...,\n",
       "        [0, 0, 0, ..., 0, 0, 0],\n",
       "        [0, 0, 0, ..., 0, 0, 0],\n",
       "        [0, 0, 0, ..., 0, 0, 0]],\n",
       "\n",
       "       [[0, 0, 0, ..., 0, 0, 0],\n",
       "        [0, 0, 0, ..., 0, 0, 0],\n",
       "        [0, 0, 0, ..., 0, 0, 0],\n",
       "        ...,\n",
       "        [0, 0, 0, ..., 0, 0, 0],\n",
       "        [0, 0, 0, ..., 0, 0, 0],\n",
       "        [0, 0, 0, ..., 0, 0, 0]],\n",
       "\n",
       "       ...,\n",
       "\n",
       "       [[0, 0, 0, ..., 0, 0, 0],\n",
       "        [0, 0, 0, ..., 0, 0, 0],\n",
       "        [0, 0, 0, ..., 0, 0, 0],\n",
       "        ...,\n",
       "        [0, 0, 0, ..., 0, 0, 0],\n",
       "        [0, 0, 0, ..., 0, 0, 0],\n",
       "        [0, 0, 0, ..., 0, 0, 0]],\n",
       "\n",
       "       [[0, 0, 0, ..., 0, 0, 0],\n",
       "        [0, 0, 0, ..., 0, 0, 0],\n",
       "        [0, 0, 0, ..., 0, 0, 0],\n",
       "        ...,\n",
       "        [0, 0, 0, ..., 0, 0, 0],\n",
       "        [0, 0, 0, ..., 0, 0, 0],\n",
       "        [0, 0, 0, ..., 0, 0, 0]],\n",
       "\n",
       "       [[0, 0, 0, ..., 0, 0, 0],\n",
       "        [0, 0, 0, ..., 0, 0, 0],\n",
       "        [0, 0, 0, ..., 0, 0, 0],\n",
       "        ...,\n",
       "        [0, 0, 0, ..., 0, 0, 0],\n",
       "        [0, 0, 0, ..., 0, 0, 0],\n",
       "        [0, 0, 0, ..., 0, 0, 0]]], dtype=uint8)"
      ]
     },
     "execution_count": 6,
     "metadata": {},
     "output_type": "execute_result"
    }
   ],
   "source": [
    "x_train"
   ]
  },
  {
   "cell_type": "code",
   "execution_count": 7,
   "id": "0e9e6bb6-db49-4174-b215-8105e7a4a771",
   "metadata": {},
   "outputs": [
    {
     "data": {
      "text/plain": [
       "255"
      ]
     },
     "execution_count": 7,
     "metadata": {},
     "output_type": "execute_result"
    }
   ],
   "source": [
    "x_train[10].max()"
   ]
  },
  {
   "cell_type": "code",
   "execution_count": 8,
   "id": "da912ef1-d89e-4887-82ad-89a51d171c28",
   "metadata": {},
   "outputs": [
    {
     "data": {
      "text/plain": [
       "array([9, 0, 0, ..., 3, 0, 5], dtype=uint8)"
      ]
     },
     "execution_count": 8,
     "metadata": {},
     "output_type": "execute_result"
    }
   ],
   "source": [
    "y_train"
   ]
  },
  {
   "cell_type": "code",
   "execution_count": 9,
   "id": "2ac4e050-9507-475e-9dde-c40af00a680e",
   "metadata": {},
   "outputs": [
    {
     "name": "stdout",
     "output_type": "stream",
     "text": [
      "Train data shape:(60000, 28, 28)\n",
      "Test data shape:(10000, 28, 28)\n"
     ]
    }
   ],
   "source": [
    "print(\"Train data shape:{}\".format(x_train.shape))\n",
    "print(\"Test data shape:{}\".format(x_test.shape))"
   ]
  },
  {
   "cell_type": "code",
   "execution_count": 10,
   "id": "92ec09f9-88aa-4020-a5d6-7a25c09436fa",
   "metadata": {},
   "outputs": [
    {
     "name": "stdout",
     "output_type": "stream",
     "text": [
      "Number of classes training labels:10\n",
      "Unique values in training labels:[9 0 3 2 7 5 1 6 4 8]\n"
     ]
    }
   ],
   "source": [
    "print(\"Number of classes training labels:{}\".format(len(pd.unique(y_train))))\n",
    "print(\"Unique values in training labels:{}\".format(pd.unique(y_train)))"
   ]
  },
  {
   "cell_type": "code",
   "execution_count": 11,
   "id": "34a95fde-a514-4fc7-be02-62a2b1087df8",
   "metadata": {},
   "outputs": [],
   "source": [
    "# Normalize image pixel values\n",
    "x_train = x_train / 255\n",
    "x_test = x_test / 255"
   ]
  },
  {
   "cell_type": "code",
   "execution_count": 12,
   "id": "272ba56c-c05c-44a7-8135-0cc0ef34a4f2",
   "metadata": {},
   "outputs": [],
   "source": [
    "# Prepare one-hot encoded y-values\n",
    "y_train_cat = keras.utils.to_categorical(y=y_train, num_classes=10)\n",
    "y_test_cat = keras.utils.to_categorical(y=y_test, num_classes=10)"
   ]
  },
  {
   "cell_type": "code",
   "execution_count": 13,
   "id": "6e76aad5-bf76-4f47-8c67-9ec02e566adb",
   "metadata": {},
   "outputs": [],
   "source": [
    "# Reshaping data to batch_size, width, height, color_channel\n",
    "x_train = x_train.reshape(60000, 28, 28, 1)\n",
    "x_test = x_test.reshape(10000, 28, 28, 1)"
   ]
  },
  {
   "cell_type": "code",
   "execution_count": 14,
   "id": "d9858381-a719-448b-a03e-40714438b259",
   "metadata": {},
   "outputs": [],
   "source": [
    "# Prepare GPU\n",
    "def prep_gpu():\n",
    "    phy_gpus = tf.config.list_physical_devices(device_type='GPU')\n",
    "\n",
    "    for gpu in phy_gpus:\n",
    "        tf.config.experimental.set_memory_growth(device=gpu, enable=True)\n",
    "\n",
    "    log_gpus = tf.config.list_logical_devices(device_type='GPU')\n",
    "    phy_cpus = tf.config.list_physical_devices(device_type='CPU')\n",
    "    log_cpus = tf.config.list_logical_devices(device_type='CPU')\n",
    "\n",
    "    print(\"Physical GPUs: {}\\tLogical GPUs: {}\\nPhysical CPUs: {}\\tLogical CPUs: {}\".format(len(phy_gpus),\n",
    "                                                                                             len(log_gpus),\n",
    "                                                                                             len(phy_cpus),\n",
    "                                                                                             len(log_cpus)))"
   ]
  },
  {
   "cell_type": "code",
   "execution_count": 15,
   "id": "23d65e6c-8155-4f8c-a23b-62b0087496ea",
   "metadata": {},
   "outputs": [
    {
     "name": "stdout",
     "output_type": "stream",
     "text": [
      "Physical GPUs: 0\tLogical GPUs: 0\n",
      "Physical CPUs: 1\tLogical CPUs: 1\n"
     ]
    }
   ],
   "source": [
    "os.environ['TF_CPP_MIN_LOG_LEVEL'] = '1'\n",
    "prep_gpu()"
   ]
  },
  {
   "cell_type": "code",
   "execution_count": 46,
   "id": "746cc73f-60fe-41ff-a869-6503014de9f6",
   "metadata": {},
   "outputs": [
    {
     "name": "stdout",
     "output_type": "stream",
     "text": [
      "Model: \"sequential\"\n",
      "_________________________________________________________________\n",
      "Layer (type)                 Output Shape              Param #   \n",
      "=================================================================\n",
      "conv2d (Conv2D)              (None, 26, 26, 32)        320       \n",
      "_________________________________________________________________\n",
      "max_pooling2d (MaxPooling2D) (None, 13, 13, 32)        0         \n",
      "_________________________________________________________________\n",
      "dropout (Dropout)            (None, 13, 13, 32)        0         \n",
      "_________________________________________________________________\n",
      "conv2d_1 (Conv2D)            (None, 11, 11, 32)        9248      \n",
      "_________________________________________________________________\n",
      "max_pooling2d_1 (MaxPooling2 (None, 5, 5, 32)          0         \n",
      "_________________________________________________________________\n",
      "flatten (Flatten)            (None, 800)               0         \n",
      "_________________________________________________________________\n",
      "dense (Dense)                (None, 64)                51264     \n",
      "_________________________________________________________________\n",
      "dense_1 (Dense)              (None, 10)                650       \n",
      "=================================================================\n",
      "Total params: 61,482\n",
      "Trainable params: 61,482\n",
      "Non-trainable params: 0\n",
      "_________________________________________________________________\n"
     ]
    }
   ],
   "source": [
    "# Build model\n",
    "backend.clear_session()\n",
    "model = Sequential()\n",
    "\n",
    "model.add(Conv2D(filters=32, kernel_size=(3, 3), input_shape=(28, 28, 1), activation='relu'))\n",
    "model.add(MaxPool2D(pool_size=(2, 2)))\n",
    "\n",
    "model.add(Dropout(0.5))\n",
    "\n",
    "model.add(Conv2D(filters=32, kernel_size=(3, 3), activation='relu'))\n",
    "model.add(MaxPool2D(pool_size=(2, 2)))\n",
    "\n",
    "model.add(Flatten())\n",
    "model.add(Dense(64, activation='relu'))\n",
    "model.add(Dense(10, activation='softmax'))\n",
    "\n",
    "model.summary()\n",
    "\n",
    "# Create early stopping callback\n",
    "early_stop = EarlyStopping(monitor='val_loss', mode='min', patience=2, restore_best_weights=True)"
   ]
  },
  {
   "cell_type": "code",
   "execution_count": 47,
   "id": "feba245c-3e22-4d6a-bb91-af05171f9640",
   "metadata": {},
   "outputs": [
    {
     "name": "stdout",
     "output_type": "stream",
     "text": [
      "Epoch 1/20\n",
      "1688/1688 [==============================] - 44s 26ms/step - loss: 0.5731 - accuracy: 0.7890 - val_loss: 0.3930 - val_accuracy: 0.8590\n",
      "Epoch 2/20\n",
      "1688/1688 [==============================] - 47s 28ms/step - loss: 0.3917 - accuracy: 0.8590 - val_loss: 0.3464 - val_accuracy: 0.8768\n",
      "Epoch 3/20\n",
      "1688/1688 [==============================] - 45s 26ms/step - loss: 0.3455 - accuracy: 0.8730 - val_loss: 0.3330 - val_accuracy: 0.8740\n",
      "Epoch 4/20\n",
      "1688/1688 [==============================] - 55s 33ms/step - loss: 0.3164 - accuracy: 0.8833 - val_loss: 0.3055 - val_accuracy: 0.8858\n",
      "Epoch 5/20\n",
      "1688/1688 [==============================] - 47s 28ms/step - loss: 0.2997 - accuracy: 0.8883 - val_loss: 0.2841 - val_accuracy: 0.8958\n",
      "Epoch 6/20\n",
      "1688/1688 [==============================] - 55s 32ms/step - loss: 0.2808 - accuracy: 0.8952 - val_loss: 0.2699 - val_accuracy: 0.8995\n",
      "Epoch 7/20\n",
      "1688/1688 [==============================] - 46s 27ms/step - loss: 0.2703 - accuracy: 0.9004 - val_loss: 0.2640 - val_accuracy: 0.9025\n",
      "Epoch 8/20\n",
      "1688/1688 [==============================] - 45s 26ms/step - loss: 0.2582 - accuracy: 0.9039 - val_loss: 0.2567 - val_accuracy: 0.9085\n",
      "Epoch 9/20\n",
      "1688/1688 [==============================] - 45s 27ms/step - loss: 0.2493 - accuracy: 0.9073 - val_loss: 0.2511 - val_accuracy: 0.9050\n",
      "Epoch 10/20\n",
      "1688/1688 [==============================] - 46s 27ms/step - loss: 0.2443 - accuracy: 0.9077 - val_loss: 0.2536 - val_accuracy: 0.9097\n",
      "Epoch 11/20\n",
      "1688/1688 [==============================] - 47s 28ms/step - loss: 0.2373 - accuracy: 0.9105 - val_loss: 0.2492 - val_accuracy: 0.9065\n",
      "Epoch 12/20\n",
      "1688/1688 [==============================] - 44s 26ms/step - loss: 0.2308 - accuracy: 0.9117 - val_loss: 0.2584 - val_accuracy: 0.9065\n",
      "Epoch 13/20\n",
      "1688/1688 [==============================] - 45s 27ms/step - loss: 0.2252 - accuracy: 0.9150 - val_loss: 0.2384 - val_accuracy: 0.9130\n",
      "Epoch 14/20\n",
      "1688/1688 [==============================] - 45s 26ms/step - loss: 0.2203 - accuracy: 0.9156 - val_loss: 0.2359 - val_accuracy: 0.9140\n",
      "Epoch 15/20\n",
      "1688/1688 [==============================] - 45s 27ms/step - loss: 0.2145 - accuracy: 0.9187 - val_loss: 0.2503 - val_accuracy: 0.9075\n",
      "Epoch 16/20\n",
      "1688/1688 [==============================] - 45s 27ms/step - loss: 0.2095 - accuracy: 0.9208 - val_loss: 0.2458 - val_accuracy: 0.9118\n"
     ]
    },
    {
     "data": {
      "text/plain": [
       "<tensorflow.python.keras.callbacks.History at 0x2b39e4ed288>"
      ]
     },
     "execution_count": 47,
     "metadata": {},
     "output_type": "execute_result"
    }
   ],
   "source": [
    "model.compile(loss='categorical_crossentropy', optimizer='adam', metrics=['accuracy'])\n",
    "model.fit(x=x_train, y=y_train_cat, epochs=20, validation_split=0.1, callbacks=[early_stop])"
   ]
  },
  {
   "cell_type": "code",
   "execution_count": 48,
   "id": "2294ef4f-5c96-4c1f-ab56-85e69bd8d482",
   "metadata": {},
   "outputs": [
    {
     "data": {
      "text/html": [
       "<div>\n",
       "<style scoped>\n",
       "    .dataframe tbody tr th:only-of-type {\n",
       "        vertical-align: middle;\n",
       "    }\n",
       "\n",
       "    .dataframe tbody tr th {\n",
       "        vertical-align: top;\n",
       "    }\n",
       "\n",
       "    .dataframe thead th {\n",
       "        text-align: right;\n",
       "    }\n",
       "</style>\n",
       "<table border=\"1\" class=\"dataframe\">\n",
       "  <thead>\n",
       "    <tr style=\"text-align: right;\">\n",
       "      <th></th>\n",
       "      <th>loss</th>\n",
       "      <th>accuracy</th>\n",
       "      <th>val_loss</th>\n",
       "      <th>val_accuracy</th>\n",
       "    </tr>\n",
       "  </thead>\n",
       "  <tbody>\n",
       "    <tr>\n",
       "      <th>0</th>\n",
       "      <td>0.573115</td>\n",
       "      <td>0.789000</td>\n",
       "      <td>0.393015</td>\n",
       "      <td>0.859000</td>\n",
       "    </tr>\n",
       "    <tr>\n",
       "      <th>1</th>\n",
       "      <td>0.391708</td>\n",
       "      <td>0.859000</td>\n",
       "      <td>0.346385</td>\n",
       "      <td>0.876833</td>\n",
       "    </tr>\n",
       "    <tr>\n",
       "      <th>2</th>\n",
       "      <td>0.345521</td>\n",
       "      <td>0.873019</td>\n",
       "      <td>0.333025</td>\n",
       "      <td>0.874000</td>\n",
       "    </tr>\n",
       "    <tr>\n",
       "      <th>3</th>\n",
       "      <td>0.316374</td>\n",
       "      <td>0.883315</td>\n",
       "      <td>0.305481</td>\n",
       "      <td>0.885833</td>\n",
       "    </tr>\n",
       "    <tr>\n",
       "      <th>4</th>\n",
       "      <td>0.299695</td>\n",
       "      <td>0.888315</td>\n",
       "      <td>0.284069</td>\n",
       "      <td>0.895833</td>\n",
       "    </tr>\n",
       "    <tr>\n",
       "      <th>5</th>\n",
       "      <td>0.280825</td>\n",
       "      <td>0.895185</td>\n",
       "      <td>0.269890</td>\n",
       "      <td>0.899500</td>\n",
       "    </tr>\n",
       "    <tr>\n",
       "      <th>6</th>\n",
       "      <td>0.270328</td>\n",
       "      <td>0.900352</td>\n",
       "      <td>0.263996</td>\n",
       "      <td>0.902500</td>\n",
       "    </tr>\n",
       "    <tr>\n",
       "      <th>7</th>\n",
       "      <td>0.258226</td>\n",
       "      <td>0.903907</td>\n",
       "      <td>0.256749</td>\n",
       "      <td>0.908500</td>\n",
       "    </tr>\n",
       "    <tr>\n",
       "      <th>8</th>\n",
       "      <td>0.249277</td>\n",
       "      <td>0.907278</td>\n",
       "      <td>0.251093</td>\n",
       "      <td>0.905000</td>\n",
       "    </tr>\n",
       "    <tr>\n",
       "      <th>9</th>\n",
       "      <td>0.244301</td>\n",
       "      <td>0.907667</td>\n",
       "      <td>0.253582</td>\n",
       "      <td>0.909667</td>\n",
       "    </tr>\n",
       "    <tr>\n",
       "      <th>10</th>\n",
       "      <td>0.237319</td>\n",
       "      <td>0.910481</td>\n",
       "      <td>0.249178</td>\n",
       "      <td>0.906500</td>\n",
       "    </tr>\n",
       "    <tr>\n",
       "      <th>11</th>\n",
       "      <td>0.230768</td>\n",
       "      <td>0.911667</td>\n",
       "      <td>0.258419</td>\n",
       "      <td>0.906500</td>\n",
       "    </tr>\n",
       "    <tr>\n",
       "      <th>12</th>\n",
       "      <td>0.225217</td>\n",
       "      <td>0.915037</td>\n",
       "      <td>0.238400</td>\n",
       "      <td>0.913000</td>\n",
       "    </tr>\n",
       "    <tr>\n",
       "      <th>13</th>\n",
       "      <td>0.220326</td>\n",
       "      <td>0.915593</td>\n",
       "      <td>0.235906</td>\n",
       "      <td>0.914000</td>\n",
       "    </tr>\n",
       "    <tr>\n",
       "      <th>14</th>\n",
       "      <td>0.214510</td>\n",
       "      <td>0.918667</td>\n",
       "      <td>0.250317</td>\n",
       "      <td>0.907500</td>\n",
       "    </tr>\n",
       "    <tr>\n",
       "      <th>15</th>\n",
       "      <td>0.209523</td>\n",
       "      <td>0.920833</td>\n",
       "      <td>0.245787</td>\n",
       "      <td>0.911833</td>\n",
       "    </tr>\n",
       "  </tbody>\n",
       "</table>\n",
       "</div>"
      ],
      "text/plain": [
       "        loss  accuracy  val_loss  val_accuracy\n",
       "0   0.573115  0.789000  0.393015      0.859000\n",
       "1   0.391708  0.859000  0.346385      0.876833\n",
       "2   0.345521  0.873019  0.333025      0.874000\n",
       "3   0.316374  0.883315  0.305481      0.885833\n",
       "4   0.299695  0.888315  0.284069      0.895833\n",
       "5   0.280825  0.895185  0.269890      0.899500\n",
       "6   0.270328  0.900352  0.263996      0.902500\n",
       "7   0.258226  0.903907  0.256749      0.908500\n",
       "8   0.249277  0.907278  0.251093      0.905000\n",
       "9   0.244301  0.907667  0.253582      0.909667\n",
       "10  0.237319  0.910481  0.249178      0.906500\n",
       "11  0.230768  0.911667  0.258419      0.906500\n",
       "12  0.225217  0.915037  0.238400      0.913000\n",
       "13  0.220326  0.915593  0.235906      0.914000\n",
       "14  0.214510  0.918667  0.250317      0.907500\n",
       "15  0.209523  0.920833  0.245787      0.911833"
      ]
     },
     "execution_count": 48,
     "metadata": {},
     "output_type": "execute_result"
    }
   ],
   "source": [
    "# Model evaluation\n",
    "metrics = pd.DataFrame(model.history.history)\n",
    "metrics"
   ]
  },
  {
   "cell_type": "code",
   "execution_count": 49,
   "id": "b6d38773-8a41-417b-b21d-8bd860e6fb9c",
   "metadata": {},
   "outputs": [
    {
     "data": {
      "text/plain": [
       "<matplotlib.axes._subplots.AxesSubplot at 0x2b3a99ec0c8>"
      ]
     },
     "execution_count": 49,
     "metadata": {},
     "output_type": "execute_result"
    },
    {
     "data": {
      "image/png": "[encoded data removed]",
      "text/plain": [
       "<Figure size 432x288 with 1 Axes>"
      ]
     },
     "metadata": {
      "needs_background": "light"
     },
     "output_type": "display_data"
    }
   ],
   "source": [
    "# Evaluate graphically\n",
    "metrics = pd.DataFrame(model.history.history)\n",
    "sns.lineplot(data=metrics[['accuracy', 'val_accuracy']])"
   ]
  },
  {
   "cell_type": "code",
   "execution_count": 50,
   "id": "a8ba4f8b-4151-484a-9129-32cb47681517",
   "metadata": {},
   "outputs": [
    {
     "name": "stdout",
     "output_type": "stream",
     "text": [
      "              precision    recall  f1-score   support\n",
      "\n",
      "           0       0.83      0.86      0.85      1000\n",
      "           1       0.98      0.98      0.98      1000\n",
      "           2       0.86      0.86      0.86      1000\n",
      "           3       0.89      0.92      0.91      1000\n",
      "           4       0.85      0.84      0.84      1000\n",
      "           5       0.97      0.99      0.98      1000\n",
      "           6       0.74      0.70      0.72      1000\n",
      "           7       0.97      0.95      0.96      1000\n",
      "           8       0.98      0.97      0.98      1000\n",
      "           9       0.96      0.97      0.97      1000\n",
      "\n",
      "    accuracy                           0.91     10000\n",
      "   macro avg       0.90      0.91      0.90     10000\n",
      "weighted avg       0.90      0.91      0.90     10000\n",
      "\n",
      "\n",
      "\n",
      "[[864   2  18  24   2   3  84   0   3   0]\n",
      " [  1 985   0   8   0   0   4   0   2   0]\n",
      " [ 17   1 857  10  49   0  66   0   0   0]\n",
      " [ 12  12   9 920  28   0  16   0   3   0]\n",
      " [  1   1  47  33 838   0  78   0   2   0]\n",
      " [  0   0   0   0   0 988   0  10   0   2]\n",
      " [139   1  57  29  68   1 699   0   5   1]\n",
      " [  0   0   0   0   0  16   0 951   0  33]\n",
      " [  3   0   4   5   3   5   4   2 974   0]\n",
      " [  1   0   0   0   0   6   0  19   0 974]]\n"
     ]
    }
   ],
   "source": [
    "# Compute predicted classes and model performance metrics\n",
    "y_pred = np.argmax(model.predict(x_test), axis=-1)\n",
    "\n",
    "print(classification_report(y_true=y_test, y_pred=y_pred))\n",
    "print(\"\\n\")\n",
    "print(confusion_matrix(y_true=y_test, y_pred=y_pred))"
   ]
  },
  {
   "cell_type": "code",
   "execution_count": null,
   "id": "34f6b774-99f9-4a20-bd42-9343b5754249",
   "metadata": {},
   "outputs": [],
   "source": []
  }
 ],
 "metadata": {
  "kernelspec": {
   "display_name": "Python 3",
   "language": "python",
   "name": "python3"
  },
  "language_info": {
   "codemirror_mode": {
    "name": "ipython",
    "version": 3
   },
   "file_extension": ".py",
   "mimetype": "text/x-python",
   "name": "python",
   "nbconvert_exporter": "python",
   "pygments_lexer": "ipython3",
   "version": "3.7.4"
  }
 },
 "nbformat": 4,
 "nbformat_minor": 5
}
