{
 "cells": [
  {
   "cell_type": "code",
   "execution_count": 1,
   "id": "cfd60c17-7e45-47bf-8d63-cae5207feadd",
   "metadata": {},
   "outputs": [],
   "source": [
    "import os\n",
    "import tensorflow as tf\n",
    "from tensorflow.keras.datasets import fashion_mnist\n",
    "import matplotlib.pyplot as plt\n",
    "from tensorflow import keras\n",
    "from tensorflow.keras.models import Sequential\n",
    "from tensorflow.keras.layers import Dense, Conv2D, MaxPool2D, Flatten, Dropout\n",
    "from tensorflow.keras.callbacks import EarlyStopping\n",
    "from tensorflow.keras import backend\n",
    "import pandas as pd\n",
    "import numpy as np\n",
    "import seaborn as sns\n",
    "from sklearn.metrics import confusion_matrix\n",
    "from sklearn.metrics import classification_report"
   ]
  },
  {
   "cell_type": "code",
   "execution_count": 2,
   "id": "8bbc1ff1-e154-4773-b964-5db6f42ba0bd",
   "metadata": {},
   "outputs": [],
   "source": [
    "# Load data\n",
    "(x_train, y_train), (x_test, y_test) = fashion_mnist.load_data()"
   ]
  },
  {
   "cell_type": "code",
   "execution_count": 3,
   "id": "64a6d1b6-29dd-4371-b623-b3ef6656447e",
   "metadata": {},
   "outputs": [
    {
     "data": {
      "text/plain": [
       "(28, 28)"
      ]
     },
     "execution_count": 3,
     "metadata": {},
     "output_type": "execute_result"
    }
   ],
   "source": [
    "# Check dimensions of image\n",
    "x_train[0].shape"
   ]
  },
  {
   "cell_type": "code",
   "execution_count": 4,
   "id": "b53e639c-c105-4446-8483-0a11b6725740",
   "metadata": {},
   "outputs": [
    {
     "data": {
      "text/plain": [
       "<matplotlib.image.AxesImage at 0x198e5c8d0c8>"
      ]
     },
     "execution_count": 4,
     "metadata": {},
     "output_type": "execute_result"
    },
    {
     "data": {
      "image/png": "[encoded data removed]",
      "text/plain": [
       "<Figure size 432x288 with 1 Axes>"
      ]
     },
     "metadata": {
      "needs_background": "light"
     },
     "output_type": "display_data"
    }
   ],
   "source": [
    "# View a sample image\n",
    "plt.imshow(x_train[10])"
   ]
  },
  {
   "cell_type": "code",
   "execution_count": 5,
   "id": "825b240a-79b2-4a93-a5af-ba572a7e05f0",
   "metadata": {},
   "outputs": [],
   "source": [
    "##################################################\n",
    "# Explore training data and labels\n",
    "##################################################"
   ]
  },
  {
   "cell_type": "code",
   "execution_count": 6,
   "id": "2e555217-4097-41b6-a5b9-b2a4b192ed17",
   "metadata": {
    "scrolled": true,
    "tags": []
   },
   "outputs": [
    {
     "data": {
      "text/plain": [
       "array([[[0, 0, 0, ..., 0, 0, 0],\n",
       "        [0, 0, 0, ..., 0, 0, 0],\n",
       "        [0, 0, 0, ..., 0, 0, 0],\n",
       "        ...,\n",
       "        [0, 0, 0, ..., 0, 0, 0],\n",
       "        [0, 0, 0, ..., 0, 0, 0],\n",
       "        [0, 0, 0, ..., 0, 0, 0]],\n",
       "\n",
       "       [[0, 0, 0, ..., 0, 0, 0],\n",
       "        [0, 0, 0, ..., 0, 0, 0],\n",
       "        [0, 0, 0, ..., 0, 0, 0],\n",
       "        ...,\n",
       "        [0, 0, 0, ..., 0, 0, 0],\n",
       "        [0, 0, 0, ..., 0, 0, 0],\n",
       "        [0, 0, 0, ..., 0, 0, 0]],\n",
       "\n",
       "       [[0, 0, 0, ..., 0, 0, 0],\n",
       "        [0, 0, 0, ..., 0, 0, 0],\n",
       "        [0, 0, 0, ..., 0, 0, 0],\n",
       "        ...,\n",
       "        [0, 0, 0, ..., 0, 0, 0],\n",
       "        [0, 0, 0, ..., 0, 0, 0],\n",
       "        [0, 0, 0, ..., 0, 0, 0]],\n",
       "\n",
       "       ...,\n",
       "\n",
       "       [[0, 0, 0, ..., 0, 0, 0],\n",
       "        [0, 0, 0, ..., 0, 0, 0],\n",
       "        [0, 0, 0, ..., 0, 0, 0],\n",
       "        ...,\n",
       "        [0, 0, 0, ..., 0, 0, 0],\n",
       "        [0, 0, 0, ..., 0, 0, 0],\n",
       "        [0, 0, 0, ..., 0, 0, 0]],\n",
       "\n",
       "       [[0, 0, 0, ..., 0, 0, 0],\n",
       "        [0, 0, 0, ..., 0, 0, 0],\n",
       "        [0, 0, 0, ..., 0, 0, 0],\n",
       "        ...,\n",
       "        [0, 0, 0, ..., 0, 0, 0],\n",
       "        [0, 0, 0, ..., 0, 0, 0],\n",
       "        [0, 0, 0, ..., 0, 0, 0]],\n",
       "\n",
       "       [[0, 0, 0, ..., 0, 0, 0],\n",
       "        [0, 0, 0, ..., 0, 0, 0],\n",
       "        [0, 0, 0, ..., 0, 0, 0],\n",
       "        ...,\n",
       "        [0, 0, 0, ..., 0, 0, 0],\n",
       "        [0, 0, 0, ..., 0, 0, 0],\n",
       "        [0, 0, 0, ..., 0, 0, 0]]], dtype=uint8)"
      ]
     },
     "execution_count": 6,
     "metadata": {},
     "output_type": "execute_result"
    }
   ],
   "source": [
    "x_train"
   ]
  },
  {
   "cell_type": "code",
   "execution_count": 7,
   "id": "0e9e6bb6-db49-4174-b215-8105e7a4a771",
   "metadata": {},
   "outputs": [
    {
     "data": {
      "text/plain": [
       "255"
      ]
     },
     "execution_count": 7,
     "metadata": {},
     "output_type": "execute_result"
    }
   ],
   "source": [
    "x_train[10].max()"
   ]
  },
  {
   "cell_type": "code",
   "execution_count": 8,
   "id": "da912ef1-d89e-4887-82ad-89a51d171c28",
   "metadata": {},
   "outputs": [
    {
     "data": {
      "text/plain": [
       "array([9, 0, 0, ..., 3, 0, 5], dtype=uint8)"
      ]
     },
     "execution_count": 8,
     "metadata": {},
     "output_type": "execute_result"
    }
   ],
   "source": [
    "y_train"
   ]
  },
  {
   "cell_type": "code",
   "execution_count": 9,
   "id": "2ac4e050-9507-475e-9dde-c40af00a680e",
   "metadata": {},
   "outputs": [
    {
     "name": "stdout",
     "output_type": "stream",
     "text": [
      "Train data shape:(60000, 28, 28)\n",
      "Test data shape:(10000, 28, 28)\n"
     ]
    }
   ],
   "source": [
    "print(\"Train data shape:{}\".format(x_train.shape))\n",
    "print(\"Test data shape:{}\".format(x_test.shape))"
   ]
  },
  {
   "cell_type": "code",
   "execution_count": 10,
   "id": "92ec09f9-88aa-4020-a5d6-7a25c09436fa",
   "metadata": {},
   "outputs": [
    {
     "name": "stdout",
     "output_type": "stream",
     "text": [
      "Number of classes training labels:10\n",
      "Unique values in training labels:[9 0 3 2 7 5 1 6 4 8]\n"
     ]
    }
   ],
   "source": [
    "print(\"Number of classes training labels:{}\".format(len(pd.unique(y_train))))\n",
    "print(\"Unique values in training labels:{}\".format(pd.unique(y_train)))"
   ]
  },
  {
   "cell_type": "code",
   "execution_count": 11,
   "id": "34a95fde-a514-4fc7-be02-62a2b1087df8",
   "metadata": {},
   "outputs": [],
   "source": [
    "# Normalize image pixel values\n",
    "x_train = x_train / 255\n",
    "x_test = x_test / 255"
   ]
  },
  {
   "cell_type": "code",
   "execution_count": 12,
   "id": "272ba56c-c05c-44a7-8135-0cc0ef34a4f2",
   "metadata": {},
   "outputs": [],
   "source": [
    "# Prepare one-hot encoded y-values\n",
    "y_train_cat = keras.utils.to_categorical(y=y_train, num_classes=10)\n",
    "y_test_cat = keras.utils.to_categorical(y=y_test, num_classes=10)"
   ]
  },
  {
   "cell_type": "code",
   "execution_count": 13,
   "id": "6e76aad5-bf76-4f47-8c67-9ec02e566adb",
   "metadata": {},
   "outputs": [],
   "source": [
    "# Reshaping data to batch_size, width, height, color_channel\n",
    "x_train = x_train.reshape(60000, 28, 28, 1)\n",
    "x_test = x_test.reshape(10000, 28, 28, 1)"
   ]
  },
  {
   "cell_type": "code",
   "execution_count": 14,
   "id": "d9858381-a719-448b-a03e-40714438b259",
   "metadata": {},
   "outputs": [],
   "source": [
    "# Prepare GPU\n",
    "def prep_gpu():\n",
    "    phy_gpus = tf.config.list_physical_devices(device_type='GPU')\n",
    "\n",
    "    for gpu in phy_gpus:\n",
    "        tf.config.experimental.set_memory_growth(device=gpu, enable=True)\n",
    "\n",
    "    log_gpus = tf.config.list_logical_devices(device_type='GPU')\n",
    "    phy_cpus = tf.config.list_physical_devices(device_type='CPU')\n",
    "    log_cpus = tf.config.list_logical_devices(device_type='CPU')\n",
    "\n",
    "    print(\"Physical GPUs: {}\\tLogical GPUs: {}\\nPhysical CPUs: {}\\tLogical CPUs: {}\".format(len(phy_gpus),\n",
    "                                                                                             len(log_gpus),\n",
    "                                                                                             len(phy_cpus),\n",
    "                                                                                             len(log_cpus)))"
   ]
  },
  {
   "cell_type": "code",
   "execution_count": 15,
   "id": "23d65e6c-8155-4f8c-a23b-62b0087496ea",
   "metadata": {},
   "outputs": [
    {
     "name": "stdout",
     "output_type": "stream",
     "text": [
      "Physical GPUs: 0\tLogical GPUs: 0\n",
      "Physical CPUs: 1\tLogical CPUs: 1\n"
     ]
    }
   ],
   "source": [
    "os.environ['TF_CPP_MIN_LOG_LEVEL'] = '1'\n",
    "prep_gpu()"
   ]
  },
  {
   "cell_type": "code",
   "execution_count": 17,
   "id": "746cc73f-60fe-41ff-a869-6503014de9f6",
   "metadata": {},
   "outputs": [
    {
     "name": "stdout",
     "output_type": "stream",
     "text": [
      "Model: \"sequential\"\n",
      "_________________________________________________________________\n",
      "Layer (type)                 Output Shape              Param #   \n",
      "=================================================================\n",
      "conv2d (Conv2D)              (None, 26, 26, 32)        320       \n",
      "_________________________________________________________________\n",
      "max_pooling2d (MaxPooling2D) (None, 13, 13, 32)        0         \n",
      "_________________________________________________________________\n",
      "dropout (Dropout)            (None, 13, 13, 32)        0         \n",
      "_________________________________________________________________\n",
      "conv2d_1 (Conv2D)            (None, 11, 11, 32)        9248      \n",
      "_________________________________________________________________\n",
      "max_pooling2d_1 (MaxPooling2 (None, 5, 5, 32)          0         \n",
      "_________________________________________________________________\n",
      "flatten (Flatten)            (None, 800)               0         \n",
      "_________________________________________________________________\n",
      "dense (Dense)                (None, 64)                51264     \n",
      "_________________________________________________________________\n",
      "dropout_1 (Dropout)          (None, 64)                0         \n",
      "_________________________________________________________________\n",
      "dense_1 (Dense)              (None, 10)                650       \n",
      "=================================================================\n",
      "Total params: 61,482\n",
      "Trainable params: 61,482\n",
      "Non-trainable params: 0\n",
      "_________________________________________________________________\n"
     ]
    }
   ],
   "source": [
    "# Build model\n",
    "backend.clear_session()\n",
    "model = Sequential()\n",
    "\n",
    "model.add(Conv2D(filters=32, kernel_size=(3, 3), input_shape=(28, 28, 1), activation='relu'))\n",
    "model.add(MaxPool2D(pool_size=(2, 2)))\n",
    "\n",
    "model.add(Dropout(0.5))\n",
    "\n",
    "model.add(Conv2D(filters=32, kernel_size=(3, 3), activation='relu'))\n",
    "model.add(MaxPool2D(pool_size=(2, 2)))\n",
    "\n",
    "model.add(Flatten())\n",
    "model.add(Dense(64, activation='relu'))\n",
    "model.add(Dropout(0.5))\n",
    "model.add(Dense(10, activation='softmax'))\n",
    "\n",
    "model.summary()\n",
    "\n",
    "# Create early stopping callback\n",
    "early_stop = EarlyStopping(monitor='val_loss', mode='min', patience=2, restore_best_weights=True)"
   ]
  },
  {
   "cell_type": "code",
   "execution_count": 18,
   "id": "feba245c-3e22-4d6a-bb91-af05171f9640",
   "metadata": {
    "scrolled": true,
    "tags": []
   },
   "outputs": [
    {
     "name": "stdout",
     "output_type": "stream",
     "text": [
      "Epoch 1/20\n",
      "1688/1688 [==============================] - 17s 10ms/step - loss: 0.8500 - accuracy: 0.6809 - val_loss: 0.5036 - val_accuracy: 0.8082\n",
      "Epoch 2/20\n",
      "1688/1688 [==============================] - 18s 11ms/step - loss: 0.6113 - accuracy: 0.7706 - val_loss: 0.4208 - val_accuracy: 0.8428\n",
      "Epoch 3/20\n",
      "1688/1688 [==============================] - 18s 11ms/step - loss: 0.5445 - accuracy: 0.7982 - val_loss: 0.3798 - val_accuracy: 0.8628\n",
      "Epoch 4/20\n",
      "1688/1688 [==============================] - 18s 11ms/step - loss: 0.5002 - accuracy: 0.8163 - val_loss: 0.3509 - val_accuracy: 0.8762\n",
      "Epoch 5/20\n",
      "1688/1688 [==============================] - 18s 11ms/step - loss: 0.4739 - accuracy: 0.8279 - val_loss: 0.3299 - val_accuracy: 0.8808\n",
      "Epoch 6/20\n",
      "1688/1688 [==============================] - 19s 11ms/step - loss: 0.4526 - accuracy: 0.8350 - val_loss: 0.3379 - val_accuracy: 0.8770\n",
      "Epoch 7/20\n",
      "1688/1688 [==============================] - 18s 11ms/step - loss: 0.4361 - accuracy: 0.8410 - val_loss: 0.3124 - val_accuracy: 0.8833\n",
      "Epoch 8/20\n",
      "1688/1688 [==============================] - 18s 10ms/step - loss: 0.4223 - accuracy: 0.8446 - val_loss: 0.3001 - val_accuracy: 0.8913\n",
      "Epoch 9/20\n",
      "1688/1688 [==============================] - 17s 10ms/step - loss: 0.4089 - accuracy: 0.8494 - val_loss: 0.2912 - val_accuracy: 0.8920\n",
      "Epoch 10/20\n",
      "1688/1688 [==============================] - 18s 11ms/step - loss: 0.4042 - accuracy: 0.8520 - val_loss: 0.3059 - val_accuracy: 0.8835\n",
      "Epoch 11/20\n",
      "1688/1688 [==============================] - 18s 10ms/step - loss: 0.3911 - accuracy: 0.8577 - val_loss: 0.2856 - val_accuracy: 0.8950\n",
      "Epoch 12/20\n",
      "1688/1688 [==============================] - 17s 10ms/step - loss: 0.3816 - accuracy: 0.8602 - val_loss: 0.2864 - val_accuracy: 0.8953\n",
      "Epoch 13/20\n",
      "1688/1688 [==============================] - 18s 10ms/step - loss: 0.3713 - accuracy: 0.8651 - val_loss: 0.2805 - val_accuracy: 0.8950\n",
      "Epoch 14/20\n",
      "1688/1688 [==============================] - 17s 10ms/step - loss: 0.3638 - accuracy: 0.8673 - val_loss: 0.2790 - val_accuracy: 0.8990\n",
      "Epoch 15/20\n",
      "1688/1688 [==============================] - 17s 10ms/step - loss: 0.3592 - accuracy: 0.8677 - val_loss: 0.2698 - val_accuracy: 0.9005\n",
      "Epoch 16/20\n",
      "1688/1688 [==============================] - 17s 10ms/step - loss: 0.3531 - accuracy: 0.8703 - val_loss: 0.2867 - val_accuracy: 0.8897\n",
      "Epoch 17/20\n",
      "1688/1688 [==============================] - 30s 17ms/step - loss: 0.3517 - accuracy: 0.8731 - val_loss: 0.2666 - val_accuracy: 0.9027\n",
      "Epoch 18/20\n",
      "1688/1688 [==============================] - 43s 26ms/step - loss: 0.3452 - accuracy: 0.8728 - val_loss: 0.2697 - val_accuracy: 0.8972\n",
      "Epoch 19/20\n",
      "1688/1688 [==============================] - 44s 26ms/step - loss: 0.3457 - accuracy: 0.8736 - val_loss: 0.2625 - val_accuracy: 0.9040\n",
      "Epoch 20/20\n",
      "1688/1688 [==============================] - 44s 26ms/step - loss: 0.3372 - accuracy: 0.8771 - val_loss: 0.2616 - val_accuracy: 0.9043\n"
     ]
    },
    {
     "data": {
      "text/plain": [
       "<tensorflow.python.keras.callbacks.History at 0x198ffe93748>"
      ]
     },
     "execution_count": 18,
     "metadata": {},
     "output_type": "execute_result"
    }
   ],
   "source": [
    "model.compile(loss='categorical_crossentropy', optimizer='adam', metrics=['accuracy'])\n",
    "model.fit(x=x_train, y=y_train_cat, epochs=20, validation_split=0.1, callbacks=[early_stop])"
   ]
  },
  {
   "cell_type": "code",
   "execution_count": 19,
   "id": "2294ef4f-5c96-4c1f-ab56-85e69bd8d482",
   "metadata": {},
   "outputs": [
    {
     "data": {
      "text/html": [
       "<div>\n",
       "<style scoped>\n",
       "    .dataframe tbody tr th:only-of-type {\n",
       "        vertical-align: middle;\n",
       "    }\n",
       "\n",
       "    .dataframe tbody tr th {\n",
       "        vertical-align: top;\n",
       "    }\n",
       "\n",
       "    .dataframe thead th {\n",
       "        text-align: right;\n",
       "    }\n",
       "</style>\n",
       "<table border=\"1\" class=\"dataframe\">\n",
       "  <thead>\n",
       "    <tr style=\"text-align: right;\">\n",
       "      <th></th>\n",
       "      <th>loss</th>\n",
       "      <th>accuracy</th>\n",
       "      <th>val_loss</th>\n",
       "      <th>val_accuracy</th>\n",
       "    </tr>\n",
       "  </thead>\n",
       "  <tbody>\n",
       "    <tr>\n",
       "      <th>0</th>\n",
       "      <td>0.849989</td>\n",
       "      <td>0.680870</td>\n",
       "      <td>0.503585</td>\n",
       "      <td>0.808167</td>\n",
       "    </tr>\n",
       "    <tr>\n",
       "      <th>1</th>\n",
       "      <td>0.611252</td>\n",
       "      <td>0.770574</td>\n",
       "      <td>0.420839</td>\n",
       "      <td>0.842833</td>\n",
       "    </tr>\n",
       "    <tr>\n",
       "      <th>2</th>\n",
       "      <td>0.544544</td>\n",
       "      <td>0.798185</td>\n",
       "      <td>0.379827</td>\n",
       "      <td>0.862833</td>\n",
       "    </tr>\n",
       "    <tr>\n",
       "      <th>3</th>\n",
       "      <td>0.500190</td>\n",
       "      <td>0.816315</td>\n",
       "      <td>0.350904</td>\n",
       "      <td>0.876167</td>\n",
       "    </tr>\n",
       "    <tr>\n",
       "      <th>4</th>\n",
       "      <td>0.473939</td>\n",
       "      <td>0.827870</td>\n",
       "      <td>0.329886</td>\n",
       "      <td>0.880833</td>\n",
       "    </tr>\n",
       "    <tr>\n",
       "      <th>5</th>\n",
       "      <td>0.452584</td>\n",
       "      <td>0.834963</td>\n",
       "      <td>0.337924</td>\n",
       "      <td>0.877000</td>\n",
       "    </tr>\n",
       "    <tr>\n",
       "      <th>6</th>\n",
       "      <td>0.436139</td>\n",
       "      <td>0.841000</td>\n",
       "      <td>0.312373</td>\n",
       "      <td>0.883333</td>\n",
       "    </tr>\n",
       "    <tr>\n",
       "      <th>7</th>\n",
       "      <td>0.422306</td>\n",
       "      <td>0.844593</td>\n",
       "      <td>0.300129</td>\n",
       "      <td>0.891333</td>\n",
       "    </tr>\n",
       "    <tr>\n",
       "      <th>8</th>\n",
       "      <td>0.408927</td>\n",
       "      <td>0.849370</td>\n",
       "      <td>0.291186</td>\n",
       "      <td>0.892000</td>\n",
       "    </tr>\n",
       "    <tr>\n",
       "      <th>9</th>\n",
       "      <td>0.404213</td>\n",
       "      <td>0.852019</td>\n",
       "      <td>0.305925</td>\n",
       "      <td>0.883500</td>\n",
       "    </tr>\n",
       "    <tr>\n",
       "      <th>10</th>\n",
       "      <td>0.391107</td>\n",
       "      <td>0.857722</td>\n",
       "      <td>0.285591</td>\n",
       "      <td>0.895000</td>\n",
       "    </tr>\n",
       "    <tr>\n",
       "      <th>11</th>\n",
       "      <td>0.381572</td>\n",
       "      <td>0.860185</td>\n",
       "      <td>0.286421</td>\n",
       "      <td>0.895333</td>\n",
       "    </tr>\n",
       "    <tr>\n",
       "      <th>12</th>\n",
       "      <td>0.371259</td>\n",
       "      <td>0.865093</td>\n",
       "      <td>0.280508</td>\n",
       "      <td>0.895000</td>\n",
       "    </tr>\n",
       "    <tr>\n",
       "      <th>13</th>\n",
       "      <td>0.363785</td>\n",
       "      <td>0.867315</td>\n",
       "      <td>0.278955</td>\n",
       "      <td>0.899000</td>\n",
       "    </tr>\n",
       "    <tr>\n",
       "      <th>14</th>\n",
       "      <td>0.359156</td>\n",
       "      <td>0.867667</td>\n",
       "      <td>0.269763</td>\n",
       "      <td>0.900500</td>\n",
       "    </tr>\n",
       "    <tr>\n",
       "      <th>15</th>\n",
       "      <td>0.353138</td>\n",
       "      <td>0.870296</td>\n",
       "      <td>0.286724</td>\n",
       "      <td>0.889667</td>\n",
       "    </tr>\n",
       "    <tr>\n",
       "      <th>16</th>\n",
       "      <td>0.351733</td>\n",
       "      <td>0.873148</td>\n",
       "      <td>0.266606</td>\n",
       "      <td>0.902667</td>\n",
       "    </tr>\n",
       "    <tr>\n",
       "      <th>17</th>\n",
       "      <td>0.345231</td>\n",
       "      <td>0.872796</td>\n",
       "      <td>0.269659</td>\n",
       "      <td>0.897167</td>\n",
       "    </tr>\n",
       "    <tr>\n",
       "      <th>18</th>\n",
       "      <td>0.345713</td>\n",
       "      <td>0.873574</td>\n",
       "      <td>0.262497</td>\n",
       "      <td>0.904000</td>\n",
       "    </tr>\n",
       "    <tr>\n",
       "      <th>19</th>\n",
       "      <td>0.337208</td>\n",
       "      <td>0.877056</td>\n",
       "      <td>0.261636</td>\n",
       "      <td>0.904333</td>\n",
       "    </tr>\n",
       "  </tbody>\n",
       "</table>\n",
       "</div>"
      ],
      "text/plain": [
       "        loss  accuracy  val_loss  val_accuracy\n",
       "0   0.849989  0.680870  0.503585      0.808167\n",
       "1   0.611252  0.770574  0.420839      0.842833\n",
       "2   0.544544  0.798185  0.379827      0.862833\n",
       "3   0.500190  0.816315  0.350904      0.876167\n",
       "4   0.473939  0.827870  0.329886      0.880833\n",
       "5   0.452584  0.834963  0.337924      0.877000\n",
       "6   0.436139  0.841000  0.312373      0.883333\n",
       "7   0.422306  0.844593  0.300129      0.891333\n",
       "8   0.408927  0.849370  0.291186      0.892000\n",
       "9   0.404213  0.852019  0.305925      0.883500\n",
       "10  0.391107  0.857722  0.285591      0.895000\n",
       "11  0.381572  0.860185  0.286421      0.895333\n",
       "12  0.371259  0.865093  0.280508      0.895000\n",
       "13  0.363785  0.867315  0.278955      0.899000\n",
       "14  0.359156  0.867667  0.269763      0.900500\n",
       "15  0.353138  0.870296  0.286724      0.889667\n",
       "16  0.351733  0.873148  0.266606      0.902667\n",
       "17  0.345231  0.872796  0.269659      0.897167\n",
       "18  0.345713  0.873574  0.262497      0.904000\n",
       "19  0.337208  0.877056  0.261636      0.904333"
      ]
     },
     "execution_count": 19,
     "metadata": {},
     "output_type": "execute_result"
    }
   ],
   "source": [
    "# Model evaluation\n",
    "metrics = pd.DataFrame(model.history.history)\n",
    "metrics"
   ]
  },
  {
   "cell_type": "code",
   "execution_count": 20,
   "id": "b6d38773-8a41-417b-b21d-8bd860e6fb9c",
   "metadata": {},
   "outputs": [
    {
     "data": {
      "text/plain": [
       "<AxesSubplot:>"
      ]
     },
     "execution_count": 20,
     "metadata": {},
     "output_type": "execute_result"
    },
    {
     "data": {
      "image/png": "[encoded data removed]",
      "text/plain": [
       "<Figure size 432x288 with 1 Axes>"
      ]
     },
     "metadata": {
      "needs_background": "light"
     },
     "output_type": "display_data"
    }
   ],
   "source": [
    "# Evaluate graphically\n",
    "metrics = pd.DataFrame(model.history.history)\n",
    "sns.lineplot(data=metrics[['accuracy', 'val_accuracy']])"
   ]
  },
  {
   "cell_type": "code",
   "execution_count": 21,
   "id": "a8ba4f8b-4151-484a-9129-32cb47681517",
   "metadata": {},
   "outputs": [
    {
     "name": "stdout",
     "output_type": "stream",
     "text": [
      "              precision    recall  f1-score   support\n",
      "\n",
      "           0       0.84      0.86      0.85      1000\n",
      "           1       0.99      0.97      0.98      1000\n",
      "           2       0.84      0.85      0.84      1000\n",
      "           3       0.89      0.92      0.90      1000\n",
      "           4       0.81      0.87      0.84      1000\n",
      "           5       0.99      0.98      0.98      1000\n",
      "           6       0.74      0.64      0.69      1000\n",
      "           7       0.94      0.98      0.96      1000\n",
      "           8       0.99      0.97      0.98      1000\n",
      "           9       0.98      0.95      0.96      1000\n",
      "\n",
      "    accuracy                           0.90     10000\n",
      "   macro avg       0.90      0.90      0.90     10000\n",
      "weighted avg       0.90      0.90      0.90     10000\n",
      "\n",
      "\n",
      "\n",
      "[[865   0  22  24   5   1  80   0   3   0]\n",
      " [  0 974   0  20   1   0   3   0   2   0]\n",
      " [ 18   0 851  11  63   0  57   0   0   0]\n",
      " [ 12   3   8 920  23   0  34   0   0   0]\n",
      " [  1   1  49  32 870   0  47   0   0   0]\n",
      " [  0   0   0   0   0 980   0  14   0   6]\n",
      " [132   1  82  27 108   0 642   0   8   0]\n",
      " [  0   0   0   0   0   7   0 978   0  15]\n",
      " [  2   1   5   4   1   2  10   4 970   1]\n",
      " [  0   0   1   0   0   4   0  45   0 950]]\n"
     ]
    }
   ],
   "source": [
    "# Compute predicted classes and model performance metrics\n",
    "y_pred = np.argmax(model.predict(x_test), axis=-1)\n",
    "\n",
    "print(classification_report(y_true=y_test, y_pred=y_pred))\n",
    "print(\"\\n\")\n",
    "print(confusion_matrix(y_true=y_test, y_pred=y_pred))"
   ]
  },
  {
   "cell_type": "code",
   "execution_count": null,
   "id": "34f6b774-99f9-4a20-bd42-9343b5754249",
   "metadata": {},
   "outputs": [],
   "source": []
  }
 ],
 "metadata": {
  "kernelspec": {
   "display_name": "Python 3 (ipykernel)",
   "language": "python",
   "name": "python3"
  },
  "language_info": {
   "codemirror_mode": {
    "name": "ipython",
    "version": 3
   },
   "file_extension": ".py",
   "mimetype": "text/x-python",
   "name": "python",
   "nbconvert_exporter": "python",
   "pygments_lexer": "ipython3",
   "version": "3.7.4"
  }
 },
 "nbformat": 4,
 "nbformat_minor": 5
}
