{
 "cells": [
  {
   "cell_type": "code",
   "execution_count": 22,
   "id": "cfd60c17-7e45-47bf-8d63-cae5207feadd",
   "metadata": {},
   "outputs": [],
   "source": [
    "import os\n",
    "import tensorflow as tf\n",
    "from tensorflow.keras.datasets import fashion_mnist\n",
    "import matplotlib.pyplot as plt\n",
    "from tensorflow import keras\n",
    "from tensorflow.keras.models import Sequential\n",
    "from tensorflow.keras.layers import Dense, Conv2D, MaxPool2D, Flatten, Dropout\n",
    "from tensorflow.keras.callbacks import EarlyStopping\n",
    "from tensorflow.keras import backend\n",
    "import pandas as pd\n",
    "import numpy as np\n",
    "import seaborn as sns\n",
    "from sklearn.metrics import confusion_matrix\n",
    "from sklearn.metrics import classification_report"
   ]
  },
  {
   "cell_type": "code",
   "execution_count": 2,
   "id": "8bbc1ff1-e154-4773-b964-5db6f42ba0bd",
   "metadata": {},
   "outputs": [
    {
     "name": "stdout",
     "output_type": "stream",
     "text": [
      "Downloading data from https://storage.googleapis.com/tensorflow/tf-keras-datasets/train-labels-idx1-ubyte.gz\n",
      "32768/29515 [=================================] - 0s 1us/step\n",
      "Downloading data from https://storage.googleapis.com/tensorflow/tf-keras-datasets/train-images-idx3-ubyte.gz\n",
      "26427392/26421880 [==============================] - 4s 0us/step\n",
      "Downloading data from https://storage.googleapis.com/tensorflow/tf-keras-datasets/t10k-labels-idx1-ubyte.gz\n",
      "8192/5148 [===============================================] - 0s 0s/step\n",
      "Downloading data from https://storage.googleapis.com/tensorflow/tf-keras-datasets/t10k-images-idx3-ubyte.gz\n",
      "4423680/4422102 [==============================] - 1s 0us/step\n"
     ]
    }
   ],
   "source": [
    "# Load data\n",
    "(x_train, y_train), (x_test, y_test) = fashion_mnist.load_data()"
   ]
  },
  {
   "cell_type": "code",
   "execution_count": 3,
   "id": "64a6d1b6-29dd-4371-b623-b3ef6656447e",
   "metadata": {},
   "outputs": [
    {
     "data": {
      "text/plain": [
       "(28, 28)"
      ]
     },
     "execution_count": 3,
     "metadata": {},
     "output_type": "execute_result"
    }
   ],
   "source": [
    "# Check dimensions of image\n",
    "x_train[0].shape"
   ]
  },
  {
   "cell_type": "code",
   "execution_count": 4,
   "id": "b53e639c-c105-4446-8483-0a11b6725740",
   "metadata": {},
   "outputs": [
    {
     "data": {
      "text/plain": [
       "<matplotlib.image.AxesImage at 0x2b3dd234b48>"
      ]
     },
     "execution_count": 4,
     "metadata": {},
     "output_type": "execute_result"
    },
    {
     "data": {
      "image/png": "[encoded data removed]",
      "text/plain": [
       "<Figure size 432x288 with 1 Axes>"
      ]
     },
     "metadata": {
      "needs_background": "light"
     },
     "output_type": "display_data"
    }
   ],
   "source": [
    "# View a sample image\n",
    "plt.imshow(x_train[10])"
   ]
  },
  {
   "cell_type": "code",
   "execution_count": 5,
   "id": "825b240a-79b2-4a93-a5af-ba572a7e05f0",
   "metadata": {},
   "outputs": [],
   "source": [
    "##################################################\n",
    "# Explore training data and labels\n",
    "##################################################"
   ]
  },
  {
   "cell_type": "code",
   "execution_count": 6,
   "id": "2e555217-4097-41b6-a5b9-b2a4b192ed17",
   "metadata": {
    "scrolled": true,
    "tags": []
   },
   "outputs": [
    {
     "data": {
      "text/plain": [
       "array([[[0, 0, 0, ..., 0, 0, 0],\n",
       "        [0, 0, 0, ..., 0, 0, 0],\n",
       "        [0, 0, 0, ..., 0, 0, 0],\n",
       "        ...,\n",
       "        [0, 0, 0, ..., 0, 0, 0],\n",
       "        [0, 0, 0, ..., 0, 0, 0],\n",
       "        [0, 0, 0, ..., 0, 0, 0]],\n",
       "\n",
       "       [[0, 0, 0, ..., 0, 0, 0],\n",
       "        [0, 0, 0, ..., 0, 0, 0],\n",
       "        [0, 0, 0, ..., 0, 0, 0],\n",
       "        ...,\n",
       "        [0, 0, 0, ..., 0, 0, 0],\n",
       "        [0, 0, 0, ..., 0, 0, 0],\n",
       "        [0, 0, 0, ..., 0, 0, 0]],\n",
       "\n",
       "       [[0, 0, 0, ..., 0, 0, 0],\n",
       "        [0, 0, 0, ..., 0, 0, 0],\n",
       "        [0, 0, 0, ..., 0, 0, 0],\n",
       "        ...,\n",
       "        [0, 0, 0, ..., 0, 0, 0],\n",
       "        [0, 0, 0, ..., 0, 0, 0],\n",
       "        [0, 0, 0, ..., 0, 0, 0]],\n",
       "\n",
       "       ...,\n",
       "\n",
       "       [[0, 0, 0, ..., 0, 0, 0],\n",
       "        [0, 0, 0, ..., 0, 0, 0],\n",
       "        [0, 0, 0, ..., 0, 0, 0],\n",
       "        ...,\n",
       "        [0, 0, 0, ..., 0, 0, 0],\n",
       "        [0, 0, 0, ..., 0, 0, 0],\n",
       "        [0, 0, 0, ..., 0, 0, 0]],\n",
       "\n",
       "       [[0, 0, 0, ..., 0, 0, 0],\n",
       "        [0, 0, 0, ..., 0, 0, 0],\n",
       "        [0, 0, 0, ..., 0, 0, 0],\n",
       "        ...,\n",
       "        [0, 0, 0, ..., 0, 0, 0],\n",
       "        [0, 0, 0, ..., 0, 0, 0],\n",
       "        [0, 0, 0, ..., 0, 0, 0]],\n",
       "\n",
       "       [[0, 0, 0, ..., 0, 0, 0],\n",
       "        [0, 0, 0, ..., 0, 0, 0],\n",
       "        [0, 0, 0, ..., 0, 0, 0],\n",
       "        ...,\n",
       "        [0, 0, 0, ..., 0, 0, 0],\n",
       "        [0, 0, 0, ..., 0, 0, 0],\n",
       "        [0, 0, 0, ..., 0, 0, 0]]], dtype=uint8)"
      ]
     },
     "execution_count": 6,
     "metadata": {},
     "output_type": "execute_result"
    }
   ],
   "source": [
    "x_train"
   ]
  },
  {
   "cell_type": "code",
   "execution_count": 7,
   "id": "0e9e6bb6-db49-4174-b215-8105e7a4a771",
   "metadata": {},
   "outputs": [
    {
     "data": {
      "text/plain": [
       "255"
      ]
     },
     "execution_count": 7,
     "metadata": {},
     "output_type": "execute_result"
    }
   ],
   "source": [
    "x_train[10].max()"
   ]
  },
  {
   "cell_type": "code",
   "execution_count": 8,
   "id": "da912ef1-d89e-4887-82ad-89a51d171c28",
   "metadata": {},
   "outputs": [
    {
     "data": {
      "text/plain": [
       "array([9, 0, 0, ..., 3, 0, 5], dtype=uint8)"
      ]
     },
     "execution_count": 8,
     "metadata": {},
     "output_type": "execute_result"
    }
   ],
   "source": [
    "y_train"
   ]
  },
  {
   "cell_type": "code",
   "execution_count": 9,
   "id": "2ac4e050-9507-475e-9dde-c40af00a680e",
   "metadata": {},
   "outputs": [
    {
     "name": "stdout",
     "output_type": "stream",
     "text": [
      "Train data shape:(60000, 28, 28)\n",
      "Test data shape:(10000, 28, 28)\n"
     ]
    }
   ],
   "source": [
    "print(\"Train data shape:{}\".format(x_train.shape))\n",
    "print(\"Test data shape:{}\".format(x_test.shape))"
   ]
  },
  {
   "cell_type": "code",
   "execution_count": 10,
   "id": "92ec09f9-88aa-4020-a5d6-7a25c09436fa",
   "metadata": {},
   "outputs": [
    {
     "name": "stdout",
     "output_type": "stream",
     "text": [
      "Number of classes training labels:10\n",
      "Unique values in training labels:[9 0 3 2 7 5 1 6 4 8]\n"
     ]
    }
   ],
   "source": [
    "print(\"Number of classes training labels:{}\".format(len(pd.unique(y_train))))\n",
    "print(\"Unique values in training labels:{}\".format(pd.unique(y_train)))"
   ]
  },
  {
   "cell_type": "code",
   "execution_count": 11,
   "id": "34a95fde-a514-4fc7-be02-62a2b1087df8",
   "metadata": {},
   "outputs": [],
   "source": [
    "# Normalize image pixel values\n",
    "x_train = x_train / 255\n",
    "x_test = x_test / 255"
   ]
  },
  {
   "cell_type": "code",
   "execution_count": 12,
   "id": "272ba56c-c05c-44a7-8135-0cc0ef34a4f2",
   "metadata": {},
   "outputs": [],
   "source": [
    "# Prepare one-hot encoded y-values\n",
    "y_train_cat = keras.utils.to_categorical(y=y_train, num_classes=10)\n",
    "y_test_cat = keras.utils.to_categorical(y=y_test, num_classes=10)"
   ]
  },
  {
   "cell_type": "code",
   "execution_count": 13,
   "id": "6e76aad5-bf76-4f47-8c67-9ec02e566adb",
   "metadata": {},
   "outputs": [],
   "source": [
    "# Reshaping data to batch_size, width, height, color_channel\n",
    "x_train = x_train.reshape(60000, 28, 28, 1)\n",
    "x_test = x_test.reshape(10000, 28, 28, 1)"
   ]
  },
  {
   "cell_type": "code",
   "execution_count": 14,
   "id": "d9858381-a719-448b-a03e-40714438b259",
   "metadata": {},
   "outputs": [],
   "source": [
    "# Prepare GPU\n",
    "def prep_gpu():\n",
    "    phy_gpus = tf.config.list_physical_devices(device_type='GPU')\n",
    "\n",
    "    for gpu in phy_gpus:\n",
    "        tf.config.experimental.set_memory_growth(device=gpu, enable=True)\n",
    "\n",
    "    log_gpus = tf.config.list_logical_devices(device_type='GPU')\n",
    "    phy_cpus = tf.config.list_physical_devices(device_type='CPU')\n",
    "    log_cpus = tf.config.list_logical_devices(device_type='CPU')\n",
    "\n",
    "    print(\"Physical GPUs: {}\\tLogical GPUs: {}\\nPhysical CPUs: {}\\tLogical CPUs: {}\".format(len(phy_gpus),\n",
    "                                                                                             len(log_gpus),\n",
    "                                                                                             len(phy_cpus),\n",
    "                                                                                             len(log_cpus)))"
   ]
  },
  {
   "cell_type": "code",
   "execution_count": 15,
   "id": "23d65e6c-8155-4f8c-a23b-62b0087496ea",
   "metadata": {},
   "outputs": [
    {
     "name": "stdout",
     "output_type": "stream",
     "text": [
      "Physical GPUs: 0\tLogical GPUs: 0\n",
      "Physical CPUs: 1\tLogical CPUs: 1\n"
     ]
    }
   ],
   "source": [
    "os.environ['TF_CPP_MIN_LOG_LEVEL'] = '1'\n",
    "prep_gpu()"
   ]
  },
  {
   "cell_type": "code",
   "execution_count": 17,
   "id": "746cc73f-60fe-41ff-a869-6503014de9f6",
   "metadata": {},
   "outputs": [
    {
     "name": "stdout",
     "output_type": "stream",
     "text": [
      "Model: \"sequential\"\n",
      "_________________________________________________________________\n",
      "Layer (type)                 Output Shape              Param #   \n",
      "=================================================================\n",
      "conv2d (Conv2D)              (None, 25, 25, 32)        544       \n",
      "_________________________________________________________________\n",
      "max_pooling2d (MaxPooling2D) (None, 12, 12, 32)        0         \n",
      "_________________________________________________________________\n",
      "flatten (Flatten)            (None, 4608)              0         \n",
      "_________________________________________________________________\n",
      "dense (Dense)                (None, 128)               589952    \n",
      "_________________________________________________________________\n",
      "dense_1 (Dense)              (None, 10)                1290      \n",
      "=================================================================\n",
      "Total params: 591,786\n",
      "Trainable params: 591,786\n",
      "Non-trainable params: 0\n",
      "_________________________________________________________________\n"
     ]
    }
   ],
   "source": [
    "# Build model\n",
    "backend.clear_session()\n",
    "model = Sequential()\n",
    "\n",
    "model.add(Conv2D(filters=32, kernel_size=(4, 4), input_shape=(28, 28, 1), activation='relu'))\n",
    "model.add(MaxPool2D(pool_size=(2, 2)))\n",
    "model.add(Flatten())\n",
    "model.add(Dense(128, activation='relu'))\n",
    "model.add(Dense(10, activation='softmax'))\n",
    "\n",
    "model.summary()\n",
    "\n",
    "# Create early stopping callback\n",
    "early_stop = EarlyStopping(monitor='val_loss', mode='min', patience=2, restore_best_weights=True)"
   ]
  },
  {
   "cell_type": "code",
   "execution_count": 18,
   "id": "feba245c-3e22-4d6a-bb91-af05171f9640",
   "metadata": {},
   "outputs": [
    {
     "name": "stdout",
     "output_type": "stream",
     "text": [
      "Epoch 1/10\n",
      "1688/1688 [==============================] - 33s 20ms/step - loss: 0.4199 - accuracy: 0.8500 - val_loss: 0.3136 - val_accuracy: 0.8828\n",
      "Epoch 2/10\n",
      "1688/1688 [==============================] - 36s 21ms/step - loss: 0.2886 - accuracy: 0.8959 - val_loss: 0.2810 - val_accuracy: 0.8987\n",
      "Epoch 3/10\n",
      "1688/1688 [==============================] - 31s 18ms/step - loss: 0.2403 - accuracy: 0.9124 - val_loss: 0.2689 - val_accuracy: 0.9005\n",
      "Epoch 4/10\n",
      "1688/1688 [==============================] - 35s 21ms/step - loss: 0.2068 - accuracy: 0.9226 - val_loss: 0.2566 - val_accuracy: 0.9102\n",
      "Epoch 5/10\n",
      "1688/1688 [==============================] - 35s 21ms/step - loss: 0.1771 - accuracy: 0.9342 - val_loss: 0.2516 - val_accuracy: 0.9118\n",
      "Epoch 6/10\n",
      "1688/1688 [==============================] - 36s 21ms/step - loss: 0.1549 - accuracy: 0.9412 - val_loss: 0.2683 - val_accuracy: 0.9087\n",
      "Epoch 7/10\n",
      "1688/1688 [==============================] - 40s 24ms/step - loss: 0.1306 - accuracy: 0.9530 - val_loss: 0.2767 - val_accuracy: 0.9123\n"
     ]
    },
    {
     "data": {
      "text/plain": [
       "<tensorflow.python.keras.callbacks.History at 0x2b3f947d648>"
      ]
     },
     "execution_count": 18,
     "metadata": {},
     "output_type": "execute_result"
    }
   ],
   "source": [
    "model.compile(loss='categorical_crossentropy', optimizer='adam', metrics=['accuracy'])\n",
    "model.fit(x=x_train, y=y_train_cat, epochs=10, validation_split=0.1, callbacks=[early_stop], verbose=1)"
   ]
  },
  {
   "cell_type": "code",
   "execution_count": 20,
   "id": "2294ef4f-5c96-4c1f-ab56-85e69bd8d482",
   "metadata": {},
   "outputs": [
    {
     "data": {
      "text/html": [
       "<div>\n",
       "<style scoped>\n",
       "    .dataframe tbody tr th:only-of-type {\n",
       "        vertical-align: middle;\n",
       "    }\n",
       "\n",
       "    .dataframe tbody tr th {\n",
       "        vertical-align: top;\n",
       "    }\n",
       "\n",
       "    .dataframe thead th {\n",
       "        text-align: right;\n",
       "    }\n",
       "</style>\n",
       "<table border=\"1\" class=\"dataframe\">\n",
       "  <thead>\n",
       "    <tr style=\"text-align: right;\">\n",
       "      <th></th>\n",
       "      <th>loss</th>\n",
       "      <th>accuracy</th>\n",
       "      <th>val_loss</th>\n",
       "      <th>val_accuracy</th>\n",
       "    </tr>\n",
       "  </thead>\n",
       "  <tbody>\n",
       "    <tr>\n",
       "      <th>0</th>\n",
       "      <td>0.419918</td>\n",
       "      <td>0.849981</td>\n",
       "      <td>0.313609</td>\n",
       "      <td>0.882833</td>\n",
       "    </tr>\n",
       "    <tr>\n",
       "      <th>1</th>\n",
       "      <td>0.288590</td>\n",
       "      <td>0.895870</td>\n",
       "      <td>0.280986</td>\n",
       "      <td>0.898667</td>\n",
       "    </tr>\n",
       "    <tr>\n",
       "      <th>2</th>\n",
       "      <td>0.240292</td>\n",
       "      <td>0.912352</td>\n",
       "      <td>0.268876</td>\n",
       "      <td>0.900500</td>\n",
       "    </tr>\n",
       "    <tr>\n",
       "      <th>3</th>\n",
       "      <td>0.206758</td>\n",
       "      <td>0.922556</td>\n",
       "      <td>0.256591</td>\n",
       "      <td>0.910167</td>\n",
       "    </tr>\n",
       "    <tr>\n",
       "      <th>4</th>\n",
       "      <td>0.177141</td>\n",
       "      <td>0.934167</td>\n",
       "      <td>0.251568</td>\n",
       "      <td>0.911833</td>\n",
       "    </tr>\n",
       "    <tr>\n",
       "      <th>5</th>\n",
       "      <td>0.154868</td>\n",
       "      <td>0.941185</td>\n",
       "      <td>0.268264</td>\n",
       "      <td>0.908667</td>\n",
       "    </tr>\n",
       "    <tr>\n",
       "      <th>6</th>\n",
       "      <td>0.130579</td>\n",
       "      <td>0.953019</td>\n",
       "      <td>0.276700</td>\n",
       "      <td>0.912333</td>\n",
       "    </tr>\n",
       "  </tbody>\n",
       "</table>\n",
       "</div>"
      ],
      "text/plain": [
       "       loss  accuracy  val_loss  val_accuracy\n",
       "0  0.419918  0.849981  0.313609      0.882833\n",
       "1  0.288590  0.895870  0.280986      0.898667\n",
       "2  0.240292  0.912352  0.268876      0.900500\n",
       "3  0.206758  0.922556  0.256591      0.910167\n",
       "4  0.177141  0.934167  0.251568      0.911833\n",
       "5  0.154868  0.941185  0.268264      0.908667\n",
       "6  0.130579  0.953019  0.276700      0.912333"
      ]
     },
     "execution_count": 20,
     "metadata": {},
     "output_type": "execute_result"
    }
   ],
   "source": [
    "# Model evaluation\n",
    "metrics = pd.DataFrame(model.history.history)\n",
    "metrics"
   ]
  },
  {
   "cell_type": "code",
   "execution_count": 23,
   "id": "b6d38773-8a41-417b-b21d-8bd860e6fb9c",
   "metadata": {},
   "outputs": [
    {
     "data": {
      "text/plain": [
       "<matplotlib.axes._subplots.AxesSubplot at 0x2b3f993cd88>"
      ]
     },
     "execution_count": 23,
     "metadata": {},
     "output_type": "execute_result"
    },
    {
     "data": {
      "image/png": "[encoded data removed]",
      "text/plain": [
       "<Figure size 432x288 with 1 Axes>"
      ]
     },
     "metadata": {
      "needs_background": "light"
     },
     "output_type": "display_data"
    }
   ],
   "source": [
    "# Evaluate graphically\n",
    "metrics = pd.DataFrame(model.history.history)\n",
    "sns.lineplot(data=metrics[['accuracy', 'val_accuracy']])"
   ]
  },
  {
   "cell_type": "code",
   "execution_count": 26,
   "id": "26397dfa-4279-42fd-aee2-f272dffe2cb2",
   "metadata": {},
   "outputs": [
    {
     "data": {
      "text/plain": [
       "array([9, 2, 1, ..., 8, 1, 5], dtype=uint8)"
      ]
     },
     "execution_count": 26,
     "metadata": {},
     "output_type": "execute_result"
    }
   ],
   "source": [
    "y_test"
   ]
  },
  {
   "cell_type": "code",
   "execution_count": 27,
   "id": "a8ba4f8b-4151-484a-9129-32cb47681517",
   "metadata": {},
   "outputs": [
    {
     "name": "stdout",
     "output_type": "stream",
     "text": [
      "              precision    recall  f1-score   support\n",
      "\n",
      "           0       0.85      0.87      0.86      1000\n",
      "           1       0.98      0.98      0.98      1000\n",
      "           2       0.84      0.85      0.85      1000\n",
      "           3       0.92      0.90      0.91      1000\n",
      "           4       0.86      0.83      0.84      1000\n",
      "           5       0.97      0.99      0.98      1000\n",
      "           6       0.75      0.73      0.74      1000\n",
      "           7       0.95      0.97      0.96      1000\n",
      "           8       0.97      0.99      0.98      1000\n",
      "           9       0.98      0.95      0.96      1000\n",
      "\n",
      "    accuracy                           0.91     10000\n",
      "   macro avg       0.91      0.91      0.91     10000\n",
      "weighted avg       0.91      0.91      0.91     10000\n",
      "\n",
      "\n",
      "\n",
      "[[870   2  11  11   4   2  93   1   6   0]\n",
      " [  2 985   0   8   2   0   1   0   2   0]\n",
      " [ 19   1 851   5  53   0  70   0   1   0]\n",
      " [ 18  10  16 904  21   1  26   0   4   0]\n",
      " [  1   3  77  32 828   0  58   0   1   0]\n",
      " [  0   0   0   0   0 994   0   4   0   2]\n",
      " [113   2  58  23  54   0 734   0  16   0]\n",
      " [  0   0   0   0   0  16   0 971   0  13]\n",
      " [  3   1   0   4   1   2   2   1 986   0]\n",
      " [  1   0   0   0   0  12   0  41   0 946]]\n"
     ]
    }
   ],
   "source": [
    "# Compute predicted classes and model performance metrics\n",
    "y_pred = np.argmax(model.predict(x_test), axis=-1)\n",
    "\n",
    "print(classification_report(y_true=y_test, y_pred=y_pred))\n",
    "print(\"\\n\")\n",
    "print(confusion_matrix(y_true=y_test, y_pred=y_pred))"
   ]
  },
  {
   "cell_type": "code",
   "execution_count": null,
   "id": "34f6b774-99f9-4a20-bd42-9343b5754249",
   "metadata": {},
   "outputs": [],
   "source": []
  }
 ],
 "metadata": {
  "kernelspec": {
   "display_name": "Python 3",
   "language": "python",
   "name": "python3"
  },
  "language_info": {
   "codemirror_mode": {
    "name": "ipython",
    "version": 3
   },
   "file_extension": ".py",
   "mimetype": "text/x-python",
   "name": "python",
   "nbconvert_exporter": "python",
   "pygments_lexer": "ipython3",
   "version": "3.7.4"
  }
 },
 "nbformat": 4,
 "nbformat_minor": 5
}
