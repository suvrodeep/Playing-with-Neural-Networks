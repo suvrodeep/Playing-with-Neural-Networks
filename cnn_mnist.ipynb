{
 "cells": [
  {
   "cell_type": "code",
   "execution_count": 10,
   "metadata": {},
   "outputs": [],
   "source": [
    "import os\n",
    "import tensorflow as tf\n",
    "from tensorflow.keras.datasets import mnist\n",
    "import matplotlib.pyplot as plt\n",
    "from tensorflow.keras.utils import to_categorical\n",
    "from tensorflow.keras.models import Sequential\n",
    "from tensorflow.keras.layers import Dense, Conv2D, MaxPool2D, Flatten\n",
    "from tensorflow.keras.callbacks import EarlyStopping\n",
    "from tensorflow.keras import backend\n",
    "import pandas as pd\n",
    "import numpy as np\n",
    "from sklearn.metrics import confusion_matrix\n",
    "from sklearn.metrics import classification_report"
   ]
  },
  {
   "cell_type": "code",
   "execution_count": 2,
   "metadata": {},
   "outputs": [
    {
     "name": "stdout",
     "output_type": "stream",
     "text": [
      "Downloading data from https://storage.googleapis.com/tensorflow/tf-keras-datasets/mnist.npz\n",
      "11493376/11490434 [==============================] - 2s 0us/step\n"
     ]
    }
   ],
   "source": [
    "# Read in the data\n",
    "(x_train, y_train), (x_test, y_test) = mnist.load_data()"
   ]
  },
  {
   "cell_type": "code",
   "execution_count": 3,
   "metadata": {},
   "outputs": [
    {
     "data": {
      "text/plain": [
       "<matplotlib.image.AxesImage at 0x7fac71768e50>"
      ]
     },
     "execution_count": 3,
     "metadata": {},
     "output_type": "execute_result"
    },
    {
     "data": {
      "image/png": "[encoded data removed]",
      "text/plain": [
       "<Figure size 432x288 with 1 Axes>"
      ]
     },
     "metadata": {
      "needs_background": "light"
     },
     "output_type": "display_data"
    }
   ],
   "source": [
    "plt.imshow(x_train[0])"
   ]
  },
  {
   "cell_type": "code",
   "execution_count": 4,
   "metadata": {},
   "outputs": [],
   "source": [
    "# Prepare one-hot encoded y-values\n",
    "y_train_cat = to_categorical(y=y_train, num_classes=10)\n",
    "y_test_cat = to_categorical(y=y_test, num_classes=10)"
   ]
  },
  {
   "cell_type": "code",
   "execution_count": 5,
   "metadata": {},
   "outputs": [],
   "source": [
    "# Normalize image pixel values\n",
    "x_train = x_train / 255\n",
    "x_test = x_test / 255"
   ]
  },
  {
   "cell_type": "code",
   "execution_count": 6,
   "metadata": {},
   "outputs": [
    {
     "name": "stdout",
     "output_type": "stream",
     "text": [
      "(60000, 28, 28)\n",
      "(10000, 28, 28)\n"
     ]
    }
   ],
   "source": [
    "print(x_train.shape)\n",
    "print(x_test.shape)"
   ]
  },
  {
   "cell_type": "code",
   "execution_count": 7,
   "metadata": {},
   "outputs": [],
   "source": [
    "# Reshaping data to batch_size, width, height, color_channel\n",
    "x_train = x_train.reshape(60000, 28, 28, 1)\n",
    "x_test = x_test.reshape(10000, 28, 28, 1)"
   ]
  },
  {
   "cell_type": "code",
   "execution_count": 8,
   "metadata": {},
   "outputs": [],
   "source": [
    "# Prepare GPU\n",
    "def prep_devices():\n",
    "    phy_gpus = tf.config.list_physical_devices(device_type='GPU')\n",
    "    \n",
    "    for gpu in phy_gpus:\n",
    "        tf.config.experimental.set_memory_growth(device=gpu, enable=True)\n",
    "\n",
    "    log_gpus = tf.config.list_logical_devices(device_type='GPU')\n",
    "    phy_cpus = tf.config.list_physical_devices(device_type='CPU')\n",
    "    log_cpus = tf.config.list_logical_devices(device_type='CPU')\n",
    "\n",
    "    print(\"Physical GPUs: {}\\tLogical GPUs: {}\\nPhysical CPUs: {}\\tLogical CPUs: {}\".format(len(phy_gpus),\n",
    "                                                                                             len(log_gpus),\n",
    "                                                                                             len(phy_cpus),\n",
    "                                                                                             len(log_cpus)))"
   ]
  },
  {
   "cell_type": "code",
   "execution_count": 11,
   "metadata": {},
   "outputs": [
    {
     "name": "stdout",
     "output_type": "stream",
     "text": [
      "Physical GPUs: 1\tLogical GPUs: 1\n",
      "Physical CPUs: 1\tLogical CPUs: 1\n"
     ]
    }
   ],
   "source": [
    "os.environ['TF_CPP_MIN_LOG_LEVEL'] = '1'\n",
    "prep_devices()"
   ]
  },
  {
   "cell_type": "code",
   "execution_count": 14,
   "metadata": {},
   "outputs": [
    {
     "name": "stdout",
     "output_type": "stream",
     "text": [
      "Model: \"sequential\"\n",
      "_________________________________________________________________\n",
      "Layer (type)                 Output Shape              Param #   \n",
      "=================================================================\n",
      "conv2d (Conv2D)              (None, 25, 25, 32)        544       \n",
      "_________________________________________________________________\n",
      "max_pooling2d (MaxPooling2D) (None, 12, 12, 32)        0         \n",
      "_________________________________________________________________\n",
      "flatten (Flatten)            (None, 4608)              0         \n",
      "_________________________________________________________________\n",
      "dense (Dense)                (None, 128)               589952    \n",
      "_________________________________________________________________\n",
      "dense_1 (Dense)              (None, 10)                1290      \n",
      "=================================================================\n",
      "Total params: 591,786\n",
      "Trainable params: 591,786\n",
      "Non-trainable params: 0\n",
      "_________________________________________________________________\n"
     ]
    }
   ],
   "source": [
    "# Build model\n",
    "backend.clear_session()\n",
    "model = Sequential()\n",
    "\n",
    "model.add(Conv2D(filters=32, kernel_size=(4, 4), input_shape=(28, 28, 1), activation='relu'))\n",
    "model.add(MaxPool2D(pool_size=(2, 2)))\n",
    "model.add(Flatten())\n",
    "model.add(Dense(128, activation='relu'))\n",
    "model.add(Dense(10, activation='softmax'))\n",
    "\n",
    "model.compile(loss='categorical_crossentropy', optimizer='adam', metrics=['accuracy'])\n",
    "model.summary()\n",
    "\n",
    "# Create early stopping callback\n",
    "early_stop = EarlyStopping(monitor='val_loss', mode='min', patience=5)"
   ]
  },
  {
   "cell_type": "code",
   "execution_count": 15,
   "metadata": {},
   "outputs": [
    {
     "name": "stdout",
     "output_type": "stream",
     "text": [
      "Epoch 1/30\n",
      "1875/1875 [==============================] - 10s 5ms/step - accuracy: 0.9559 - loss: 0.1469 - val_accuracy: 0.9819 - val_loss: 0.0535\n",
      "Epoch 2/30\n",
      "1875/1875 [==============================] - 10s 5ms/step - accuracy: 0.9848 - loss: 0.0503 - val_accuracy: 0.9840 - val_loss: 0.0505\n",
      "Epoch 3/30\n",
      "1875/1875 [==============================] - 10s 5ms/step - accuracy: 0.9901 - loss: 0.0323 - val_accuracy: 0.9886 - val_loss: 0.0358\n",
      "Epoch 4/30\n",
      "1875/1875 [==============================] - 10s 5ms/step - accuracy: 0.9929 - loss: 0.0223 - val_accuracy: 0.9862 - val_loss: 0.0409\n",
      "Epoch 5/30\n",
      "1875/1875 [==============================] - 10s 5ms/step - accuracy: 0.9947 - loss: 0.0166 - val_accuracy: 0.9883 - val_loss: 0.0377\n",
      "Epoch 6/30\n",
      "1875/1875 [==============================] - 10s 5ms/step - accuracy: 0.9959 - loss: 0.0119 - val_accuracy: 0.9888 - val_loss: 0.0383\n",
      "Epoch 7/30\n",
      "1875/1875 [==============================] - 10s 5ms/step - accuracy: 0.9970 - loss: 0.0091 - val_accuracy: 0.9878 - val_loss: 0.0431\n",
      "Epoch 8/30\n",
      "1875/1875 [==============================] - 10s 5ms/step - accuracy: 0.9973 - loss: 0.0074 - val_accuracy: 0.9870 - val_loss: 0.0507\n"
     ]
    }
   ],
   "source": [
    "# Train model with force_CPU\n",
    "with tf.device(device_name='/device:cpu:0'):\n",
    "    model.fit(x=x_train, y=y_train_cat, epochs=30, validation_data=(x_test, y_test_cat), callbacks=[early_stop], verbose=1)"
   ]
  },
  {
   "cell_type": "code",
   "execution_count": 16,
   "metadata": {},
   "outputs": [],
   "source": [
    "# Model evaluation\n",
    "metrics = pd.DataFrame(model.history.history)"
   ]
  },
  {
   "cell_type": "code",
   "execution_count": 17,
   "metadata": {},
   "outputs": [
    {
     "data": {
      "text/html": [
       "<div>\n",
       "<style scoped>\n",
       "    .dataframe tbody tr th:only-of-type {\n",
       "        vertical-align: middle;\n",
       "    }\n",
       "\n",
       "    .dataframe tbody tr th {\n",
       "        vertical-align: top;\n",
       "    }\n",
       "\n",
       "    .dataframe thead th {\n",
       "        text-align: right;\n",
       "    }\n",
       "</style>\n",
       "<table border=\"1\" class=\"dataframe\">\n",
       "  <thead>\n",
       "    <tr style=\"text-align: right;\">\n",
       "      <th></th>\n",
       "      <th>loss</th>\n",
       "      <th>accuracy</th>\n",
       "      <th>val_loss</th>\n",
       "      <th>val_accuracy</th>\n",
       "    </tr>\n",
       "  </thead>\n",
       "  <tbody>\n",
       "    <tr>\n",
       "      <th>0</th>\n",
       "      <td>0.146915</td>\n",
       "      <td>0.955917</td>\n",
       "      <td>0.053456</td>\n",
       "      <td>0.9819</td>\n",
       "    </tr>\n",
       "    <tr>\n",
       "      <th>1</th>\n",
       "      <td>0.050340</td>\n",
       "      <td>0.984783</td>\n",
       "      <td>0.050500</td>\n",
       "      <td>0.9840</td>\n",
       "    </tr>\n",
       "    <tr>\n",
       "      <th>2</th>\n",
       "      <td>0.032334</td>\n",
       "      <td>0.990083</td>\n",
       "      <td>0.035762</td>\n",
       "      <td>0.9886</td>\n",
       "    </tr>\n",
       "    <tr>\n",
       "      <th>3</th>\n",
       "      <td>0.022331</td>\n",
       "      <td>0.992900</td>\n",
       "      <td>0.040884</td>\n",
       "      <td>0.9862</td>\n",
       "    </tr>\n",
       "    <tr>\n",
       "      <th>4</th>\n",
       "      <td>0.016602</td>\n",
       "      <td>0.994650</td>\n",
       "      <td>0.037700</td>\n",
       "      <td>0.9883</td>\n",
       "    </tr>\n",
       "    <tr>\n",
       "      <th>5</th>\n",
       "      <td>0.011918</td>\n",
       "      <td>0.995933</td>\n",
       "      <td>0.038303</td>\n",
       "      <td>0.9888</td>\n",
       "    </tr>\n",
       "    <tr>\n",
       "      <th>6</th>\n",
       "      <td>0.009066</td>\n",
       "      <td>0.996967</td>\n",
       "      <td>0.043054</td>\n",
       "      <td>0.9878</td>\n",
       "    </tr>\n",
       "    <tr>\n",
       "      <th>7</th>\n",
       "      <td>0.007442</td>\n",
       "      <td>0.997350</td>\n",
       "      <td>0.050692</td>\n",
       "      <td>0.9870</td>\n",
       "    </tr>\n",
       "  </tbody>\n",
       "</table>\n",
       "</div>"
      ],
      "text/plain": [
       "       loss  accuracy  val_loss  val_accuracy\n",
       "0  0.146915  0.955917  0.053456        0.9819\n",
       "1  0.050340  0.984783  0.050500        0.9840\n",
       "2  0.032334  0.990083  0.035762        0.9886\n",
       "3  0.022331  0.992900  0.040884        0.9862\n",
       "4  0.016602  0.994650  0.037700        0.9883\n",
       "5  0.011918  0.995933  0.038303        0.9888\n",
       "6  0.009066  0.996967  0.043054        0.9878\n",
       "7  0.007442  0.997350  0.050692        0.9870"
      ]
     },
     "execution_count": 17,
     "metadata": {},
     "output_type": "execute_result"
    }
   ],
   "source": [
    "metrics"
   ]
  },
  {
   "cell_type": "code",
   "execution_count": 18,
   "metadata": {},
   "outputs": [
    {
     "data": {
      "text/plain": [
       "<AxesSubplot:>"
      ]
     },
     "execution_count": 18,
     "metadata": {},
     "output_type": "execute_result"
    },
    {
     "data": {
      "image/png": "[encoded data removed]",
      "text/plain": [
       "<Figure size 432x288 with 1 Axes>"
      ]
     },
     "metadata": {
      "needs_background": "light"
     },
     "output_type": "display_data"
    }
   ],
   "source": [
    "metrics[['loss', 'val_loss']].plot()"
   ]
  },
  {
   "cell_type": "code",
   "execution_count": 19,
   "metadata": {},
   "outputs": [
    {
     "data": {
      "text/plain": [
       "<AxesSubplot:>"
      ]
     },
     "execution_count": 19,
     "metadata": {},
     "output_type": "execute_result"
    },
    {
     "data": {
      "image/png": "[encoded data removed]",
      "text/plain": [
       "<Figure size 432x288 with 1 Axes>"
      ]
     },
     "metadata": {
      "needs_background": "light"
     },
     "output_type": "display_data"
    }
   ],
   "source": [
    "metrics[['accuracy', 'val_accuracy']].plot()"
   ]
  },
  {
   "cell_type": "code",
   "execution_count": 20,
   "metadata": {},
   "outputs": [
    {
     "name": "stdout",
     "output_type": "stream",
     "text": [
      "1875/1875 [==============================] - 5s 3ms/step - accuracy: 0.9964 - loss: 0.0106\n"
     ]
    }
   ],
   "source": [
    "with tf.device(device_name='/device:cpu:0'):\n",
    "    model.evaluate(x_train, y_train_cat)"
   ]
  },
  {
   "cell_type": "code",
   "execution_count": 21,
   "metadata": {},
   "outputs": [],
   "source": [
    "# Make predictions and see classification report\n",
    "with tf.device(device_name='/device:cpu:0'):\n",
    "    y_pred = np.argmax(model.predict(x_test), axis=-1)"
   ]
  },
  {
   "cell_type": "code",
   "execution_count": 22,
   "metadata": {},
   "outputs": [
    {
     "name": "stdout",
     "output_type": "stream",
     "text": [
      "              precision    recall  f1-score   support\n",
      "\n",
      "           0       0.99      0.99      0.99       980\n",
      "           1       0.99      1.00      0.99      1135\n",
      "           2       0.97      1.00      0.98      1032\n",
      "           3       0.99      0.99      0.99      1010\n",
      "           4       0.99      0.98      0.99       982\n",
      "           5       0.99      0.99      0.99       892\n",
      "           6       1.00      0.98      0.99       958\n",
      "           7       0.98      0.99      0.99      1028\n",
      "           8       0.99      0.98      0.99       974\n",
      "           9       0.98      0.98      0.98      1009\n",
      "\n",
      "    accuracy                           0.99     10000\n",
      "   macro avg       0.99      0.99      0.99     10000\n",
      "weighted avg       0.99      0.99      0.99     10000\n",
      "\n",
      "\n",
      "\n",
      "[[ 971    0    7    0    0    1    0    1    0    0]\n",
      " [   0 1130    3    0    0    0    1    0    1    0]\n",
      " [   0    2 1028    0    0    0    0    1    1    0]\n",
      " [   0    0    4  999    0    4    0    2    0    1]\n",
      " [   0    1    2    0  966    0    1    0    0   12]\n",
      " [   1    1    0    7    0  882    1    0    0    0]\n",
      " [   9    3    1    1    1    4  938    0    1    0]\n",
      " [   0    2    6    1    0    0    0 1016    1    2]\n",
      " [   3    0    6    4    0    2    0    3  953    3]\n",
      " [   0    2    1    2    4    2    0   10    1  987]]\n"
     ]
    }
   ],
   "source": [
    "print(classification_report(y_true=np.array(y_test), y_pred=y_pred))\n",
    "print(\"\\n\")\n",
    "print(confusion_matrix(y_true=np.array(y_test), y_pred=y_pred))"
   ]
  },
  {
   "cell_type": "code",
   "execution_count": 23,
   "metadata": {},
   "outputs": [
    {
     "name": "stdout",
     "output_type": "stream",
     "text": [
      "Epoch 1/10\n",
      "1875/1875 [==============================] - 9s 5ms/step - accuracy: 0.9986 - loss: 0.0050 - val_accuracy: 0.9872 - val_loss: 0.0549\n",
      "Epoch 2/10\n",
      "1875/1875 [==============================] - 9s 5ms/step - accuracy: 0.9980 - loss: 0.0062 - val_accuracy: 0.9869 - val_loss: 0.0603\n",
      "Epoch 3/10\n",
      "1875/1875 [==============================] - 9s 5ms/step - accuracy: 0.9985 - loss: 0.0043 - val_accuracy: 0.9879 - val_loss: 0.0532\n",
      "Epoch 4/10\n",
      "1875/1875 [==============================] - 9s 5ms/step - accuracy: 0.9988 - loss: 0.0035 - val_accuracy: 0.9887 - val_loss: 0.0483\n",
      "Epoch 5/10\n",
      "1875/1875 [==============================] - 9s 5ms/step - accuracy: 0.9990 - loss: 0.0032 - val_accuracy: 0.9894 - val_loss: 0.0511\n",
      "Epoch 6/10\n",
      "1875/1875 [==============================] - 9s 5ms/step - accuracy: 0.9990 - loss: 0.0032 - val_accuracy: 0.9890 - val_loss: 0.0610\n",
      "Epoch 7/10\n",
      "1875/1875 [==============================] - 9s 5ms/step - accuracy: 0.9990 - loss: 0.0031 - val_accuracy: 0.9868 - val_loss: 0.0658\n",
      "Epoch 8/10\n",
      "1875/1875 [==============================] - 9s 5ms/step - accuracy: 0.9991 - loss: 0.0028 - val_accuracy: 0.9871 - val_loss: 0.0667\n",
      "Epoch 9/10\n",
      "1875/1875 [==============================] - 9s 5ms/step - accuracy: 0.9988 - loss: 0.0041 - val_accuracy: 0.9886 - val_loss: 0.0563\n"
     ]
    }
   ],
   "source": [
    "# Train model with force_GPU\n",
    "with tf.device(device_name='/device:gpu:0'):\n",
    "    model.fit(x=x_train, y=y_train_cat, epochs=10, validation_data=(x_test, y_test_cat), callbacks=[early_stop], verbose=1)"
   ]
  },
  {
   "cell_type": "code",
   "execution_count": 24,
   "metadata": {},
   "outputs": [
    {
     "data": {
      "text/plain": [
       "<AxesSubplot:>"
      ]
     },
     "execution_count": 24,
     "metadata": {},
     "output_type": "execute_result"
    },
    {
     "data": {
      "image/png": "[encoded data removed]",
      "text/plain": [
       "<Figure size 432x288 with 1 Axes>"
      ]
     },
     "metadata": {
      "needs_background": "light"
     },
     "output_type": "display_data"
    }
   ],
   "source": [
    "metrics[['loss', 'val_loss']].plot()"
   ]
  },
  {
   "cell_type": "code",
   "execution_count": 25,
   "metadata": {},
   "outputs": [
    {
     "data": {
      "text/plain": [
       "<AxesSubplot:>"
      ]
     },
     "execution_count": 25,
     "metadata": {},
     "output_type": "execute_result"
    },
    {
     "data": {
      "image/png": "[encoded data removed]",
      "text/plain": [
       "<Figure size 432x288 with 1 Axes>"
      ]
     },
     "metadata": {
      "needs_background": "light"
     },
     "output_type": "display_data"
    }
   ],
   "source": [
    "metrics[['accuracy', 'val_accuracy']].plot()"
   ]
  },
  {
   "cell_type": "code",
   "execution_count": 26,
   "metadata": {},
   "outputs": [
    {
     "name": "stdout",
     "output_type": "stream",
     "text": [
      "1875/1875 [==============================] - 7s 4ms/step - accuracy: 0.9997 - loss: 9.2571e-04\n"
     ]
    }
   ],
   "source": [
    "with tf.device(device_name='/device:gpu:0'):\n",
    "    model.evaluate(x_train, y_train_cat)"
   ]
  },
  {
   "cell_type": "code",
   "execution_count": 27,
   "metadata": {},
   "outputs": [],
   "source": [
    "# Make predictions and see classification report\n",
    "with tf.device(device_name='/device:gpu:0'):\n",
    "    y_pred = np.argmax(model.predict(x_test), axis=-1)"
   ]
  },
  {
   "cell_type": "code",
   "execution_count": 28,
   "metadata": {},
   "outputs": [
    {
     "name": "stdout",
     "output_type": "stream",
     "text": [
      "              precision    recall  f1-score   support\n",
      "\n",
      "           0       0.99      1.00      0.99       980\n",
      "           1       0.99      1.00      0.99      1135\n",
      "           2       0.99      0.99      0.99      1032\n",
      "           3       0.99      0.99      0.99      1010\n",
      "           4       0.98      1.00      0.99       982\n",
      "           5       0.98      0.99      0.98       892\n",
      "           6       0.99      0.99      0.99       958\n",
      "           7       0.99      0.99      0.99      1028\n",
      "           8       0.99      0.98      0.98       974\n",
      "           9       0.99      0.97      0.98      1009\n",
      "\n",
      "    accuracy                           0.99     10000\n",
      "   macro avg       0.99      0.99      0.99     10000\n",
      "weighted avg       0.99      0.99      0.99     10000\n",
      "\n",
      "\n",
      "\n",
      "[[ 976    1    0    1    0    1    0    0    1    0]\n",
      " [   0 1131    0    0    0    1    1    0    2    0]\n",
      " [   1    1 1023    0    1    0    1    4    1    0]\n",
      " [   0    0    4  998    0    5    0    1    2    0]\n",
      " [   0    0    0    0  978    0    1    0    0    3]\n",
      " [   1    0    0    5    0  883    3    0    0    0]\n",
      " [   2    2    0    0    3    2  947    0    2    0]\n",
      " [   0    2    6    2    0    0    0 1014    2    2]\n",
      " [   4    1    3    2    1    2    0    1  958    2]\n",
      " [   0    3    0    0   14    7    0    3    4  978]]\n"
     ]
    }
   ],
   "source": [
    "print(classification_report(y_true=np.array(y_test), y_pred=y_pred))\n",
    "print(\"\\n\")\n",
    "print(confusion_matrix(y_true=np.array(y_test), y_pred=y_pred))"
   ]
  },
  {
   "cell_type": "code",
   "execution_count": null,
   "metadata": {},
   "outputs": [],
   "source": []
  }
 ],
 "metadata": {
  "kernelspec": {
   "display_name": "Python 3 (ipykernel)",
   "language": "python",
   "name": "python3"
  },
  "language_info": {
   "codemirror_mode": {
    "name": "ipython",
    "version": 3
   },
   "file_extension": ".py",
   "mimetype": "text/x-python",
   "name": "python",
   "nbconvert_exporter": "python",
   "pygments_lexer": "ipython3",
   "version": "3.7.4"
  }
 },
 "nbformat": 4,
 "nbformat_minor": 4
}
