{
 "cells": [
  {
   "cell_type": "code",
   "execution_count": 1,
   "metadata": {
    "executionInfo": {
     "elapsed": 3310,
     "status": "ok",
     "timestamp": 1603803578985,
     "user": {
      "displayName": "Suvrodeep Ghosh",
      "photoUrl": "https://lh3.googleusercontent.com/a-/AOh14GhwiE2UvKn67_hf9bxw0zyZT3y8pG4ZOgUXkRNc=s64",
      "userId": "14563567282327887958"
     },
     "user_tz": -60
    },
    "id": "RKYvhOuWSvHw"
   },
   "outputs": [],
   "source": [
    "import os\n",
    "import tensorflow as tf\n",
    "import tensorflow.keras as kr\n",
    "from tensorflow.keras.models import Sequential\n",
    "from tensorflow.keras.layers import Dense, Dropout\n",
    "from tensorflow.keras.callbacks import EarlyStopping\n",
    "from tensorflow.keras import backend\n",
    "from tensorflow.keras.constraints import min_max_norm\n",
    "from tensorflow.keras import Input\n",
    "from tensorflow.keras import initializers\n",
    "import os as os\n",
    "import numpy as np\n",
    "import pandas as pd\n",
    "from sklearn.model_selection import train_test_split\n",
    "from sklearn.preprocessing import MinMaxScaler\n",
    "from sklearn import datasets"
   ]
  },
  {
   "cell_type": "code",
   "execution_count": 2,
   "metadata": {},
   "outputs": [],
   "source": [
    "# Function to initialize GPU\n",
    "def prep_gpu():\n",
    "    phy_gpus = tf.config.list_physical_devices(device_type='GPU')\n",
    "\n",
    "    for gpu in phy_gpus:\n",
    "        tf.config.experimental.set_memory_growth(device=gpu, enable=True)\n",
    "\n",
    "    log_gpus = tf.config.list_logical_devices(device_type='GPU')\n",
    "    phy_cpus = tf.config.list_physical_devices(device_type='CPU')\n",
    "    log_cpus = tf.config.list_logical_devices(device_type='CPU')\n",
    "\n",
    "    print(\"Physical GPUs: {}\\tLogical GPUs: {}\\nPhysical CPUs: {}\\tLogical CPUs: {}\".format(len(phy_gpus),\n",
    "                                                                                             len(log_gpus),\n",
    "                                                                                             len(phy_cpus),\n",
    "                                                                                             len(log_cpus)))\n"
   ]
  },
  {
   "cell_type": "code",
   "execution_count": 7,
   "metadata": {
    "executionInfo": {
     "elapsed": 1226,
     "status": "ok",
     "timestamp": 1603803604821,
     "user": {
      "displayName": "Suvrodeep Ghosh",
      "photoUrl": "https://lh3.googleusercontent.com/a-/AOh14GhwiE2UvKn67_hf9bxw0zyZT3y8pG4ZOgUXkRNc=s64",
      "userId": "14563567282327887958"
     },
     "user_tz": -60
    },
    "id": "4OiYaFIzS8bn"
   },
   "outputs": [],
   "source": [
    "# Function to synthetically generate data\n",
    "def generate_data():\n",
    "    X, y, coef = datasets.make_regression(n_samples=10000, n_features=100, n_informative=10, coef=True)\n",
    "    y = np.reshape(y, newshape=[10000, 1])\n",
    "    X_train, X_test, y_train, y_test = train_test_split(X, y, test_size=0.25)\n",
    "\n",
    "    # normalizing input features\n",
    "    scaler = MinMaxScaler()\n",
    "    scaler.fit(X_train)\n",
    "    X_train = scaler.transform(X_train)\n",
    "    X_test = scaler.transform(X_test)\n",
    "\n",
    "    return X_train, y_train, X_test, y_test, coef"
   ]
  },
  {
   "cell_type": "code",
   "execution_count": 4,
   "metadata": {},
   "outputs": [],
   "source": [
    "# Function to get data from file\n",
    "def get_data():\n",
    "    df = pd.read_csv(filepath_or_buffer='./download//DATA/fake_reg.csv')\n",
    "    X = df[['feature1', 'feature2']]\n",
    "    y = df['price']\n",
    "    X_train, X_test, y_train, y_test = train_test_split(X, y, test_size=0.3)\n",
    "    \n",
    "    # normalizing input features\n",
    "    scaler = MinMaxScaler()\n",
    "    scaler.fit(X_train)\n",
    "    X_train = scaler.transform(X_train)\n",
    "    X_test = scaler.transform(X_test)\n",
    "    \n",
    "    return X_train, y_train, X_test, y_test"
   ]
  },
  {
   "cell_type": "code",
   "execution_count": 8,
   "metadata": {
    "colab": {
     "base_uri": "https://localhost:8080/",
     "height": 302
    },
    "executionInfo": {
     "elapsed": 9560,
     "status": "ok",
     "timestamp": 1603803621234,
     "user": {
      "displayName": "Suvrodeep Ghosh",
      "photoUrl": "https://lh3.googleusercontent.com/a-/AOh14GhwiE2UvKn67_hf9bxw0zyZT3y8pG4ZOgUXkRNc=s64",
      "userId": "14563567282327887958"
     },
     "user_tz": -60
    },
    "id": "HD_SelhFTQWE",
    "outputId": "942884b9-8985-412b-83c9-e18531723996"
   },
   "outputs": [
    {
     "name": "stdout",
     "output_type": "stream",
     "text": [
      "Coefficients:\n",
      "[ 0.          0.          0.         17.60467784  0.          0.\n",
      "  0.          0.          0.          0.          0.          0.\n",
      " 86.21875626  0.         37.45859318  0.          0.          0.\n",
      "  0.          0.          0.          0.          0.          0.\n",
      "  0.         11.41566873  0.          0.          0.          0.\n",
      "  0.          0.          0.          0.          0.          0.\n",
      "  0.          0.         19.28843068  0.          8.56252728  0.\n",
      "  0.          0.          0.         62.04592869  0.          0.\n",
      " 42.56232967  0.          0.          0.          0.          0.\n",
      "  0.          0.         84.3169779   0.          0.          0.\n",
      "  0.          0.          0.          0.          0.          0.\n",
      "  0.          0.          0.          0.          0.          0.\n",
      "  0.          0.          0.          0.          0.          0.\n",
      "  0.          0.          0.          0.          0.          0.\n",
      "  0.          0.         22.52543333  0.          0.          0.\n",
      "  0.          0.          0.          0.          0.          0.\n",
      "  0.          0.          0.          0.        ]\n",
      "Training records:7500 \tTest records:2500\n"
     ]
    }
   ],
   "source": [
    "# Get training and test sets\n",
    "X_train, y_train, X_test, y_test, coef = generate_data()\n",
    "print(\"Coefficients:\\n{}\".format(coef))\n",
    "print(\"Training records:{} \\tTest records:{}\".format(len(X_train), len(X_test)))\n",
    "\n",
    "#X_train, y_train, X_test, y_test = get_data()\n",
    "#print(\"Training records:{}\\tTest records:{}\".format(len(X_train), len(X_test)))"
   ]
  },
  {
   "cell_type": "code",
   "execution_count": 9,
   "metadata": {},
   "outputs": [
    {
     "name": "stdout",
     "output_type": "stream",
     "text": [
      "Physical GPUs: 0\tLogical GPUs: 0\n",
      "Physical CPUs: 1\tLogical CPUs: 1\n"
     ]
    }
   ],
   "source": [
    "# Prepare the GPU\n",
    "os.environ['TF_CPP_MIN_LOG_LEVEL'] = '1'\n",
    "prep_gpu()"
   ]
  },
  {
   "cell_type": "code",
   "execution_count": 10,
   "metadata": {
    "executionInfo": {
     "elapsed": 1535,
     "status": "ok",
     "timestamp": 1603803625726,
     "user": {
      "displayName": "Suvrodeep Ghosh",
      "photoUrl": "https://lh3.googleusercontent.com/a-/AOh14GhwiE2UvKn67_hf9bxw0zyZT3y8pG4ZOgUXkRNc=s64",
      "userId": "14563567282327887958"
     },
     "user_tz": -60
    },
    "id": "7roklgDDTSs9"
   },
   "outputs": [
    {
     "name": "stdout",
     "output_type": "stream",
     "text": [
      "Model: \"sequential\"\n",
      "_________________________________________________________________\n",
      "Layer (type)                 Output Shape              Param #   \n",
      "=================================================================\n",
      "dense (Dense)                (None, 128)               12928     \n",
      "_________________________________________________________________\n",
      "dropout (Dropout)            (None, 128)               0         \n",
      "_________________________________________________________________\n",
      "dense_1 (Dense)              (None, 128)               16512     \n",
      "_________________________________________________________________\n",
      "dropout_1 (Dropout)          (None, 128)               0         \n",
      "_________________________________________________________________\n",
      "dense_2 (Dense)              (None, 128)               16512     \n",
      "_________________________________________________________________\n",
      "dense_3 (Dense)              (None, 1)                 129       \n",
      "=================================================================\n",
      "Total params: 46,081\n",
      "Trainable params: 46,081\n",
      "Non-trainable params: 0\n",
      "_________________________________________________________________\n"
     ]
    }
   ],
   "source": [
    "# Define model\n",
    "backend.clear_session()\n",
    "model = Sequential()\n",
    "\n",
    "model.add(Input(shape=(100,)))\n",
    "model.add(layer=Dense(128, activation='relu'))\n",
    "model.add(layer=Dropout(0.5))\n",
    "model.add(layer=Dense(128, activation='relu'))\n",
    "model.add(layer=Dropout(0.5))\n",
    "model.add(layer=Dense(128, activation='relu'))\n",
    "model.add(layer=Dense(1))\n",
    "\n",
    "model.summary()\n",
    "\n",
    "# Create early stopping callback\n",
    "early_stop = EarlyStopping(monitor='loss', mode='min', patience=5)"
   ]
  },
  {
   "cell_type": "code",
   "execution_count": 11,
   "metadata": {
    "colab": {
     "base_uri": "https://localhost:8080/",
     "height": 1000
    },
    "executionInfo": {
     "elapsed": 1803326,
     "status": "ok",
     "timestamp": 1603805460434,
     "user": {
      "displayName": "Suvrodeep Ghosh",
      "photoUrl": "https://lh3.googleusercontent.com/a-/AOh14GhwiE2UvKn67_hf9bxw0zyZT3y8pG4ZOgUXkRNc=s64",
      "userId": "14563567282327887958"
     },
     "user_tz": -60
    },
    "id": "oaSzVDt_Te4Y",
    "outputId": "68fb5cd1-08bb-4ad3-ccfe-dc29a2c0eff3",
    "scrolled": true,
    "tags": []
   },
   "outputs": [
    {
     "name": "stdout",
     "output_type": "stream",
     "text": [
      "Epoch 1/100\n",
      "750/750 [==============================] - 0s 641us/step - loss: 22696.7070\n",
      "Epoch 2/100\n",
      "750/750 [==============================] - 0s 626us/step - loss: 20390.2930\n",
      "Epoch 3/100\n",
      "750/750 [==============================] - 0s 627us/step - loss: 18950.4688\n",
      "Epoch 4/100\n",
      "750/750 [==============================] - 0s 642us/step - loss: 18274.3828\n",
      "Epoch 5/100\n",
      "750/750 [==============================] - 0s 638us/step - loss: 18086.7070\n",
      "Epoch 6/100\n",
      "750/750 [==============================] - 0s 636us/step - loss: 17671.0645\n",
      "Epoch 7/100\n",
      "750/750 [==============================] - 0s 637us/step - loss: 17271.4746\n",
      "Epoch 8/100\n",
      "750/750 [==============================] - 0s 632us/step - loss: 17329.2754\n",
      "Epoch 9/100\n",
      "750/750 [==============================] - 0s 651us/step - loss: 17287.0293\n",
      "Epoch 10/100\n",
      "750/750 [==============================] - 0s 643us/step - loss: 16872.1270\n",
      "Epoch 11/100\n",
      "750/750 [==============================] - 0s 637us/step - loss: 17009.9551\n",
      "Epoch 12/100\n",
      "750/750 [==============================] - 0s 632us/step - loss: 17123.4766\n",
      "Epoch 13/100\n",
      "750/750 [==============================] - 0s 637us/step - loss: 17137.4434\n",
      "Epoch 14/100\n",
      "750/750 [==============================] - 0s 640us/step - loss: 16685.6445\n",
      "Epoch 15/100\n",
      "750/750 [==============================] - 0s 632us/step - loss: 16692.1465\n",
      "Epoch 16/100\n",
      "750/750 [==============================] - 0s 628us/step - loss: 17141.0098\n",
      "Epoch 17/100\n",
      "750/750 [==============================] - 0s 630us/step - loss: 16818.1973\n",
      "Epoch 18/100\n",
      "750/750 [==============================] - 0s 655us/step - loss: 16651.7871\n",
      "Epoch 19/100\n",
      "750/750 [==============================] - 0s 645us/step - loss: 16744.8633\n",
      "Epoch 20/100\n",
      "750/750 [==============================] - 0s 632us/step - loss: 17144.0508\n",
      "Epoch 21/100\n",
      "750/750 [==============================] - 1s 676us/step - loss: 16665.4297\n",
      "Epoch 22/100\n",
      "750/750 [==============================] - 0s 658us/step - loss: 16464.9688\n",
      "Epoch 23/100\n",
      "750/750 [==============================] - 0s 642us/step - loss: 16740.0625\n",
      "Epoch 24/100\n",
      "750/750 [==============================] - 0s 641us/step - loss: 16587.0781\n",
      "Epoch 25/100\n",
      "750/750 [==============================] - 0s 635us/step - loss: 16790.9082\n",
      "Epoch 26/100\n",
      "750/750 [==============================] - 0s 641us/step - loss: 16401.5898\n",
      "Epoch 27/100\n",
      "750/750 [==============================] - 0s 639us/step - loss: 16615.2305\n",
      "Epoch 28/100\n",
      "750/750 [==============================] - 0s 663us/step - loss: 16506.3613\n",
      "Epoch 29/100\n",
      "750/750 [==============================] - 0s 635us/step - loss: 16404.3184\n",
      "Epoch 30/100\n",
      "750/750 [==============================] - 0s 643us/step - loss: 16653.6738\n",
      "Epoch 31/100\n",
      "750/750 [==============================] - 0s 638us/step - loss: 16523.2812\n"
     ]
    }
   ],
   "source": [
    "# Fit the model to the training data with CPU device\n",
    "custom_optimizer = tf.keras.optimizers.RMSprop(learning_rate=0.01)\n",
    "model.compile(optimizer=custom_optimizer, loss='mse')\n",
    "with tf.device(device_name='/device:cpu:0'):\n",
    "    model.fit(x=X_train, y=y_train, epochs=100, batch_size=10, verbose=1, callbacks=[early_stop])"
   ]
  },
  {
   "cell_type": "code",
   "execution_count": 12,
   "metadata": {
    "colab": {
     "base_uri": "https://localhost:8080/",
     "height": 265
    },
    "executionInfo": {
     "elapsed": 855,
     "status": "ok",
     "timestamp": 1603806079131,
     "user": {
      "displayName": "Suvrodeep Ghosh",
      "photoUrl": "https://lh3.googleusercontent.com/a-/AOh14GhwiE2UvKn67_hf9bxw0zyZT3y8pG4ZOgUXkRNc=s64",
      "userId": "14563567282327887958"
     },
     "user_tz": -60
    },
    "id": "kQjOPH9sTqG-",
    "outputId": "ff7ef23a-7d7e-4c0c-cc19-0515e5c72507"
   },
   "outputs": [
    {
     "data": {
      "text/plain": [
       "<AxesSubplot:>"
      ]
     },
     "execution_count": 12,
     "metadata": {},
     "output_type": "execute_result"
    },
    {
     "data": {
      "image/png": "[encoded data removed]",
      "text/plain": [
       "<Figure size 432x288 with 1 Axes>"
      ]
     },
     "metadata": {
      "needs_background": "light"
     },
     "output_type": "display_data"
    }
   ],
   "source": [
    "# Evaluate model performance\n",
    "df_loss = pd.DataFrame(model.history.history)\n",
    "df_loss.plot()"
   ]
  },
  {
   "cell_type": "code",
   "execution_count": 52,
   "metadata": {
    "scrolled": true
   },
   "outputs": [
    {
     "name": "stdout",
     "output_type": "stream",
     "text": [
      "Epoch 1/100\n",
      "700/700 [==============================] - 3s 4ms/step - loss: 38359.4062\n",
      "Epoch 2/100\n",
      "700/700 [==============================] - 3s 4ms/step - loss: 28834.5957\n",
      "Epoch 3/100\n",
      "700/700 [==============================] - 3s 4ms/step - loss: 24144.9434\n",
      "Epoch 4/100\n",
      "700/700 [==============================] - 3s 4ms/step - loss: 21116.0059\n",
      "Epoch 5/100\n",
      "700/700 [==============================] - 3s 4ms/step - loss: 18660.3438\n",
      "Epoch 6/100\n",
      "700/700 [==============================] - 3s 4ms/step - loss: 17048.5547\n",
      "Epoch 7/100\n",
      "700/700 [==============================] - 3s 4ms/step - loss: 15908.8271\n",
      "Epoch 8/100\n",
      "700/700 [==============================] - 3s 4ms/step - loss: 15041.1426\n",
      "Epoch 9/100\n",
      "700/700 [==============================] - 3s 4ms/step - loss: 14435.4922\n",
      "Epoch 10/100\n",
      "700/700 [==============================] - 3s 4ms/step - loss: 13896.8311\n",
      "Epoch 11/100\n",
      "700/700 [==============================] - 3s 4ms/step - loss: 13463.1895\n",
      "Epoch 12/100\n",
      "700/700 [==============================] - 3s 4ms/step - loss: 13055.6943\n",
      "Epoch 13/100\n",
      "700/700 [==============================] - 3s 4ms/step - loss: 12512.5264\n",
      "Epoch 14/100\n",
      "700/700 [==============================] - 3s 4ms/step - loss: 11953.4795\n",
      "Epoch 15/100\n",
      "700/700 [==============================] - 3s 4ms/step - loss: 11655.7773\n",
      "Epoch 16/100\n",
      "700/700 [==============================] - 3s 4ms/step - loss: 11199.8066\n",
      "Epoch 17/100\n",
      "700/700 [==============================] - 3s 4ms/step - loss: 10983.4854\n",
      "Epoch 18/100\n",
      "700/700 [==============================] - 3s 4ms/step - loss: 10769.5166\n",
      "Epoch 19/100\n",
      "700/700 [==============================] - 3s 4ms/step - loss: 10535.1113\n",
      "Epoch 20/100\n",
      "700/700 [==============================] - 3s 4ms/step - loss: 10382.4453\n",
      "Epoch 21/100\n",
      "700/700 [==============================] - 3s 4ms/step - loss: 10226.3066\n",
      "Epoch 22/100\n",
      "700/700 [==============================] - 3s 4ms/step - loss: 10001.3389\n",
      "Epoch 23/100\n",
      "700/700 [==============================] - 3s 4ms/step - loss: 9881.4424\n",
      "Epoch 24/100\n",
      "700/700 [==============================] - 3s 4ms/step - loss: 9716.2002\n",
      "Epoch 25/100\n",
      "700/700 [==============================] - 3s 4ms/step - loss: 9621.4082\n",
      "Epoch 26/100\n",
      "700/700 [==============================] - 3s 4ms/step - loss: 9433.5664\n",
      "Epoch 27/100\n",
      "700/700 [==============================] - 3s 4ms/step - loss: 9410.3066\n",
      "Epoch 28/100\n",
      "700/700 [==============================] - 3s 4ms/step - loss: 9289.8877\n",
      "Epoch 29/100\n",
      "700/700 [==============================] - 3s 4ms/step - loss: 9227.5342\n",
      "Epoch 30/100\n",
      "700/700 [==============================] - 3s 4ms/step - loss: 9084.8984\n",
      "Epoch 31/100\n",
      "700/700 [==============================] - 3s 4ms/step - loss: 9038.8271\n",
      "Epoch 32/100\n",
      "700/700 [==============================] - 3s 4ms/step - loss: 8436.8301\n",
      "Epoch 33/100\n",
      "700/700 [==============================] - 3s 4ms/step - loss: 7279.2319\n",
      "Epoch 34/100\n",
      "700/700 [==============================] - 3s 4ms/step - loss: 6823.7759\n",
      "Epoch 35/100\n",
      "700/700 [==============================] - 3s 4ms/step - loss: 6563.9541\n",
      "Epoch 36/100\n",
      "700/700 [==============================] - 3s 4ms/step - loss: 6388.9658\n",
      "Epoch 37/100\n",
      "700/700 [==============================] - 3s 4ms/step - loss: 6253.4136\n",
      "Epoch 38/100\n",
      "700/700 [==============================] - 3s 4ms/step - loss: 6129.7139\n",
      "Epoch 39/100\n",
      "700/700 [==============================] - 3s 4ms/step - loss: 6002.9731\n",
      "Epoch 40/100\n",
      "700/700 [==============================] - 3s 4ms/step - loss: 5902.2202\n",
      "Epoch 41/100\n",
      "700/700 [==============================] - 3s 4ms/step - loss: 5823.7979\n",
      "Epoch 42/100\n",
      "700/700 [==============================] - 3s 4ms/step - loss: 5685.8320\n",
      "Epoch 43/100\n",
      "700/700 [==============================] - 3s 4ms/step - loss: 5643.1172\n",
      "Epoch 44/100\n",
      "700/700 [==============================] - 3s 4ms/step - loss: 5626.8540\n",
      "Epoch 45/100\n",
      "700/700 [==============================] - 3s 4ms/step - loss: 5557.4126\n",
      "Epoch 46/100\n",
      "700/700 [==============================] - 3s 4ms/step - loss: 5491.2451\n",
      "Epoch 47/100\n",
      "700/700 [==============================] - 3s 4ms/step - loss: 5405.4932\n",
      "Epoch 48/100\n",
      "700/700 [==============================] - 3s 4ms/step - loss: 5350.5850\n",
      "Epoch 49/100\n",
      "700/700 [==============================] - 3s 4ms/step - loss: 5287.2983\n",
      "Epoch 50/100\n",
      "700/700 [==============================] - 3s 4ms/step - loss: 5269.4668\n",
      "Epoch 51/100\n",
      "700/700 [==============================] - 3s 4ms/step - loss: 5178.5752\n",
      "Epoch 52/100\n",
      "700/700 [==============================] - 3s 4ms/step - loss: 5162.8560\n",
      "Epoch 53/100\n",
      "700/700 [==============================] - 3s 4ms/step - loss: 5076.0327\n",
      "Epoch 54/100\n",
      "700/700 [==============================] - 3s 4ms/step - loss: 5065.6382\n",
      "Epoch 55/100\n",
      "700/700 [==============================] - 3s 4ms/step - loss: 5013.2974\n",
      "Epoch 56/100\n",
      "700/700 [==============================] - 3s 4ms/step - loss: 4977.2773\n",
      "Epoch 57/100\n",
      "700/700 [==============================] - 3s 4ms/step - loss: 4919.1250\n",
      "Epoch 58/100\n",
      "700/700 [==============================] - 3s 4ms/step - loss: 4898.2808\n",
      "Epoch 59/100\n",
      "700/700 [==============================] - 3s 4ms/step - loss: 4845.1113\n",
      "Epoch 60/100\n",
      "700/700 [==============================] - 3s 4ms/step - loss: 4753.9248\n",
      "Epoch 61/100\n",
      "700/700 [==============================] - 3s 4ms/step - loss: 4757.7461\n",
      "Epoch 62/100\n",
      "700/700 [==============================] - 3s 4ms/step - loss: 4708.8359\n",
      "Epoch 63/100\n",
      "700/700 [==============================] - 3s 4ms/step - loss: 4677.4854\n",
      "Epoch 64/100\n",
      "700/700 [==============================] - 3s 4ms/step - loss: 4600.1763\n",
      "Epoch 65/100\n",
      "700/700 [==============================] - 3s 4ms/step - loss: 4657.1191\n",
      "Epoch 66/100\n",
      "700/700 [==============================] - 3s 4ms/step - loss: 4542.2725\n",
      "Epoch 67/100\n",
      "700/700 [==============================] - 3s 4ms/step - loss: 4562.7456\n",
      "Epoch 68/100\n",
      "700/700 [==============================] - 3s 4ms/step - loss: 4561.0762\n",
      "Epoch 69/100\n",
      "700/700 [==============================] - 3s 4ms/step - loss: 4470.8862\n",
      "Epoch 70/100\n",
      "700/700 [==============================] - 3s 4ms/step - loss: 4465.6040\n",
      "Epoch 71/100\n",
      "700/700 [==============================] - 3s 4ms/step - loss: 4435.0435\n",
      "Epoch 72/100\n",
      "700/700 [==============================] - 3s 4ms/step - loss: 4425.0381\n",
      "Epoch 73/100\n",
      "700/700 [==============================] - 3s 4ms/step - loss: 4344.5928\n",
      "Epoch 74/100\n",
      "700/700 [==============================] - 3s 4ms/step - loss: 4312.1797\n",
      "Epoch 75/100\n",
      "700/700 [==============================] - 3s 4ms/step - loss: 4293.4189\n",
      "Epoch 76/100\n",
      "700/700 [==============================] - 3s 4ms/step - loss: 4287.3389\n",
      "Epoch 77/100\n",
      "700/700 [==============================] - 3s 4ms/step - loss: 4254.2202\n",
      "Epoch 78/100\n",
      "700/700 [==============================] - 3s 4ms/step - loss: 4224.1953\n",
      "Epoch 79/100\n",
      "700/700 [==============================] - 3s 4ms/step - loss: 4179.2188\n",
      "Epoch 80/100\n",
      "700/700 [==============================] - 3s 4ms/step - loss: 4158.9326\n",
      "Epoch 81/100\n",
      "700/700 [==============================] - 3s 4ms/step - loss: 4141.3315\n",
      "Epoch 82/100\n",
      "700/700 [==============================] - 3s 4ms/step - loss: 4154.4282\n",
      "Epoch 83/100\n",
      "700/700 [==============================] - 3s 4ms/step - loss: 4110.0962\n",
      "Epoch 84/100\n",
      "700/700 [==============================] - 3s 4ms/step - loss: 4068.8838\n",
      "Epoch 85/100\n",
      "700/700 [==============================] - 3s 4ms/step - loss: 4064.4470\n",
      "Epoch 86/100\n",
      "700/700 [==============================] - 3s 4ms/step - loss: 4025.7925\n",
      "Epoch 87/100\n",
      "700/700 [==============================] - 3s 4ms/step - loss: 4031.0981\n",
      "Epoch 88/100\n",
      "700/700 [==============================] - 3s 4ms/step - loss: 4001.9695\n",
      "Epoch 89/100\n",
      "700/700 [==============================] - 3s 4ms/step - loss: 3994.4324\n",
      "Epoch 90/100\n",
      "700/700 [==============================] - 3s 4ms/step - loss: 3952.5691\n",
      "Epoch 91/100\n",
      "700/700 [==============================] - 3s 4ms/step - loss: 3921.2432\n",
      "Epoch 92/100\n",
      "700/700 [==============================] - 3s 4ms/step - loss: 3936.3181\n",
      "Epoch 93/100\n",
      "700/700 [==============================] - 3s 4ms/step - loss: 3880.6340\n",
      "Epoch 94/100\n",
      "700/700 [==============================] - 3s 4ms/step - loss: 3874.5623\n",
      "Epoch 95/100\n",
      "700/700 [==============================] - 3s 4ms/step - loss: 3841.3528\n",
      "Epoch 96/100\n",
      "700/700 [==============================] - 3s 4ms/step - loss: 3828.9751\n",
      "Epoch 97/100\n",
      "700/700 [==============================] - 3s 4ms/step - loss: 3818.2637\n",
      "Epoch 98/100\n",
      "700/700 [==============================] - 3s 4ms/step - loss: 3778.9805\n",
      "Epoch 99/100\n",
      "700/700 [==============================] - 3s 4ms/step - loss: 3779.2622\n",
      "Epoch 100/100\n",
      "700/700 [==============================] - 3s 4ms/step - loss: 3805.8225\n"
     ]
    }
   ],
   "source": [
    "# Fit the model to the training data with GPU device\n",
    "custom_optimizer = tf.keras.optimizers.RMSprop(learning_rate=0.01)\n",
    "model.compile(optimizer=custom_optimizer, loss='mse')\n",
    "with tf.device(device_name='/device:gpu:0'):\n",
    "    model.fit(x=X_train, y=y_train, epochs=100, batch_size=1000, verbose=1, callbacks=[early_stop])"
   ]
  },
  {
   "cell_type": "code",
   "execution_count": 53,
   "metadata": {},
   "outputs": [
    {
     "data": {
      "text/plain": [
       "<AxesSubplot:>"
      ]
     },
     "execution_count": 53,
     "metadata": {},
     "output_type": "execute_result"
    },
    {
     "data": {
      "image/png": "[encoded data removed]",
      "text/plain": [
       "<Figure size 432x288 with 1 Axes>"
      ]
     },
     "metadata": {
      "needs_background": "light"
     },
     "output_type": "display_data"
    }
   ],
   "source": [
    "# Evaluate model performance\n",
    "df_loss = pd.DataFrame(model.history.history)\n",
    "df_loss.plot()"
   ]
  },
  {
   "cell_type": "code",
   "execution_count": null,
   "metadata": {},
   "outputs": [],
   "source": []
  }
 ],
 "metadata": {
  "colab": {
   "authorship_tag": "ABX9TyMYMGpUUseMeOTKiYLNJliv",
   "collapsed_sections": [],
   "name": "test.ipynb",
   "provenance": []
  },
  "kernelspec": {
   "display_name": "Python 3 (ipykernel)",
   "language": "python",
   "name": "python3"
  },
  "language_info": {
   "codemirror_mode": {
    "name": "ipython",
    "version": 3
   },
   "file_extension": ".py",
   "mimetype": "text/x-python",
   "name": "python",
   "nbconvert_exporter": "python",
   "pygments_lexer": "ipython3",
   "version": "3.7.4"
  }
 },
 "nbformat": 4,
 "nbformat_minor": 4
}
