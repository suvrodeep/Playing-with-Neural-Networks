{
 "cells": [
  {
   "cell_type": "code",
   "execution_count": 1,
   "metadata": {
    "executionInfo": {
     "elapsed": 3310,
     "status": "ok",
     "timestamp": 1603803578985,
     "user": {
      "displayName": "Suvrodeep Ghosh",
      "photoUrl": "https://lh3.googleusercontent.com/a-/AOh14GhwiE2UvKn67_hf9bxw0zyZT3y8pG4ZOgUXkRNc=s64",
      "userId": "14563567282327887958"
     },
     "user_tz": -60
    },
    "id": "RKYvhOuWSvHw"
   },
   "outputs": [],
   "source": [
    "import os\n",
    "import tensorflow as tf\n",
    "import tensorflow.keras as kr\n",
    "from tensorflow.keras.models import Sequential\n",
    "from tensorflow.keras.layers import Dense, Dropout\n",
    "from tensorflow.keras.callbacks import EarlyStopping\n",
    "from tensorflow.keras import backend\n",
    "from tensorflow.keras.constraints import min_max_norm\n",
    "from tensorflow.keras import Input\n",
    "from tensorflow.keras import initializers\n",
    "import os as os\n",
    "import numpy as np\n",
    "import pandas as pd\n",
    "from sklearn.model_selection import train_test_split\n",
    "from sklearn.preprocessing import MinMaxScaler\n",
    "from sklearn import datasets"
   ]
  },
  {
   "cell_type": "code",
   "execution_count": 2,
   "metadata": {},
   "outputs": [],
   "source": [
    "# Function to initialize GPU\n",
    "def prep_devices():\n",
    "    phy_gpus = tf.config.list_physical_devices(device_type='GPU')\n",
    "    \n",
    "    for gpu in phy_gpus:\n",
    "        tf.config.experimental.set_memory_growth(device=gpu, enable=True)\n",
    "\n",
    "    log_gpus = tf.config.list_logical_devices(device_type='GPU')\n",
    "    phy_cpus = tf.config.list_physical_devices(device_type='CPU')\n",
    "    log_cpus = tf.config.list_logical_devices(device_type='CPU')\n",
    "\n",
    "    print(\"Physical GPUs: {}\\tLogical GPUs: {}\\nPhysical CPUs: {}\\tLogical CPUs: {}\".format(len(phy_gpus),\n",
    "                                                                                             len(log_gpus),\n",
    "                                                                                             len(phy_cpus),\n",
    "                                                                                             len(log_cpus)))"
   ]
  },
  {
   "cell_type": "code",
   "execution_count": 20,
   "metadata": {
    "executionInfo": {
     "elapsed": 1226,
     "status": "ok",
     "timestamp": 1603803604821,
     "user": {
      "displayName": "Suvrodeep Ghosh",
      "photoUrl": "https://lh3.googleusercontent.com/a-/AOh14GhwiE2UvKn67_hf9bxw0zyZT3y8pG4ZOgUXkRNc=s64",
      "userId": "14563567282327887958"
     },
     "user_tz": -60
    },
    "id": "4OiYaFIzS8bn"
   },
   "outputs": [],
   "source": [
    "# Function to synthetically generate data\n",
    "def generate_data():\n",
    "    X, y, coef = datasets.make_regression(n_samples=50000, n_features=100, n_informative=10, coef=True)\n",
    "    y = np.reshape(y, newshape=[50000, 1])\n",
    "    X_train, X_test, y_train, y_test = train_test_split(X, y, test_size=0.25)\n",
    "\n",
    "    # normalizing input features\n",
    "    scaler = MinMaxScaler()\n",
    "    scaler.fit(X_train)\n",
    "    X_train = scaler.transform(X_train)\n",
    "    X_test = scaler.transform(X_test)\n",
    "\n",
    "    return X_train, y_train, X_test, y_test, coef"
   ]
  },
  {
   "cell_type": "code",
   "execution_count": 4,
   "metadata": {
    "jupyter": {
     "source_hidden": true
    },
    "tags": []
   },
   "outputs": [],
   "source": [
    "# Function to get data from file\n",
    "def get_data():\n",
    "    df = pd.read_csv(filepath_or_buffer='./download//DATA/fake_reg.csv')\n",
    "    X = df[['feature1', 'feature2']]\n",
    "    y = df['price']\n",
    "    X_train, X_test, y_train, y_test = train_test_split(X, y, test_size=0.3)\n",
    "    \n",
    "    # normalizing input features\n",
    "    scaler = MinMaxScaler()\n",
    "    scaler.fit(X_train)\n",
    "    X_train = scaler.transform(X_train)\n",
    "    X_test = scaler.transform(X_test)\n",
    "    \n",
    "    return X_train, y_train, X_test, y_test"
   ]
  },
  {
   "cell_type": "code",
   "execution_count": 21,
   "metadata": {
    "colab": {
     "base_uri": "https://localhost:8080/",
     "height": 302
    },
    "executionInfo": {
     "elapsed": 9560,
     "status": "ok",
     "timestamp": 1603803621234,
     "user": {
      "displayName": "Suvrodeep Ghosh",
      "photoUrl": "https://lh3.googleusercontent.com/a-/AOh14GhwiE2UvKn67_hf9bxw0zyZT3y8pG4ZOgUXkRNc=s64",
      "userId": "14563567282327887958"
     },
     "user_tz": -60
    },
    "id": "HD_SelhFTQWE",
    "outputId": "942884b9-8985-412b-83c9-e18531723996"
   },
   "outputs": [
    {
     "name": "stdout",
     "output_type": "stream",
     "text": [
      "Coefficients:\n",
      "[ 0.         13.13562333  0.          0.          0.          0.\n",
      "  0.          0.          0.          0.         95.16524675  0.\n",
      "  0.          0.          0.          0.          0.          0.\n",
      "  0.          0.          0.          0.          0.          0.\n",
      "  0.          0.         91.30103352  0.          0.          0.\n",
      "  0.          0.          0.          0.          0.          0.\n",
      "  0.          0.          0.          0.          0.          0.\n",
      "  0.          0.          0.          0.          0.          0.\n",
      "  0.          0.         90.62341834  0.          0.         99.86516732\n",
      "  0.          0.          0.         87.74293753  0.          0.\n",
      "  0.          0.          0.          0.          0.          0.\n",
      "  0.          0.          0.          0.          0.          0.\n",
      "  0.          0.          0.          0.         38.69426025  0.\n",
      "  0.          0.          0.          0.          0.          0.\n",
      "  0.          0.         13.11718494  0.          0.          0.\n",
      "  0.         29.17910823  0.         27.90240437  0.          0.\n",
      "  0.          0.          0.          0.        ]\n",
      "Training records:37500 \tTest records:12500\n"
     ]
    }
   ],
   "source": [
    "# Get training and test sets\n",
    "X_train, y_train, X_test, y_test, coef = generate_data()\n",
    "print(\"Coefficients:\\n{}\".format(coef))\n",
    "print(\"Training records:{} \\tTest records:{}\".format(len(X_train), len(X_test)))\n",
    "\n",
    "#X_train, y_train, X_test, y_test = get_data()\n",
    "#print(\"Training records:{}\\tTest records:{}\".format(len(X_train), len(X_test)))"
   ]
  },
  {
   "cell_type": "code",
   "execution_count": 5,
   "metadata": {},
   "outputs": [
    {
     "name": "stdout",
     "output_type": "stream",
     "text": [
      "Physical GPUs: 1\tLogical GPUs: 1\n",
      "Physical CPUs: 1\tLogical CPUs: 1\n"
     ]
    }
   ],
   "source": [
    "# Prepare the GPU\n",
    "os.environ['TF_CPP_MIN_LOG_LEVEL'] = '1'\n",
    "prep_gpu()"
   ]
  },
  {
   "cell_type": "code",
   "execution_count": 22,
   "metadata": {
    "executionInfo": {
     "elapsed": 1535,
     "status": "ok",
     "timestamp": 1603803625726,
     "user": {
      "displayName": "Suvrodeep Ghosh",
      "photoUrl": "https://lh3.googleusercontent.com/a-/AOh14GhwiE2UvKn67_hf9bxw0zyZT3y8pG4ZOgUXkRNc=s64",
      "userId": "14563567282327887958"
     },
     "user_tz": -60
    },
    "id": "7roklgDDTSs9"
   },
   "outputs": [
    {
     "name": "stdout",
     "output_type": "stream",
     "text": [
      "Model: \"sequential\"\n",
      "_________________________________________________________________\n",
      "Layer (type)                 Output Shape              Param #   \n",
      "=================================================================\n",
      "dense (Dense)                (None, 128)               12928     \n",
      "_________________________________________________________________\n",
      "dropout (Dropout)            (None, 128)               0         \n",
      "_________________________________________________________________\n",
      "dense_1 (Dense)              (None, 128)               16512     \n",
      "_________________________________________________________________\n",
      "dropout_1 (Dropout)          (None, 128)               0         \n",
      "_________________________________________________________________\n",
      "dense_2 (Dense)              (None, 128)               16512     \n",
      "_________________________________________________________________\n",
      "dense_3 (Dense)              (None, 1)                 129       \n",
      "=================================================================\n",
      "Total params: 46,081\n",
      "Trainable params: 46,081\n",
      "Non-trainable params: 0\n",
      "_________________________________________________________________\n"
     ]
    }
   ],
   "source": [
    "# Define model\n",
    "backend.clear_session()\n",
    "model = Sequential()\n",
    "\n",
    "model.add(Input(shape=(100,)))\n",
    "model.add(layer=Dense(128, activation='relu'))\n",
    "model.add(layer=Dropout(0.5))\n",
    "model.add(layer=Dense(128, activation='relu'))\n",
    "model.add(layer=Dropout(0.5))\n",
    "model.add(layer=Dense(128, activation='relu'))\n",
    "model.add(layer=Dense(1))\n",
    "\n",
    "model.summary()\n",
    "\n",
    "# Create early stopping callback\n",
    "early_stop = EarlyStopping(monitor='loss', mode='min', patience=10)"
   ]
  },
  {
   "cell_type": "code",
   "execution_count": 23,
   "metadata": {
    "colab": {
     "base_uri": "https://localhost:8080/",
     "height": 1000
    },
    "executionInfo": {
     "elapsed": 1803326,
     "status": "ok",
     "timestamp": 1603805460434,
     "user": {
      "displayName": "Suvrodeep Ghosh",
      "photoUrl": "https://lh3.googleusercontent.com/a-/AOh14GhwiE2UvKn67_hf9bxw0zyZT3y8pG4ZOgUXkRNc=s64",
      "userId": "14563567282327887958"
     },
     "user_tz": -60
    },
    "id": "oaSzVDt_Te4Y",
    "outputId": "68fb5cd1-08bb-4ad3-ccfe-dc29a2c0eff3",
    "scrolled": true,
    "tags": []
   },
   "outputs": [
    {
     "name": "stdout",
     "output_type": "stream",
     "text": [
      "Epoch 1/100\n",
      "75/75 [==============================] - 1s 7ms/step - loss: 46024.4961\n",
      "Epoch 2/100\n",
      "75/75 [==============================] - 0s 7ms/step - loss: 42358.2617\n",
      "Epoch 3/100\n",
      "75/75 [==============================] - 0s 7ms/step - loss: 39900.1953\n",
      "Epoch 4/100\n",
      "75/75 [==============================] - 0s 7ms/step - loss: 38344.1914\n",
      "Epoch 5/100\n",
      "75/75 [==============================] - 1s 7ms/step - loss: 33762.2578\n",
      "Epoch 6/100\n",
      "75/75 [==============================] - 1s 7ms/step - loss: 33869.3359\n",
      "Epoch 7/100\n",
      "75/75 [==============================] - 1s 7ms/step - loss: 30815.7363\n",
      "Epoch 8/100\n",
      "75/75 [==============================] - 0s 6ms/step - loss: 29136.7656\n",
      "Epoch 9/100\n",
      "75/75 [==============================] - 0s 6ms/step - loss: 27092.5410\n",
      "Epoch 10/100\n",
      "75/75 [==============================] - 0s 6ms/step - loss: 26813.8086\n",
      "Epoch 11/100\n",
      "75/75 [==============================] - 0s 7ms/step - loss: 25093.0684\n",
      "Epoch 12/100\n",
      "75/75 [==============================] - 0s 7ms/step - loss: 24249.6934\n",
      "Epoch 13/100\n",
      "75/75 [==============================] - 0s 7ms/step - loss: 23808.7422\n",
      "Epoch 14/100\n",
      "75/75 [==============================] - 0s 6ms/step - loss: 23075.0117\n",
      "Epoch 15/100\n",
      "75/75 [==============================] - 0s 6ms/step - loss: 22103.9375\n",
      "Epoch 16/100\n",
      "75/75 [==============================] - 0s 7ms/step - loss: 21227.1016\n",
      "Epoch 17/100\n",
      "75/75 [==============================] - 1s 7ms/step - loss: 20712.5586\n",
      "Epoch 18/100\n",
      "75/75 [==============================] - 0s 7ms/step - loss: 20785.0723\n",
      "Epoch 19/100\n",
      "75/75 [==============================] - 1s 7ms/step - loss: 19852.9043\n",
      "Epoch 20/100\n",
      "75/75 [==============================] - 0s 7ms/step - loss: 19193.8867\n",
      "Epoch 21/100\n",
      "75/75 [==============================] - 0s 6ms/step - loss: 18720.2754\n",
      "Epoch 22/100\n",
      "75/75 [==============================] - 0s 6ms/step - loss: 18483.6660\n",
      "Epoch 23/100\n",
      "75/75 [==============================] - 0s 6ms/step - loss: 17895.5352\n",
      "Epoch 24/100\n",
      "75/75 [==============================] - 0s 7ms/step - loss: 18128.9570\n",
      "Epoch 25/100\n",
      "75/75 [==============================] - 0s 6ms/step - loss: 17419.0156\n",
      "Epoch 26/100\n",
      "75/75 [==============================] - 0s 6ms/step - loss: 16931.7266\n",
      "Epoch 27/100\n",
      "75/75 [==============================] - 0s 7ms/step - loss: 16729.1367\n",
      "Epoch 28/100\n",
      "75/75 [==============================] - 1s 7ms/step - loss: 17015.7695\n",
      "Epoch 29/100\n",
      "75/75 [==============================] - 1s 7ms/step - loss: 15973.2637\n",
      "Epoch 30/100\n",
      "75/75 [==============================] - 0s 7ms/step - loss: 15693.9951\n",
      "Epoch 31/100\n",
      "75/75 [==============================] - 1s 7ms/step - loss: 15858.4111\n",
      "Epoch 32/100\n",
      "75/75 [==============================] - 0s 6ms/step - loss: 15193.7998\n",
      "Epoch 33/100\n",
      "75/75 [==============================] - 0s 7ms/step - loss: 15210.8027\n",
      "Epoch 34/100\n",
      "75/75 [==============================] - 0s 6ms/step - loss: 15018.8799\n",
      "Epoch 35/100\n",
      "75/75 [==============================] - 0s 6ms/step - loss: 14262.0713\n",
      "Epoch 36/100\n",
      "75/75 [==============================] - 0s 6ms/step - loss: 14626.5732\n",
      "Epoch 37/100\n",
      "75/75 [==============================] - 1s 7ms/step - loss: 13917.4189\n",
      "Epoch 38/100\n",
      "75/75 [==============================] - 0s 6ms/step - loss: 14118.4609\n",
      "Epoch 39/100\n",
      "75/75 [==============================] - 0s 7ms/step - loss: 14062.1982\n",
      "Epoch 40/100\n",
      "75/75 [==============================] - 0s 6ms/step - loss: 12720.6807\n",
      "Epoch 41/100\n",
      "75/75 [==============================] - 0s 6ms/step - loss: 14164.9346\n",
      "Epoch 42/100\n",
      "75/75 [==============================] - 1s 7ms/step - loss: 13299.3340\n",
      "Epoch 43/100\n",
      "75/75 [==============================] - 1s 7ms/step - loss: 13101.9785\n",
      "Epoch 44/100\n",
      "75/75 [==============================] - 1s 7ms/step - loss: 13005.1465\n",
      "Epoch 45/100\n",
      "75/75 [==============================] - 0s 6ms/step - loss: 12837.4170\n",
      "Epoch 46/100\n",
      "75/75 [==============================] - 0s 6ms/step - loss: 12481.6133\n",
      "Epoch 47/100\n",
      "75/75 [==============================] - 0s 6ms/step - loss: 12589.2852\n",
      "Epoch 48/100\n",
      "75/75 [==============================] - 0s 6ms/step - loss: 12476.4531\n",
      "Epoch 49/100\n",
      "75/75 [==============================] - 0s 6ms/step - loss: 12052.7959\n",
      "Epoch 50/100\n",
      "75/75 [==============================] - 0s 6ms/step - loss: 12341.9473\n",
      "Epoch 51/100\n",
      "75/75 [==============================] - 0s 6ms/step - loss: 12208.2334\n",
      "Epoch 52/100\n",
      "75/75 [==============================] - 0s 6ms/step - loss: 12054.4443\n",
      "Epoch 53/100\n",
      "75/75 [==============================] - 0s 6ms/step - loss: 11827.3311\n",
      "Epoch 54/100\n",
      "75/75 [==============================] - 0s 7ms/step - loss: 11735.5801\n",
      "Epoch 55/100\n",
      "75/75 [==============================] - 0s 6ms/step - loss: 11215.8848\n",
      "Epoch 56/100\n",
      "75/75 [==============================] - 1s 7ms/step - loss: 11284.3447\n",
      "Epoch 57/100\n",
      "75/75 [==============================] - 0s 6ms/step - loss: 11273.3770\n",
      "Epoch 58/100\n",
      "75/75 [==============================] - 0s 7ms/step - loss: 11326.5166\n",
      "Epoch 59/100\n",
      "75/75 [==============================] - 0s 6ms/step - loss: 10930.4248\n",
      "Epoch 60/100\n",
      "75/75 [==============================] - 0s 6ms/step - loss: 11323.1582\n",
      "Epoch 61/100\n",
      "75/75 [==============================] - 0s 6ms/step - loss: 10980.6338\n",
      "Epoch 62/100\n",
      "75/75 [==============================] - 0s 6ms/step - loss: 10732.9775\n",
      "Epoch 63/100\n",
      "75/75 [==============================] - 0s 6ms/step - loss: 10958.9570\n",
      "Epoch 64/100\n",
      "75/75 [==============================] - 0s 7ms/step - loss: 10687.1426\n",
      "Epoch 65/100\n",
      "75/75 [==============================] - 0s 6ms/step - loss: 10419.9053\n",
      "Epoch 66/100\n",
      "75/75 [==============================] - 0s 6ms/step - loss: 10483.1445\n",
      "Epoch 67/100\n",
      "75/75 [==============================] - 1s 7ms/step - loss: 10387.0322\n",
      "Epoch 68/100\n",
      "75/75 [==============================] - 0s 7ms/step - loss: 10532.5264\n",
      "Epoch 69/100\n",
      "75/75 [==============================] - 0s 7ms/step - loss: 10194.3193\n",
      "Epoch 70/100\n",
      "75/75 [==============================] - 0s 6ms/step - loss: 10197.5342\n",
      "Epoch 71/100\n",
      "75/75 [==============================] - 0s 7ms/step - loss: 10000.1875\n",
      "Epoch 72/100\n",
      "75/75 [==============================] - 0s 7ms/step - loss: 10022.6035\n",
      "Epoch 73/100\n",
      "75/75 [==============================] - 0s 7ms/step - loss: 9819.3496\n",
      "Epoch 74/100\n",
      "75/75 [==============================] - 1s 7ms/step - loss: 9810.3623\n",
      "Epoch 75/100\n",
      "75/75 [==============================] - 0s 6ms/step - loss: 9859.0908\n",
      "Epoch 76/100\n",
      "75/75 [==============================] - 0s 7ms/step - loss: 9980.5469\n",
      "Epoch 77/100\n",
      "75/75 [==============================] - 1s 7ms/step - loss: 9734.7822\n",
      "Epoch 78/100\n",
      "75/75 [==============================] - 0s 7ms/step - loss: 9498.6396\n",
      "Epoch 79/100\n",
      "75/75 [==============================] - 0s 6ms/step - loss: 9589.0576\n",
      "Epoch 80/100\n",
      "75/75 [==============================] - 0s 6ms/step - loss: 9622.8018\n",
      "Epoch 81/100\n",
      "75/75 [==============================] - 0s 7ms/step - loss: 9412.1104\n",
      "Epoch 82/100\n",
      "75/75 [==============================] - 1s 7ms/step - loss: 9405.4443\n",
      "Epoch 83/100\n",
      "75/75 [==============================] - 0s 7ms/step - loss: 9383.6045\n",
      "Epoch 84/100\n",
      "75/75 [==============================] - 1s 7ms/step - loss: 9362.0791\n",
      "Epoch 85/100\n",
      "75/75 [==============================] - 1s 7ms/step - loss: 9391.5264\n",
      "Epoch 86/100\n",
      "75/75 [==============================] - 1s 7ms/step - loss: 9358.8408\n",
      "Epoch 87/100\n",
      "75/75 [==============================] - 0s 6ms/step - loss: 9319.0078\n",
      "Epoch 88/100\n",
      "75/75 [==============================] - 1s 7ms/step - loss: 9163.4932\n",
      "Epoch 89/100\n",
      "75/75 [==============================] - 1s 7ms/step - loss: 8653.6973\n",
      "Epoch 90/100\n",
      "75/75 [==============================] - 1s 7ms/step - loss: 9122.7139\n",
      "Epoch 91/100\n",
      "75/75 [==============================] - 0s 6ms/step - loss: 8977.9424\n",
      "Epoch 92/100\n",
      "75/75 [==============================] - 1s 7ms/step - loss: 8822.3193\n",
      "Epoch 93/100\n",
      "75/75 [==============================] - 0s 7ms/step - loss: 8825.1240\n",
      "Epoch 94/100\n",
      "75/75 [==============================] - 0s 7ms/step - loss: 8879.9883\n",
      "Epoch 95/100\n",
      "75/75 [==============================] - 1s 7ms/step - loss: 8750.4023\n",
      "Epoch 96/100\n",
      "75/75 [==============================] - 0s 7ms/step - loss: 8894.1953\n",
      "Epoch 97/100\n",
      "75/75 [==============================] - 0s 6ms/step - loss: 8750.0527\n",
      "Epoch 98/100\n",
      "75/75 [==============================] - 0s 6ms/step - loss: 8571.0664\n",
      "Epoch 99/100\n",
      "75/75 [==============================] - 0s 6ms/step - loss: 8587.7715\n",
      "Epoch 100/100\n",
      "75/75 [==============================] - 0s 7ms/step - loss: 8537.7549\n"
     ]
    }
   ],
   "source": [
    "# Fit the model to the training data with CPU device\n",
    "custom_optimizer = tf.keras.optimizers.RMSprop(learning_rate=0.01)\n",
    "model.compile(optimizer=custom_optimizer, loss='mse')\n",
    "with tf.device(device_name='/device:cpu:0'):\n",
    "    model.fit(x=X_train, y=y_train, epochs=100, batch_size=500, verbose=1, callbacks=[early_stop])"
   ]
  },
  {
   "cell_type": "code",
   "execution_count": 24,
   "metadata": {
    "colab": {
     "base_uri": "https://localhost:8080/",
     "height": 265
    },
    "executionInfo": {
     "elapsed": 855,
     "status": "ok",
     "timestamp": 1603806079131,
     "user": {
      "displayName": "Suvrodeep Ghosh",
      "photoUrl": "https://lh3.googleusercontent.com/a-/AOh14GhwiE2UvKn67_hf9bxw0zyZT3y8pG4ZOgUXkRNc=s64",
      "userId": "14563567282327887958"
     },
     "user_tz": -60
    },
    "id": "kQjOPH9sTqG-",
    "outputId": "ff7ef23a-7d7e-4c0c-cc19-0515e5c72507"
   },
   "outputs": [
    {
     "data": {
      "text/plain": [
       "<AxesSubplot:>"
      ]
     },
     "execution_count": 24,
     "metadata": {},
     "output_type": "execute_result"
    },
    {
     "data": {
      "image/png": "[encoded data removed]",
      "text/plain": [
       "<Figure size 432x288 with 1 Axes>"
      ]
     },
     "metadata": {
      "needs_background": "light"
     },
     "output_type": "display_data"
    }
   ],
   "source": [
    "# Evaluate model performance\n",
    "df_loss = pd.DataFrame(model.history.history)\n",
    "df_loss.plot()"
   ]
  },
  {
   "cell_type": "code",
   "execution_count": 25,
   "metadata": {
    "scrolled": true
   },
   "outputs": [
    {
     "name": "stdout",
     "output_type": "stream",
     "text": [
      "Epoch 1/100\n",
      "75/75 [==============================] - 0s 3ms/step - loss: 9796.4512\n",
      "Epoch 2/100\n",
      "75/75 [==============================] - 0s 3ms/step - loss: 8174.7354\n",
      "Epoch 3/100\n",
      "75/75 [==============================] - 0s 3ms/step - loss: 8794.1797\n",
      "Epoch 4/100\n",
      "75/75 [==============================] - 0s 3ms/step - loss: 8408.3965\n",
      "Epoch 5/100\n",
      "75/75 [==============================] - 0s 3ms/step - loss: 8423.6445\n",
      "Epoch 6/100\n",
      "75/75 [==============================] - 0s 3ms/step - loss: 8417.0029\n",
      "Epoch 7/100\n",
      "75/75 [==============================] - 0s 3ms/step - loss: 8366.1104\n",
      "Epoch 8/100\n",
      "75/75 [==============================] - 0s 3ms/step - loss: 8364.6807\n",
      "Epoch 9/100\n",
      "75/75 [==============================] - 0s 3ms/step - loss: 8193.8438\n",
      "Epoch 10/100\n",
      "75/75 [==============================] - 0s 3ms/step - loss: 8199.1270\n",
      "Epoch 11/100\n",
      "75/75 [==============================] - 0s 3ms/step - loss: 8075.1528\n",
      "Epoch 12/100\n",
      "75/75 [==============================] - 0s 3ms/step - loss: 7902.5171\n",
      "Epoch 13/100\n",
      "75/75 [==============================] - 0s 3ms/step - loss: 8089.9053\n",
      "Epoch 14/100\n",
      "75/75 [==============================] - 0s 3ms/step - loss: 8319.7803\n",
      "Epoch 15/100\n",
      "75/75 [==============================] - 0s 3ms/step - loss: 7939.8120\n",
      "Epoch 16/100\n",
      "75/75 [==============================] - 0s 3ms/step - loss: 8121.2876\n",
      "Epoch 17/100\n",
      "75/75 [==============================] - 0s 3ms/step - loss: 8024.1187\n",
      "Epoch 18/100\n",
      "75/75 [==============================] - 0s 3ms/step - loss: 8031.0244\n",
      "Epoch 19/100\n",
      "75/75 [==============================] - 0s 3ms/step - loss: 7841.0923\n",
      "Epoch 20/100\n",
      "75/75 [==============================] - 0s 3ms/step - loss: 7838.9990\n",
      "Epoch 21/100\n",
      "75/75 [==============================] - 0s 3ms/step - loss: 7773.1440\n",
      "Epoch 22/100\n",
      "75/75 [==============================] - 0s 3ms/step - loss: 7838.7935\n",
      "Epoch 23/100\n",
      "75/75 [==============================] - 0s 3ms/step - loss: 7828.2051\n",
      "Epoch 24/100\n",
      "75/75 [==============================] - 0s 3ms/step - loss: 7759.8359\n",
      "Epoch 25/100\n",
      "75/75 [==============================] - 0s 3ms/step - loss: 7810.3149\n",
      "Epoch 26/100\n",
      "75/75 [==============================] - 0s 3ms/step - loss: 7845.1406\n",
      "Epoch 27/100\n",
      "75/75 [==============================] - 0s 3ms/step - loss: 7610.7598\n",
      "Epoch 28/100\n",
      "75/75 [==============================] - 0s 3ms/step - loss: 7708.6982\n",
      "Epoch 29/100\n",
      "75/75 [==============================] - 0s 3ms/step - loss: 7619.7061\n",
      "Epoch 30/100\n",
      "75/75 [==============================] - 0s 3ms/step - loss: 7621.1650\n",
      "Epoch 31/100\n",
      "75/75 [==============================] - 0s 3ms/step - loss: 7560.3687\n",
      "Epoch 32/100\n",
      "75/75 [==============================] - 0s 3ms/step - loss: 7461.0532\n",
      "Epoch 33/100\n",
      "75/75 [==============================] - 0s 3ms/step - loss: 7669.6372\n",
      "Epoch 34/100\n",
      "75/75 [==============================] - 0s 3ms/step - loss: 7587.6504\n",
      "Epoch 35/100\n",
      "75/75 [==============================] - 0s 3ms/step - loss: 7251.4287\n",
      "Epoch 36/100\n",
      "75/75 [==============================] - 0s 3ms/step - loss: 7482.3809\n",
      "Epoch 37/100\n",
      "75/75 [==============================] - 0s 3ms/step - loss: 7472.6528\n",
      "Epoch 38/100\n",
      "75/75 [==============================] - 0s 3ms/step - loss: 7450.5107\n",
      "Epoch 39/100\n",
      "75/75 [==============================] - 0s 3ms/step - loss: 7384.2236\n",
      "Epoch 40/100\n",
      "75/75 [==============================] - 0s 3ms/step - loss: 7286.3438\n",
      "Epoch 41/100\n",
      "75/75 [==============================] - 0s 3ms/step - loss: 7434.8706\n",
      "Epoch 42/100\n",
      "75/75 [==============================] - 0s 3ms/step - loss: 7358.1362\n",
      "Epoch 43/100\n",
      "75/75 [==============================] - 0s 3ms/step - loss: 7287.8491\n",
      "Epoch 44/100\n",
      "75/75 [==============================] - 0s 3ms/step - loss: 7295.3916\n",
      "Epoch 45/100\n",
      "75/75 [==============================] - 0s 3ms/step - loss: 7222.5986\n",
      "Epoch 46/100\n",
      "75/75 [==============================] - 0s 3ms/step - loss: 7191.4546\n",
      "Epoch 47/100\n",
      "75/75 [==============================] - 0s 3ms/step - loss: 7251.1934\n",
      "Epoch 48/100\n",
      "75/75 [==============================] - 0s 3ms/step - loss: 7181.4092\n",
      "Epoch 49/100\n",
      "75/75 [==============================] - 0s 3ms/step - loss: 7184.5537\n",
      "Epoch 50/100\n",
      "75/75 [==============================] - 0s 3ms/step - loss: 7041.8340\n",
      "Epoch 51/100\n",
      "75/75 [==============================] - 0s 3ms/step - loss: 6969.1694\n",
      "Epoch 52/100\n",
      "75/75 [==============================] - 0s 3ms/step - loss: 7107.0693\n",
      "Epoch 53/100\n",
      "75/75 [==============================] - 0s 3ms/step - loss: 7180.8569\n",
      "Epoch 54/100\n",
      "75/75 [==============================] - 0s 3ms/step - loss: 7161.3916\n",
      "Epoch 55/100\n",
      "75/75 [==============================] - 0s 3ms/step - loss: 6968.1353\n",
      "Epoch 56/100\n",
      "75/75 [==============================] - 0s 3ms/step - loss: 6980.7354\n",
      "Epoch 57/100\n",
      "75/75 [==============================] - 0s 3ms/step - loss: 7034.1089\n",
      "Epoch 58/100\n",
      "75/75 [==============================] - 0s 3ms/step - loss: 6904.8765\n",
      "Epoch 59/100\n",
      "75/75 [==============================] - 0s 3ms/step - loss: 7003.8228\n",
      "Epoch 60/100\n",
      "75/75 [==============================] - 0s 3ms/step - loss: 6897.0459\n",
      "Epoch 61/100\n",
      "75/75 [==============================] - 0s 3ms/step - loss: 6869.1904\n",
      "Epoch 62/100\n",
      "75/75 [==============================] - 0s 3ms/step - loss: 6788.0342\n",
      "Epoch 63/100\n",
      "75/75 [==============================] - 0s 3ms/step - loss: 6797.7876\n",
      "Epoch 64/100\n",
      "75/75 [==============================] - 0s 3ms/step - loss: 6753.5244\n",
      "Epoch 65/100\n",
      "75/75 [==============================] - 0s 3ms/step - loss: 6868.8022\n",
      "Epoch 66/100\n",
      "75/75 [==============================] - 0s 3ms/step - loss: 6878.0337\n",
      "Epoch 67/100\n",
      "75/75 [==============================] - 0s 3ms/step - loss: 6875.5356\n",
      "Epoch 68/100\n",
      "75/75 [==============================] - 0s 3ms/step - loss: 6828.9648\n",
      "Epoch 69/100\n",
      "75/75 [==============================] - 0s 3ms/step - loss: 6825.5757\n",
      "Epoch 70/100\n",
      "75/75 [==============================] - 0s 3ms/step - loss: 6710.6182\n",
      "Epoch 71/100\n",
      "75/75 [==============================] - 0s 3ms/step - loss: 6976.6846\n",
      "Epoch 72/100\n",
      "75/75 [==============================] - 0s 3ms/step - loss: 6724.0015\n",
      "Epoch 73/100\n",
      "75/75 [==============================] - 0s 3ms/step - loss: 6633.8198\n",
      "Epoch 74/100\n",
      "75/75 [==============================] - 0s 3ms/step - loss: 6614.8350\n",
      "Epoch 75/100\n",
      "75/75 [==============================] - 0s 3ms/step - loss: 6808.4224\n",
      "Epoch 76/100\n",
      "75/75 [==============================] - 0s 3ms/step - loss: 6614.7163\n",
      "Epoch 77/100\n",
      "75/75 [==============================] - 0s 3ms/step - loss: 6477.0454\n",
      "Epoch 78/100\n",
      "75/75 [==============================] - 0s 3ms/step - loss: 6317.3218\n",
      "Epoch 79/100\n",
      "75/75 [==============================] - 0s 3ms/step - loss: 6394.3076\n",
      "Epoch 80/100\n",
      "75/75 [==============================] - 0s 3ms/step - loss: 6688.8032\n",
      "Epoch 81/100\n",
      "75/75 [==============================] - 0s 3ms/step - loss: 6634.0269\n",
      "Epoch 82/100\n",
      "75/75 [==============================] - 0s 3ms/step - loss: 6553.1665\n",
      "Epoch 83/100\n",
      "75/75 [==============================] - 0s 3ms/step - loss: 6436.3345\n",
      "Epoch 84/100\n",
      "75/75 [==============================] - 0s 3ms/step - loss: 6417.4395\n",
      "Epoch 85/100\n",
      "75/75 [==============================] - 0s 3ms/step - loss: 6434.1865\n",
      "Epoch 86/100\n",
      "75/75 [==============================] - 0s 3ms/step - loss: 6477.8345\n",
      "Epoch 87/100\n",
      "75/75 [==============================] - 0s 3ms/step - loss: 6537.4624\n",
      "Epoch 88/100\n",
      "75/75 [==============================] - 0s 3ms/step - loss: 6534.1240\n"
     ]
    }
   ],
   "source": [
    "# Fit the model to the training data with GPU device\n",
    "custom_optimizer = tf.keras.optimizers.RMSprop(learning_rate=0.01)\n",
    "model.compile(optimizer=custom_optimizer, loss='mse')\n",
    "with tf.device(device_name='/device:gpu:0'):\n",
    "    model.fit(x=X_train, y=y_train, epochs=100, batch_size=500, verbose=1, callbacks=[early_stop])"
   ]
  },
  {
   "cell_type": "code",
   "execution_count": 26,
   "metadata": {},
   "outputs": [
    {
     "data": {
      "text/plain": [
       "<AxesSubplot:>"
      ]
     },
     "execution_count": 26,
     "metadata": {},
     "output_type": "execute_result"
    },
    {
     "data": {
      "image/png": "[encoded data removed]",
      "text/plain": [
       "<Figure size 432x288 with 1 Axes>"
      ]
     },
     "metadata": {
      "needs_background": "light"
     },
     "output_type": "display_data"
    }
   ],
   "source": [
    "# Evaluate model performance\n",
    "df_loss = pd.DataFrame(model.history.history)\n",
    "df_loss.plot()"
   ]
  },
  {
   "cell_type": "code",
   "execution_count": null,
   "metadata": {},
   "outputs": [],
   "source": []
  }
 ],
 "metadata": {
  "colab": {
   "authorship_tag": "ABX9TyMYMGpUUseMeOTKiYLNJliv",
   "collapsed_sections": [],
   "name": "test.ipynb",
   "provenance": []
  },
  "kernelspec": {
   "display_name": "Python 3 (ipykernel)",
   "language": "python",
   "name": "python3"
  },
  "language_info": {
   "codemirror_mode": {
    "name": "ipython",
    "version": 3
   },
   "file_extension": ".py",
   "mimetype": "text/x-python",
   "name": "python",
   "nbconvert_exporter": "python",
   "pygments_lexer": "ipython3",
   "version": "3.8.10"
  }
 },
 "nbformat": 4,
 "nbformat_minor": 4
}
